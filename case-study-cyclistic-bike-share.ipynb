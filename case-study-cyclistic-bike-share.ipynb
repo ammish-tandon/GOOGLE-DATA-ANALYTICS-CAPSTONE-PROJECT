{
 "cells": [
  {
   "cell_type": "markdown",
   "id": "6a5c5cce",
   "metadata": {
    "papermill": {
     "duration": 0.025709,
     "end_time": "2021-07-07T07:19:05.241233",
     "exception": false,
     "start_time": "2021-07-07T07:19:05.215524",
     "status": "completed"
    },
    "tags": []
   },
   "source": [
    "# Cyclistic Bike Share: A Case Study\n",
    "## Author: Ammish Tandon\n",
    "## Date: 07/07/2021\n",
    "## Introduction\n",
    "**Cyclistic** is a fictional bike - share company in Chicago. It has a bike - share program that features more than 5,800 bicycles and 600 docking stations. It also offers reclining bikes, hand tricycles, and cargo bikes, making bike-share more inclusive to people with disabilities and riders who can’t use a standard two-wheeled bike. The bikes can be unlocked from one station and returned to any other station in the system anytime.  \n",
    "It has 3 pricing plans:  \n",
    "* Single - Ride Passes\n",
    "* Full - Day Passes\n",
    "* Annual Memberships  \n",
    "Customers who purchase single-ride or full-day passes are referred to as **casual riders**. Customers who purchase annual memberships are **Cyclistic members**.  \n",
    "Cyclistic’s finance analysts have concluded that annual members are much more profitable than casual riders.  \n",
    "\n",
    "## Ask Phase\n",
    "\n",
    "#### **Ultimate Goal**: Design marketing strategies aimed at converting casual riders into annual members.\n",
    "#### **Business Task** (Assigned to me): To determine how annual members and casual riders use Cyclistic bikes differently.  \n",
    "### Key Stakeholders:  \n",
    "* **Primary Stakeholders** - Lily Moreno, Manager and Director of Marketing and Cyclistic Marketing Analytics Team\n",
    "* **Secondary Stakeholders** - Cyclistic Executive Team  \n",
    " \n",
    "## Prepare Phase\n",
    "**Data Source**  \n",
    "The data consists of the most recent 12 months of Cyclistic trip data available from June 2020 - May 2021. As Cyclistic is a fictional company, I have used Divvy's tripdata. To download the dataset, click here [link](https://divvy-tripdata.s3.amazonaws.com/index.html)"
   ]
  },
  {
   "cell_type": "code",
   "execution_count": 1,
   "id": "669f2eda",
   "metadata": {
    "execution": {
     "iopub.execute_input": "2021-07-07T07:19:05.295076Z",
     "iopub.status.busy": "2021-07-07T07:19:05.291753Z",
     "iopub.status.idle": "2021-07-07T07:19:06.919569Z",
     "shell.execute_reply": "2021-07-07T07:19:06.917911Z"
    },
    "papermill": {
     "duration": 1.655881,
     "end_time": "2021-07-07T07:19:06.919775",
     "exception": false,
     "start_time": "2021-07-07T07:19:05.263894",
     "status": "completed"
    },
    "tags": []
   },
   "outputs": [
    {
     "name": "stderr",
     "output_type": "stream",
     "text": [
      "── \u001b[1mAttaching packages\u001b[22m ─────────────────────────────────────── tidyverse 1.3.1 ──\n",
      "\n",
      "\u001b[32m✔\u001b[39m \u001b[34mggplot2\u001b[39m 3.3.4     \u001b[32m✔\u001b[39m \u001b[34mpurrr  \u001b[39m 0.3.4\n",
      "\u001b[32m✔\u001b[39m \u001b[34mtibble \u001b[39m 3.1.2     \u001b[32m✔\u001b[39m \u001b[34mdplyr  \u001b[39m 1.0.7\n",
      "\u001b[32m✔\u001b[39m \u001b[34mtidyr  \u001b[39m 1.1.3     \u001b[32m✔\u001b[39m \u001b[34mstringr\u001b[39m 1.4.0\n",
      "\u001b[32m✔\u001b[39m \u001b[34mreadr  \u001b[39m 1.4.0     \u001b[32m✔\u001b[39m \u001b[34mforcats\u001b[39m 0.5.1\n",
      "\n",
      "── \u001b[1mConflicts\u001b[22m ────────────────────────────────────────── tidyverse_conflicts() ──\n",
      "\u001b[31m✖\u001b[39m \u001b[34mdplyr\u001b[39m::\u001b[32mfilter()\u001b[39m masks \u001b[34mstats\u001b[39m::filter()\n",
      "\u001b[31m✖\u001b[39m \u001b[34mdplyr\u001b[39m::\u001b[32mlag()\u001b[39m    masks \u001b[34mstats\u001b[39m::lag()\n",
      "\n",
      "\n",
      "Attaching package: ‘lubridate’\n",
      "\n",
      "\n",
      "The following objects are masked from ‘package:base’:\n",
      "\n",
      "    date, intersect, setdiff, union\n",
      "\n",
      "\n",
      "\n",
      "Attaching package: ‘janitor’\n",
      "\n",
      "\n",
      "The following objects are masked from ‘package:stats’:\n",
      "\n",
      "    chisq.test, fisher.test\n",
      "\n",
      "\n"
     ]
    }
   ],
   "source": [
    "# Setting up my environment\n",
    "library(tidyverse)\n",
    "library(lubridate)\n",
    "library(skimr)\n",
    "library(janitor)\n"
   ]
  },
  {
   "cell_type": "code",
   "execution_count": 2,
   "id": "3c627320",
   "metadata": {
    "_kg_hide-output": true,
    "execution": {
     "iopub.execute_input": "2021-07-07T07:19:07.008793Z",
     "iopub.status.busy": "2021-07-07T07:19:06.974403Z",
     "iopub.status.idle": "2021-07-07T07:19:43.064783Z",
     "shell.execute_reply": "2021-07-07T07:19:43.062798Z"
    },
    "papermill": {
     "duration": 36.119593,
     "end_time": "2021-07-07T07:19:43.065022",
     "exception": false,
     "start_time": "2021-07-07T07:19:06.945429",
     "status": "completed"
    },
    "tags": []
   },
   "outputs": [
    {
     "name": "stderr",
     "output_type": "stream",
     "text": [
      "\n",
      "\u001b[36m──\u001b[39m \u001b[1m\u001b[1mColumn specification\u001b[1m\u001b[22m \u001b[36m────────────────────────────────────────────────────────\u001b[39m\n",
      "cols(\n",
      "  ride_id = \u001b[31mcol_character()\u001b[39m,\n",
      "  rideable_type = \u001b[31mcol_character()\u001b[39m,\n",
      "  started_at = \u001b[34mcol_datetime(format = \"\")\u001b[39m,\n",
      "  ended_at = \u001b[34mcol_datetime(format = \"\")\u001b[39m,\n",
      "  start_station_name = \u001b[31mcol_character()\u001b[39m,\n",
      "  start_station_id = \u001b[32mcol_double()\u001b[39m,\n",
      "  end_station_name = \u001b[31mcol_character()\u001b[39m,\n",
      "  end_station_id = \u001b[32mcol_double()\u001b[39m,\n",
      "  start_lat = \u001b[32mcol_double()\u001b[39m,\n",
      "  start_lng = \u001b[32mcol_double()\u001b[39m,\n",
      "  end_lat = \u001b[32mcol_double()\u001b[39m,\n",
      "  end_lng = \u001b[32mcol_double()\u001b[39m,\n",
      "  member_casual = \u001b[31mcol_character()\u001b[39m\n",
      ")\n",
      "\n",
      "\n",
      "\n",
      "\u001b[36m──\u001b[39m \u001b[1m\u001b[1mColumn specification\u001b[1m\u001b[22m \u001b[36m────────────────────────────────────────────────────────\u001b[39m\n",
      "cols(\n",
      "  ride_id = \u001b[31mcol_character()\u001b[39m,\n",
      "  rideable_type = \u001b[31mcol_character()\u001b[39m,\n",
      "  started_at = \u001b[34mcol_datetime(format = \"\")\u001b[39m,\n",
      "  ended_at = \u001b[34mcol_datetime(format = \"\")\u001b[39m,\n",
      "  start_station_name = \u001b[31mcol_character()\u001b[39m,\n",
      "  start_station_id = \u001b[32mcol_double()\u001b[39m,\n",
      "  end_station_name = \u001b[31mcol_character()\u001b[39m,\n",
      "  end_station_id = \u001b[32mcol_double()\u001b[39m,\n",
      "  start_lat = \u001b[32mcol_double()\u001b[39m,\n",
      "  start_lng = \u001b[32mcol_double()\u001b[39m,\n",
      "  end_lat = \u001b[32mcol_double()\u001b[39m,\n",
      "  end_lng = \u001b[32mcol_double()\u001b[39m,\n",
      "  member_casual = \u001b[31mcol_character()\u001b[39m\n",
      ")\n",
      "\n",
      "\n",
      "\n",
      "\u001b[36m──\u001b[39m \u001b[1m\u001b[1mColumn specification\u001b[1m\u001b[22m \u001b[36m────────────────────────────────────────────────────────\u001b[39m\n",
      "cols(\n",
      "  ride_id = \u001b[31mcol_character()\u001b[39m,\n",
      "  rideable_type = \u001b[31mcol_character()\u001b[39m,\n",
      "  started_at = \u001b[34mcol_datetime(format = \"\")\u001b[39m,\n",
      "  ended_at = \u001b[34mcol_datetime(format = \"\")\u001b[39m,\n",
      "  start_station_name = \u001b[31mcol_character()\u001b[39m,\n",
      "  start_station_id = \u001b[32mcol_double()\u001b[39m,\n",
      "  end_station_name = \u001b[31mcol_character()\u001b[39m,\n",
      "  end_station_id = \u001b[32mcol_double()\u001b[39m,\n",
      "  start_lat = \u001b[32mcol_double()\u001b[39m,\n",
      "  start_lng = \u001b[32mcol_double()\u001b[39m,\n",
      "  end_lat = \u001b[32mcol_double()\u001b[39m,\n",
      "  end_lng = \u001b[32mcol_double()\u001b[39m,\n",
      "  member_casual = \u001b[31mcol_character()\u001b[39m\n",
      ")\n",
      "\n",
      "\n",
      "\n",
      "\u001b[36m──\u001b[39m \u001b[1m\u001b[1mColumn specification\u001b[1m\u001b[22m \u001b[36m────────────────────────────────────────────────────────\u001b[39m\n",
      "cols(\n",
      "  ride_id = \u001b[31mcol_character()\u001b[39m,\n",
      "  rideable_type = \u001b[31mcol_character()\u001b[39m,\n",
      "  started_at = \u001b[34mcol_datetime(format = \"\")\u001b[39m,\n",
      "  ended_at = \u001b[34mcol_datetime(format = \"\")\u001b[39m,\n",
      "  start_station_name = \u001b[31mcol_character()\u001b[39m,\n",
      "  start_station_id = \u001b[32mcol_double()\u001b[39m,\n",
      "  end_station_name = \u001b[31mcol_character()\u001b[39m,\n",
      "  end_station_id = \u001b[32mcol_double()\u001b[39m,\n",
      "  start_lat = \u001b[32mcol_double()\u001b[39m,\n",
      "  start_lng = \u001b[32mcol_double()\u001b[39m,\n",
      "  end_lat = \u001b[32mcol_double()\u001b[39m,\n",
      "  end_lng = \u001b[32mcol_double()\u001b[39m,\n",
      "  member_casual = \u001b[31mcol_character()\u001b[39m\n",
      ")\n",
      "\n",
      "\n",
      "\n",
      "\u001b[36m──\u001b[39m \u001b[1m\u001b[1mColumn specification\u001b[1m\u001b[22m \u001b[36m────────────────────────────────────────────────────────\u001b[39m\n",
      "cols(\n",
      "  ride_id = \u001b[31mcol_character()\u001b[39m,\n",
      "  rideable_type = \u001b[31mcol_character()\u001b[39m,\n",
      "  started_at = \u001b[34mcol_datetime(format = \"\")\u001b[39m,\n",
      "  ended_at = \u001b[34mcol_datetime(format = \"\")\u001b[39m,\n",
      "  start_station_name = \u001b[31mcol_character()\u001b[39m,\n",
      "  start_station_id = \u001b[32mcol_double()\u001b[39m,\n",
      "  end_station_name = \u001b[31mcol_character()\u001b[39m,\n",
      "  end_station_id = \u001b[32mcol_double()\u001b[39m,\n",
      "  start_lat = \u001b[32mcol_double()\u001b[39m,\n",
      "  start_lng = \u001b[32mcol_double()\u001b[39m,\n",
      "  end_lat = \u001b[32mcol_double()\u001b[39m,\n",
      "  end_lng = \u001b[32mcol_double()\u001b[39m,\n",
      "  member_casual = \u001b[31mcol_character()\u001b[39m\n",
      ")\n",
      "\n",
      "\n",
      "\n",
      "\u001b[36m──\u001b[39m \u001b[1m\u001b[1mColumn specification\u001b[1m\u001b[22m \u001b[36m────────────────────────────────────────────────────────\u001b[39m\n",
      "cols(\n",
      "  ride_id = \u001b[31mcol_character()\u001b[39m,\n",
      "  rideable_type = \u001b[31mcol_character()\u001b[39m,\n",
      "  started_at = \u001b[34mcol_datetime(format = \"\")\u001b[39m,\n",
      "  ended_at = \u001b[34mcol_datetime(format = \"\")\u001b[39m,\n",
      "  start_station_name = \u001b[31mcol_character()\u001b[39m,\n",
      "  start_station_id = \u001b[32mcol_double()\u001b[39m,\n",
      "  end_station_name = \u001b[31mcol_character()\u001b[39m,\n",
      "  end_station_id = \u001b[32mcol_double()\u001b[39m,\n",
      "  start_lat = \u001b[32mcol_double()\u001b[39m,\n",
      "  start_lng = \u001b[32mcol_double()\u001b[39m,\n",
      "  end_lat = \u001b[32mcol_double()\u001b[39m,\n",
      "  end_lng = \u001b[32mcol_double()\u001b[39m,\n",
      "  member_casual = \u001b[31mcol_character()\u001b[39m\n",
      ")\n",
      "\n",
      "\n",
      "\n",
      "\u001b[36m──\u001b[39m \u001b[1m\u001b[1mColumn specification\u001b[1m\u001b[22m \u001b[36m────────────────────────────────────────────────────────\u001b[39m\n",
      "cols(\n",
      "  ride_id = \u001b[31mcol_character()\u001b[39m,\n",
      "  rideable_type = \u001b[31mcol_character()\u001b[39m,\n",
      "  started_at = \u001b[34mcol_datetime(format = \"\")\u001b[39m,\n",
      "  ended_at = \u001b[34mcol_datetime(format = \"\")\u001b[39m,\n",
      "  start_station_name = \u001b[31mcol_character()\u001b[39m,\n",
      "  start_station_id = \u001b[31mcol_character()\u001b[39m,\n",
      "  end_station_name = \u001b[31mcol_character()\u001b[39m,\n",
      "  end_station_id = \u001b[31mcol_character()\u001b[39m,\n",
      "  start_lat = \u001b[32mcol_double()\u001b[39m,\n",
      "  start_lng = \u001b[32mcol_double()\u001b[39m,\n",
      "  end_lat = \u001b[32mcol_double()\u001b[39m,\n",
      "  end_lng = \u001b[32mcol_double()\u001b[39m,\n",
      "  member_casual = \u001b[31mcol_character()\u001b[39m\n",
      ")\n",
      "\n",
      "\n",
      "\n",
      "\u001b[36m──\u001b[39m \u001b[1m\u001b[1mColumn specification\u001b[1m\u001b[22m \u001b[36m────────────────────────────────────────────────────────\u001b[39m\n",
      "cols(\n",
      "  ride_id = \u001b[31mcol_character()\u001b[39m,\n",
      "  rideable_type = \u001b[31mcol_character()\u001b[39m,\n",
      "  started_at = \u001b[34mcol_datetime(format = \"\")\u001b[39m,\n",
      "  ended_at = \u001b[34mcol_datetime(format = \"\")\u001b[39m,\n",
      "  start_station_name = \u001b[31mcol_character()\u001b[39m,\n",
      "  start_station_id = \u001b[31mcol_character()\u001b[39m,\n",
      "  end_station_name = \u001b[31mcol_character()\u001b[39m,\n",
      "  end_station_id = \u001b[31mcol_character()\u001b[39m,\n",
      "  start_lat = \u001b[32mcol_double()\u001b[39m,\n",
      "  start_lng = \u001b[32mcol_double()\u001b[39m,\n",
      "  end_lat = \u001b[32mcol_double()\u001b[39m,\n",
      "  end_lng = \u001b[32mcol_double()\u001b[39m,\n",
      "  member_casual = \u001b[31mcol_character()\u001b[39m\n",
      ")\n",
      "\n",
      "\n",
      "\n",
      "\u001b[36m──\u001b[39m \u001b[1m\u001b[1mColumn specification\u001b[1m\u001b[22m \u001b[36m────────────────────────────────────────────────────────\u001b[39m\n",
      "cols(\n",
      "  ride_id = \u001b[31mcol_character()\u001b[39m,\n",
      "  rideable_type = \u001b[31mcol_character()\u001b[39m,\n",
      "  started_at = \u001b[34mcol_datetime(format = \"\")\u001b[39m,\n",
      "  ended_at = \u001b[34mcol_datetime(format = \"\")\u001b[39m,\n",
      "  start_station_name = \u001b[31mcol_character()\u001b[39m,\n",
      "  start_station_id = \u001b[31mcol_character()\u001b[39m,\n",
      "  end_station_name = \u001b[31mcol_character()\u001b[39m,\n",
      "  end_station_id = \u001b[31mcol_character()\u001b[39m,\n",
      "  start_lat = \u001b[32mcol_double()\u001b[39m,\n",
      "  start_lng = \u001b[32mcol_double()\u001b[39m,\n",
      "  end_lat = \u001b[32mcol_double()\u001b[39m,\n",
      "  end_lng = \u001b[32mcol_double()\u001b[39m,\n",
      "  member_casual = \u001b[31mcol_character()\u001b[39m\n",
      ")\n",
      "\n",
      "\n",
      "\n",
      "\u001b[36m──\u001b[39m \u001b[1m\u001b[1mColumn specification\u001b[1m\u001b[22m \u001b[36m────────────────────────────────────────────────────────\u001b[39m\n",
      "cols(\n",
      "  ride_id = \u001b[31mcol_character()\u001b[39m,\n",
      "  rideable_type = \u001b[31mcol_character()\u001b[39m,\n",
      "  started_at = \u001b[34mcol_datetime(format = \"\")\u001b[39m,\n",
      "  ended_at = \u001b[34mcol_datetime(format = \"\")\u001b[39m,\n",
      "  start_station_name = \u001b[31mcol_character()\u001b[39m,\n",
      "  start_station_id = \u001b[31mcol_character()\u001b[39m,\n",
      "  end_station_name = \u001b[31mcol_character()\u001b[39m,\n",
      "  end_station_id = \u001b[31mcol_character()\u001b[39m,\n",
      "  start_lat = \u001b[32mcol_double()\u001b[39m,\n",
      "  start_lng = \u001b[32mcol_double()\u001b[39m,\n",
      "  end_lat = \u001b[32mcol_double()\u001b[39m,\n",
      "  end_lng = \u001b[32mcol_double()\u001b[39m,\n",
      "  member_casual = \u001b[31mcol_character()\u001b[39m\n",
      ")\n",
      "\n",
      "\n",
      "\n",
      "\u001b[36m──\u001b[39m \u001b[1m\u001b[1mColumn specification\u001b[1m\u001b[22m \u001b[36m────────────────────────────────────────────────────────\u001b[39m\n",
      "cols(\n",
      "  ride_id = \u001b[31mcol_character()\u001b[39m,\n",
      "  rideable_type = \u001b[31mcol_character()\u001b[39m,\n",
      "  started_at = \u001b[34mcol_datetime(format = \"\")\u001b[39m,\n",
      "  ended_at = \u001b[34mcol_datetime(format = \"\")\u001b[39m,\n",
      "  start_station_name = \u001b[31mcol_character()\u001b[39m,\n",
      "  start_station_id = \u001b[31mcol_character()\u001b[39m,\n",
      "  end_station_name = \u001b[31mcol_character()\u001b[39m,\n",
      "  end_station_id = \u001b[31mcol_character()\u001b[39m,\n",
      "  start_lat = \u001b[32mcol_double()\u001b[39m,\n",
      "  start_lng = \u001b[32mcol_double()\u001b[39m,\n",
      "  end_lat = \u001b[32mcol_double()\u001b[39m,\n",
      "  end_lng = \u001b[32mcol_double()\u001b[39m,\n",
      "  member_casual = \u001b[31mcol_character()\u001b[39m\n",
      ")\n",
      "\n",
      "\n",
      "\n",
      "\u001b[36m──\u001b[39m \u001b[1m\u001b[1mColumn specification\u001b[1m\u001b[22m \u001b[36m────────────────────────────────────────────────────────\u001b[39m\n",
      "cols(\n",
      "  ride_id = \u001b[31mcol_character()\u001b[39m,\n",
      "  rideable_type = \u001b[31mcol_character()\u001b[39m,\n",
      "  started_at = \u001b[34mcol_datetime(format = \"\")\u001b[39m,\n",
      "  ended_at = \u001b[34mcol_datetime(format = \"\")\u001b[39m,\n",
      "  start_station_name = \u001b[31mcol_character()\u001b[39m,\n",
      "  start_station_id = \u001b[31mcol_character()\u001b[39m,\n",
      "  end_station_name = \u001b[31mcol_character()\u001b[39m,\n",
      "  end_station_id = \u001b[31mcol_character()\u001b[39m,\n",
      "  start_lat = \u001b[32mcol_double()\u001b[39m,\n",
      "  start_lng = \u001b[32mcol_double()\u001b[39m,\n",
      "  end_lat = \u001b[32mcol_double()\u001b[39m,\n",
      "  end_lng = \u001b[32mcol_double()\u001b[39m,\n",
      "  member_casual = \u001b[31mcol_character()\u001b[39m\n",
      ")\n",
      "\n",
      "\n"
     ]
    }
   ],
   "source": [
    "# Loading all the data in a data frame\n",
    "tripdata_202006 <- read_csv(\"../input/cyclistic-trip-data/202006-divvy-tripdata.csv\")\n",
    "tripdata_202007 <- read_csv(\"../input/cyclistic-trip-data/202007-divvy-tripdata.csv\")\n",
    "tripdata_202008 <- read_csv(\"../input/cyclistic-trip-data/202008-divvy-tripdata.csv\")\n",
    "tripdata_202009 <- read_csv(\"../input/cyclistic-trip-data/202009-divvy-tripdata.csv\")\n",
    "tripdata_202010 <- read_csv(\"../input/cyclistic-trip-data/202010-divvy-tripdata.csv\")\n",
    "tripdata_202011 <- read_csv(\"../input/cyclistic-trip-data/202011-divvy-tripdata.csv\")\n",
    "tripdata_202012 <- read_csv(\"../input/cyclistic-trip-data/202012-divvy-tripdata.csv\")\n",
    "tripdata_202101 <- read_csv(\"../input/cyclistic-trip-data/202101-divvy-tripdata.csv\")\n",
    "tripdata_202102 <- read_csv(\"../input/cyclistic-trip-data/202102-divvy-tripdata.csv\")\n",
    "tripdata_202103 <- read_csv(\"../input/cyclistic-trip-data/202103-divvy-tripdata.csv\")\n",
    "tripdata_202104 <- read_csv(\"../input/cyclistic-trip-data/202104-divvy-tripdata.csv\")\n",
    "tripdata_202105 <- read_csv(\"../input/cyclistic-trip-data/202105-divvy-tripdata.csv\")"
   ]
  },
  {
   "cell_type": "markdown",
   "id": "4aeb3cd9",
   "metadata": {
    "papermill": {
     "duration": 0.028316,
     "end_time": "2021-07-07T07:19:43.123887",
     "exception": false,
     "start_time": "2021-07-07T07:19:43.095571",
     "status": "completed"
    },
    "tags": []
   },
   "source": [
    "To get familiar with the dataset, I'll use the head() function."
   ]
  },
  {
   "cell_type": "code",
   "execution_count": 3,
   "id": "80fe4815",
   "metadata": {
    "execution": {
     "iopub.execute_input": "2021-07-07T07:19:43.188109Z",
     "iopub.status.busy": "2021-07-07T07:19:43.185889Z",
     "iopub.status.idle": "2021-07-07T07:19:43.461047Z",
     "shell.execute_reply": "2021-07-07T07:19:43.459164Z"
    },
    "papermill": {
     "duration": 0.308529,
     "end_time": "2021-07-07T07:19:43.461217",
     "exception": false,
     "start_time": "2021-07-07T07:19:43.152688",
     "status": "completed"
    },
    "tags": []
   },
   "outputs": [
    {
     "data": {
      "text/html": [
       "<table class=\"dataframe\">\n",
       "<caption>A tibble: 6 × 13</caption>\n",
       "<thead>\n",
       "\t<tr><th scope=col>ride_id</th><th scope=col>rideable_type</th><th scope=col>started_at</th><th scope=col>ended_at</th><th scope=col>start_station_name</th><th scope=col>start_station_id</th><th scope=col>end_station_name</th><th scope=col>end_station_id</th><th scope=col>start_lat</th><th scope=col>start_lng</th><th scope=col>end_lat</th><th scope=col>end_lng</th><th scope=col>member_casual</th></tr>\n",
       "\t<tr><th scope=col>&lt;chr&gt;</th><th scope=col>&lt;chr&gt;</th><th scope=col>&lt;dttm&gt;</th><th scope=col>&lt;dttm&gt;</th><th scope=col>&lt;chr&gt;</th><th scope=col>&lt;dbl&gt;</th><th scope=col>&lt;chr&gt;</th><th scope=col>&lt;dbl&gt;</th><th scope=col>&lt;dbl&gt;</th><th scope=col>&lt;dbl&gt;</th><th scope=col>&lt;dbl&gt;</th><th scope=col>&lt;dbl&gt;</th><th scope=col>&lt;chr&gt;</th></tr>\n",
       "</thead>\n",
       "<tbody>\n",
       "\t<tr><td>8CD5DE2C2B6C4CFC</td><td>docked_bike</td><td>2020-06-13 23:24:48</td><td>2020-06-13 23:36:55</td><td><span style=white-space:pre-wrap>Wilton Ave &amp; Belmont Ave   </span></td><td>117</td><td>Damen Ave &amp; Clybourn Ave</td><td>163</td><td>41.94018</td><td>-87.65304</td><td>41.93193</td><td>-87.67786</td><td>casual</td></tr>\n",
       "\t<tr><td>9A191EB2C751D85D</td><td>docked_bike</td><td>2020-06-26 07:26:10</td><td>2020-06-26 07:31:58</td><td><span style=white-space:pre-wrap>Federal St &amp; Polk St       </span></td><td> 41</td><td><span style=white-space:pre-wrap>Daley Center Plaza      </span></td><td> 81</td><td>41.87208</td><td>-87.62954</td><td>41.88424</td><td>-87.62963</td><td>member</td></tr>\n",
       "\t<tr><td>F37D14B0B5659BCF</td><td>docked_bike</td><td>2020-06-23 17:12:41</td><td>2020-06-23 17:21:14</td><td><span style=white-space:pre-wrap>Daley Center Plaza         </span></td><td> 81</td><td><span style=white-space:pre-wrap>State St &amp; Harrison St  </span></td><td><span style=white-space:pre-wrap>  5</span></td><td>41.88424</td><td>-87.62963</td><td>41.87405</td><td>-87.62772</td><td>member</td></tr>\n",
       "\t<tr><td>C41237B506E85FA1</td><td>docked_bike</td><td>2020-06-20 01:09:35</td><td>2020-06-20 01:28:24</td><td><span style=white-space:pre-wrap>Broadway &amp; Cornelia Ave    </span></td><td>303</td><td><span style=white-space:pre-wrap>Broadway &amp; Berwyn Ave   </span></td><td>294</td><td>41.94553</td><td>-87.64644</td><td>41.97835</td><td>-87.65975</td><td>casual</td></tr>\n",
       "\t<tr><td>4B51B3B0BDA7787C</td><td>docked_bike</td><td>2020-06-25 16:59:25</td><td>2020-06-25 17:08:48</td><td>Sheffield Ave &amp; Webster Ave</td><td>327</td><td>Wilton Ave &amp; Belmont Ave</td><td>117</td><td>41.92154</td><td>-87.65382</td><td>41.94018</td><td>-87.65304</td><td>casual</td></tr>\n",
       "\t<tr><td>D50DF288196B53BE</td><td>docked_bike</td><td>2020-06-17 18:07:18</td><td>2020-06-17 18:18:14</td><td>Sheffield Ave &amp; Webster Ave</td><td>327</td><td>Wilton Ave &amp; Belmont Ave</td><td>117</td><td>41.92154</td><td>-87.65382</td><td>41.94018</td><td>-87.65304</td><td>casual</td></tr>\n",
       "</tbody>\n",
       "</table>\n"
      ],
      "text/latex": [
       "A tibble: 6 × 13\n",
       "\\begin{tabular}{lllllllllllll}\n",
       " ride\\_id & rideable\\_type & started\\_at & ended\\_at & start\\_station\\_name & start\\_station\\_id & end\\_station\\_name & end\\_station\\_id & start\\_lat & start\\_lng & end\\_lat & end\\_lng & member\\_casual\\\\\n",
       " <chr> & <chr> & <dttm> & <dttm> & <chr> & <dbl> & <chr> & <dbl> & <dbl> & <dbl> & <dbl> & <dbl> & <chr>\\\\\n",
       "\\hline\n",
       "\t 8CD5DE2C2B6C4CFC & docked\\_bike & 2020-06-13 23:24:48 & 2020-06-13 23:36:55 & Wilton Ave \\& Belmont Ave    & 117 & Damen Ave \\& Clybourn Ave & 163 & 41.94018 & -87.65304 & 41.93193 & -87.67786 & casual\\\\\n",
       "\t 9A191EB2C751D85D & docked\\_bike & 2020-06-26 07:26:10 & 2020-06-26 07:31:58 & Federal St \\& Polk St        &  41 & Daley Center Plaza       &  81 & 41.87208 & -87.62954 & 41.88424 & -87.62963 & member\\\\\n",
       "\t F37D14B0B5659BCF & docked\\_bike & 2020-06-23 17:12:41 & 2020-06-23 17:21:14 & Daley Center Plaza          &  81 & State St \\& Harrison St   &   5 & 41.88424 & -87.62963 & 41.87405 & -87.62772 & member\\\\\n",
       "\t C41237B506E85FA1 & docked\\_bike & 2020-06-20 01:09:35 & 2020-06-20 01:28:24 & Broadway \\& Cornelia Ave     & 303 & Broadway \\& Berwyn Ave    & 294 & 41.94553 & -87.64644 & 41.97835 & -87.65975 & casual\\\\\n",
       "\t 4B51B3B0BDA7787C & docked\\_bike & 2020-06-25 16:59:25 & 2020-06-25 17:08:48 & Sheffield Ave \\& Webster Ave & 327 & Wilton Ave \\& Belmont Ave & 117 & 41.92154 & -87.65382 & 41.94018 & -87.65304 & casual\\\\\n",
       "\t D50DF288196B53BE & docked\\_bike & 2020-06-17 18:07:18 & 2020-06-17 18:18:14 & Sheffield Ave \\& Webster Ave & 327 & Wilton Ave \\& Belmont Ave & 117 & 41.92154 & -87.65382 & 41.94018 & -87.65304 & casual\\\\\n",
       "\\end{tabular}\n"
      ],
      "text/markdown": [
       "\n",
       "A tibble: 6 × 13\n",
       "\n",
       "| ride_id &lt;chr&gt; | rideable_type &lt;chr&gt; | started_at &lt;dttm&gt; | ended_at &lt;dttm&gt; | start_station_name &lt;chr&gt; | start_station_id &lt;dbl&gt; | end_station_name &lt;chr&gt; | end_station_id &lt;dbl&gt; | start_lat &lt;dbl&gt; | start_lng &lt;dbl&gt; | end_lat &lt;dbl&gt; | end_lng &lt;dbl&gt; | member_casual &lt;chr&gt; |\n",
       "|---|---|---|---|---|---|---|---|---|---|---|---|---|\n",
       "| 8CD5DE2C2B6C4CFC | docked_bike | 2020-06-13 23:24:48 | 2020-06-13 23:36:55 | Wilton Ave &amp; Belmont Ave    | 117 | Damen Ave &amp; Clybourn Ave | 163 | 41.94018 | -87.65304 | 41.93193 | -87.67786 | casual |\n",
       "| 9A191EB2C751D85D | docked_bike | 2020-06-26 07:26:10 | 2020-06-26 07:31:58 | Federal St &amp; Polk St        |  41 | Daley Center Plaza       |  81 | 41.87208 | -87.62954 | 41.88424 | -87.62963 | member |\n",
       "| F37D14B0B5659BCF | docked_bike | 2020-06-23 17:12:41 | 2020-06-23 17:21:14 | Daley Center Plaza          |  81 | State St &amp; Harrison St   |   5 | 41.88424 | -87.62963 | 41.87405 | -87.62772 | member |\n",
       "| C41237B506E85FA1 | docked_bike | 2020-06-20 01:09:35 | 2020-06-20 01:28:24 | Broadway &amp; Cornelia Ave     | 303 | Broadway &amp; Berwyn Ave    | 294 | 41.94553 | -87.64644 | 41.97835 | -87.65975 | casual |\n",
       "| 4B51B3B0BDA7787C | docked_bike | 2020-06-25 16:59:25 | 2020-06-25 17:08:48 | Sheffield Ave &amp; Webster Ave | 327 | Wilton Ave &amp; Belmont Ave | 117 | 41.92154 | -87.65382 | 41.94018 | -87.65304 | casual |\n",
       "| D50DF288196B53BE | docked_bike | 2020-06-17 18:07:18 | 2020-06-17 18:18:14 | Sheffield Ave &amp; Webster Ave | 327 | Wilton Ave &amp; Belmont Ave | 117 | 41.92154 | -87.65382 | 41.94018 | -87.65304 | casual |\n",
       "\n"
      ],
      "text/plain": [
       "  ride_id          rideable_type started_at          ended_at           \n",
       "1 8CD5DE2C2B6C4CFC docked_bike   2020-06-13 23:24:48 2020-06-13 23:36:55\n",
       "2 9A191EB2C751D85D docked_bike   2020-06-26 07:26:10 2020-06-26 07:31:58\n",
       "3 F37D14B0B5659BCF docked_bike   2020-06-23 17:12:41 2020-06-23 17:21:14\n",
       "4 C41237B506E85FA1 docked_bike   2020-06-20 01:09:35 2020-06-20 01:28:24\n",
       "5 4B51B3B0BDA7787C docked_bike   2020-06-25 16:59:25 2020-06-25 17:08:48\n",
       "6 D50DF288196B53BE docked_bike   2020-06-17 18:07:18 2020-06-17 18:18:14\n",
       "  start_station_name          start_station_id end_station_name        \n",
       "1 Wilton Ave & Belmont Ave    117              Damen Ave & Clybourn Ave\n",
       "2 Federal St & Polk St         41              Daley Center Plaza      \n",
       "3 Daley Center Plaza           81              State St & Harrison St  \n",
       "4 Broadway & Cornelia Ave     303              Broadway & Berwyn Ave   \n",
       "5 Sheffield Ave & Webster Ave 327              Wilton Ave & Belmont Ave\n",
       "6 Sheffield Ave & Webster Ave 327              Wilton Ave & Belmont Ave\n",
       "  end_station_id start_lat start_lng end_lat  end_lng   member_casual\n",
       "1 163            41.94018  -87.65304 41.93193 -87.67786 casual       \n",
       "2  81            41.87208  -87.62954 41.88424 -87.62963 member       \n",
       "3   5            41.88424  -87.62963 41.87405 -87.62772 member       \n",
       "4 294            41.94553  -87.64644 41.97835 -87.65975 casual       \n",
       "5 117            41.92154  -87.65382 41.94018 -87.65304 casual       \n",
       "6 117            41.92154  -87.65382 41.94018 -87.65304 casual       "
      ]
     },
     "metadata": {},
     "output_type": "display_data"
    },
    {
     "data": {
      "text/html": [
       "<table class=\"dataframe\">\n",
       "<caption>A tibble: 6 × 13</caption>\n",
       "<thead>\n",
       "\t<tr><th scope=col>ride_id</th><th scope=col>rideable_type</th><th scope=col>started_at</th><th scope=col>ended_at</th><th scope=col>start_station_name</th><th scope=col>start_station_id</th><th scope=col>end_station_name</th><th scope=col>end_station_id</th><th scope=col>start_lat</th><th scope=col>start_lng</th><th scope=col>end_lat</th><th scope=col>end_lng</th><th scope=col>member_casual</th></tr>\n",
       "\t<tr><th scope=col>&lt;chr&gt;</th><th scope=col>&lt;chr&gt;</th><th scope=col>&lt;dttm&gt;</th><th scope=col>&lt;dttm&gt;</th><th scope=col>&lt;chr&gt;</th><th scope=col>&lt;dbl&gt;</th><th scope=col>&lt;chr&gt;</th><th scope=col>&lt;dbl&gt;</th><th scope=col>&lt;dbl&gt;</th><th scope=col>&lt;dbl&gt;</th><th scope=col>&lt;dbl&gt;</th><th scope=col>&lt;dbl&gt;</th><th scope=col>&lt;chr&gt;</th></tr>\n",
       "</thead>\n",
       "<tbody>\n",
       "\t<tr><td>762198876D69004D</td><td>docked_bike</td><td>2020-07-09 15:22:02</td><td>2020-07-09 15:25:52</td><td><span style=white-space:pre-wrap>Ritchie Ct &amp; Banks St        </span></td><td>180</td><td>Wells St &amp; Evergreen Ave </td><td>291</td><td>41.90687</td><td>-87.62622</td><td>41.90672</td><td>-87.63483</td><td>member</td></tr>\n",
       "\t<tr><td>BEC9C9FBA0D4CF1B</td><td>docked_bike</td><td>2020-07-24 23:56:30</td><td>2020-07-25 00:20:17</td><td><span style=white-space:pre-wrap>Halsted St &amp; Roscoe St       </span></td><td>299</td><td><span style=white-space:pre-wrap>Broadway &amp; Ridge Ave     </span></td><td>461</td><td>41.94367</td><td>-87.64895</td><td>41.98404</td><td>-87.66027</td><td>member</td></tr>\n",
       "\t<tr><td>D2FD8EA432C77EC1</td><td>docked_bike</td><td>2020-07-08 19:49:07</td><td>2020-07-08 19:56:22</td><td>Lake Shore Dr &amp; Diversey Pkwy</td><td>329</td><td>Clark St &amp; Wellington Ave</td><td>156</td><td>41.93259</td><td>-87.63643</td><td>41.93650</td><td>-87.64754</td><td>casual</td></tr>\n",
       "\t<tr><td>54AE594E20B35881</td><td>docked_bike</td><td>2020-07-17 19:06:42</td><td>2020-07-17 19:27:38</td><td><span style=white-space:pre-wrap>LaSalle St &amp; Illinois St     </span></td><td>181</td><td><span style=white-space:pre-wrap>Clark St &amp; Armitage Ave  </span></td><td> 94</td><td>41.89076</td><td>-87.63170</td><td>41.91831</td><td>-87.63628</td><td>casual</td></tr>\n",
       "\t<tr><td>54025FDC7440B56F</td><td>docked_bike</td><td>2020-07-04 10:39:57</td><td>2020-07-04 10:45:05</td><td><span style=white-space:pre-wrap>Lake Shore Dr &amp; North Blvd   </span></td><td>268</td><td><span style=white-space:pre-wrap>Clark St &amp; Schiller St   </span></td><td>301</td><td>41.91172</td><td>-87.62680</td><td>41.90799</td><td>-87.63150</td><td>member</td></tr>\n",
       "\t<tr><td>65636B619E24257F</td><td>docked_bike</td><td>2020-07-28 16:33:03</td><td>2020-07-28 16:49:10</td><td><span style=white-space:pre-wrap>Fairbanks St &amp; Superior St   </span></td><td>635</td><td><span style=white-space:pre-wrap>Wells St &amp; Concord Ln    </span></td><td>289</td><td>41.89575</td><td>-87.62010</td><td>41.91213</td><td>-87.63466</td><td>casual</td></tr>\n",
       "</tbody>\n",
       "</table>\n"
      ],
      "text/latex": [
       "A tibble: 6 × 13\n",
       "\\begin{tabular}{lllllllllllll}\n",
       " ride\\_id & rideable\\_type & started\\_at & ended\\_at & start\\_station\\_name & start\\_station\\_id & end\\_station\\_name & end\\_station\\_id & start\\_lat & start\\_lng & end\\_lat & end\\_lng & member\\_casual\\\\\n",
       " <chr> & <chr> & <dttm> & <dttm> & <chr> & <dbl> & <chr> & <dbl> & <dbl> & <dbl> & <dbl> & <dbl> & <chr>\\\\\n",
       "\\hline\n",
       "\t 762198876D69004D & docked\\_bike & 2020-07-09 15:22:02 & 2020-07-09 15:25:52 & Ritchie Ct \\& Banks St         & 180 & Wells St \\& Evergreen Ave  & 291 & 41.90687 & -87.62622 & 41.90672 & -87.63483 & member\\\\\n",
       "\t BEC9C9FBA0D4CF1B & docked\\_bike & 2020-07-24 23:56:30 & 2020-07-25 00:20:17 & Halsted St \\& Roscoe St        & 299 & Broadway \\& Ridge Ave      & 461 & 41.94367 & -87.64895 & 41.98404 & -87.66027 & member\\\\\n",
       "\t D2FD8EA432C77EC1 & docked\\_bike & 2020-07-08 19:49:07 & 2020-07-08 19:56:22 & Lake Shore Dr \\& Diversey Pkwy & 329 & Clark St \\& Wellington Ave & 156 & 41.93259 & -87.63643 & 41.93650 & -87.64754 & casual\\\\\n",
       "\t 54AE594E20B35881 & docked\\_bike & 2020-07-17 19:06:42 & 2020-07-17 19:27:38 & LaSalle St \\& Illinois St      & 181 & Clark St \\& Armitage Ave   &  94 & 41.89076 & -87.63170 & 41.91831 & -87.63628 & casual\\\\\n",
       "\t 54025FDC7440B56F & docked\\_bike & 2020-07-04 10:39:57 & 2020-07-04 10:45:05 & Lake Shore Dr \\& North Blvd    & 268 & Clark St \\& Schiller St    & 301 & 41.91172 & -87.62680 & 41.90799 & -87.63150 & member\\\\\n",
       "\t 65636B619E24257F & docked\\_bike & 2020-07-28 16:33:03 & 2020-07-28 16:49:10 & Fairbanks St \\& Superior St    & 635 & Wells St \\& Concord Ln     & 289 & 41.89575 & -87.62010 & 41.91213 & -87.63466 & casual\\\\\n",
       "\\end{tabular}\n"
      ],
      "text/markdown": [
       "\n",
       "A tibble: 6 × 13\n",
       "\n",
       "| ride_id &lt;chr&gt; | rideable_type &lt;chr&gt; | started_at &lt;dttm&gt; | ended_at &lt;dttm&gt; | start_station_name &lt;chr&gt; | start_station_id &lt;dbl&gt; | end_station_name &lt;chr&gt; | end_station_id &lt;dbl&gt; | start_lat &lt;dbl&gt; | start_lng &lt;dbl&gt; | end_lat &lt;dbl&gt; | end_lng &lt;dbl&gt; | member_casual &lt;chr&gt; |\n",
       "|---|---|---|---|---|---|---|---|---|---|---|---|---|\n",
       "| 762198876D69004D | docked_bike | 2020-07-09 15:22:02 | 2020-07-09 15:25:52 | Ritchie Ct &amp; Banks St         | 180 | Wells St &amp; Evergreen Ave  | 291 | 41.90687 | -87.62622 | 41.90672 | -87.63483 | member |\n",
       "| BEC9C9FBA0D4CF1B | docked_bike | 2020-07-24 23:56:30 | 2020-07-25 00:20:17 | Halsted St &amp; Roscoe St        | 299 | Broadway &amp; Ridge Ave      | 461 | 41.94367 | -87.64895 | 41.98404 | -87.66027 | member |\n",
       "| D2FD8EA432C77EC1 | docked_bike | 2020-07-08 19:49:07 | 2020-07-08 19:56:22 | Lake Shore Dr &amp; Diversey Pkwy | 329 | Clark St &amp; Wellington Ave | 156 | 41.93259 | -87.63643 | 41.93650 | -87.64754 | casual |\n",
       "| 54AE594E20B35881 | docked_bike | 2020-07-17 19:06:42 | 2020-07-17 19:27:38 | LaSalle St &amp; Illinois St      | 181 | Clark St &amp; Armitage Ave   |  94 | 41.89076 | -87.63170 | 41.91831 | -87.63628 | casual |\n",
       "| 54025FDC7440B56F | docked_bike | 2020-07-04 10:39:57 | 2020-07-04 10:45:05 | Lake Shore Dr &amp; North Blvd    | 268 | Clark St &amp; Schiller St    | 301 | 41.91172 | -87.62680 | 41.90799 | -87.63150 | member |\n",
       "| 65636B619E24257F | docked_bike | 2020-07-28 16:33:03 | 2020-07-28 16:49:10 | Fairbanks St &amp; Superior St    | 635 | Wells St &amp; Concord Ln     | 289 | 41.89575 | -87.62010 | 41.91213 | -87.63466 | casual |\n",
       "\n"
      ],
      "text/plain": [
       "  ride_id          rideable_type started_at          ended_at           \n",
       "1 762198876D69004D docked_bike   2020-07-09 15:22:02 2020-07-09 15:25:52\n",
       "2 BEC9C9FBA0D4CF1B docked_bike   2020-07-24 23:56:30 2020-07-25 00:20:17\n",
       "3 D2FD8EA432C77EC1 docked_bike   2020-07-08 19:49:07 2020-07-08 19:56:22\n",
       "4 54AE594E20B35881 docked_bike   2020-07-17 19:06:42 2020-07-17 19:27:38\n",
       "5 54025FDC7440B56F docked_bike   2020-07-04 10:39:57 2020-07-04 10:45:05\n",
       "6 65636B619E24257F docked_bike   2020-07-28 16:33:03 2020-07-28 16:49:10\n",
       "  start_station_name            start_station_id end_station_name         \n",
       "1 Ritchie Ct & Banks St         180              Wells St & Evergreen Ave \n",
       "2 Halsted St & Roscoe St        299              Broadway & Ridge Ave     \n",
       "3 Lake Shore Dr & Diversey Pkwy 329              Clark St & Wellington Ave\n",
       "4 LaSalle St & Illinois St      181              Clark St & Armitage Ave  \n",
       "5 Lake Shore Dr & North Blvd    268              Clark St & Schiller St   \n",
       "6 Fairbanks St & Superior St    635              Wells St & Concord Ln    \n",
       "  end_station_id start_lat start_lng end_lat  end_lng   member_casual\n",
       "1 291            41.90687  -87.62622 41.90672 -87.63483 member       \n",
       "2 461            41.94367  -87.64895 41.98404 -87.66027 member       \n",
       "3 156            41.93259  -87.63643 41.93650 -87.64754 casual       \n",
       "4  94            41.89076  -87.63170 41.91831 -87.63628 casual       \n",
       "5 301            41.91172  -87.62680 41.90799 -87.63150 member       \n",
       "6 289            41.89575  -87.62010 41.91213 -87.63466 casual       "
      ]
     },
     "metadata": {},
     "output_type": "display_data"
    },
    {
     "data": {
      "text/html": [
       "<table class=\"dataframe\">\n",
       "<caption>A tibble: 6 × 13</caption>\n",
       "<thead>\n",
       "\t<tr><th scope=col>ride_id</th><th scope=col>rideable_type</th><th scope=col>started_at</th><th scope=col>ended_at</th><th scope=col>start_station_name</th><th scope=col>start_station_id</th><th scope=col>end_station_name</th><th scope=col>end_station_id</th><th scope=col>start_lat</th><th scope=col>start_lng</th><th scope=col>end_lat</th><th scope=col>end_lng</th><th scope=col>member_casual</th></tr>\n",
       "\t<tr><th scope=col>&lt;chr&gt;</th><th scope=col>&lt;chr&gt;</th><th scope=col>&lt;dttm&gt;</th><th scope=col>&lt;dttm&gt;</th><th scope=col>&lt;chr&gt;</th><th scope=col>&lt;dbl&gt;</th><th scope=col>&lt;chr&gt;</th><th scope=col>&lt;dbl&gt;</th><th scope=col>&lt;dbl&gt;</th><th scope=col>&lt;dbl&gt;</th><th scope=col>&lt;dbl&gt;</th><th scope=col>&lt;dbl&gt;</th><th scope=col>&lt;chr&gt;</th></tr>\n",
       "</thead>\n",
       "<tbody>\n",
       "\t<tr><td>322BD23D287743ED</td><td><span style=white-space:pre-wrap>docked_bike  </span></td><td>2020-08-20 18:08:14</td><td>2020-08-20 18:17:51</td><td>Lake Shore Dr &amp; Diversey Pkwy</td><td>329</td><td><span style=white-space:pre-wrap>Clark St &amp; Lincoln Ave  </span></td><td>141</td><td>41.93259</td><td>-87.63643</td><td>41.91569</td><td>-87.63460</td><td>member</td></tr>\n",
       "\t<tr><td>2A3AEF1AB9054D8B</td><td>electric_bike</td><td>2020-08-27 18:46:04</td><td>2020-08-27 19:54:51</td><td><span style=white-space:pre-wrap>Michigan Ave &amp; 14th St       </span></td><td>168</td><td><span style=white-space:pre-wrap>Michigan Ave &amp; 14th St  </span></td><td>168</td><td>41.86438</td><td>-87.62368</td><td>41.86422</td><td>-87.62344</td><td>casual</td></tr>\n",
       "\t<tr><td>67DC1D133E8B5816</td><td>electric_bike</td><td>2020-08-26 19:44:14</td><td>2020-08-26 21:53:07</td><td><span style=white-space:pre-wrap>Columbus Dr &amp; Randolph St    </span></td><td>195</td><td><span style=white-space:pre-wrap>State St &amp; Randolph St  </span></td><td> 44</td><td>41.88464</td><td>-87.61955</td><td>41.88497</td><td>-87.62757</td><td>casual</td></tr>\n",
       "\t<tr><td>C79FBBD412E578A7</td><td>electric_bike</td><td>2020-08-27 12:05:41</td><td>2020-08-27 12:53:45</td><td><span style=white-space:pre-wrap>Daley Center Plaza           </span></td><td> 81</td><td><span style=white-space:pre-wrap>State St &amp; Kinzie St    </span></td><td> 47</td><td>41.88409</td><td>-87.62964</td><td>41.88958</td><td>-87.62754</td><td>casual</td></tr>\n",
       "\t<tr><td>13814D3D661ECADB</td><td>electric_bike</td><td>2020-08-27 16:49:02</td><td>2020-08-27 16:59:49</td><td><span style=white-space:pre-wrap>Leavitt St &amp; Division St     </span></td><td>658</td><td>Leavitt St &amp; Division St</td><td>658</td><td>41.90299</td><td>-87.68377</td><td>41.90300</td><td>-87.68384</td><td>casual</td></tr>\n",
       "\t<tr><td>56349A5A42F0AE51</td><td>electric_bike</td><td>2020-08-27 17:26:23</td><td>2020-08-27 18:07:50</td><td><span style=white-space:pre-wrap>Leavitt St &amp; Division St     </span></td><td>658</td><td>Leavitt St &amp; Division St</td><td>658</td><td>41.90302</td><td>-87.68373</td><td>41.90309</td><td>-87.68363</td><td>casual</td></tr>\n",
       "</tbody>\n",
       "</table>\n"
      ],
      "text/latex": [
       "A tibble: 6 × 13\n",
       "\\begin{tabular}{lllllllllllll}\n",
       " ride\\_id & rideable\\_type & started\\_at & ended\\_at & start\\_station\\_name & start\\_station\\_id & end\\_station\\_name & end\\_station\\_id & start\\_lat & start\\_lng & end\\_lat & end\\_lng & member\\_casual\\\\\n",
       " <chr> & <chr> & <dttm> & <dttm> & <chr> & <dbl> & <chr> & <dbl> & <dbl> & <dbl> & <dbl> & <dbl> & <chr>\\\\\n",
       "\\hline\n",
       "\t 322BD23D287743ED & docked\\_bike   & 2020-08-20 18:08:14 & 2020-08-20 18:17:51 & Lake Shore Dr \\& Diversey Pkwy & 329 & Clark St \\& Lincoln Ave   & 141 & 41.93259 & -87.63643 & 41.91569 & -87.63460 & member\\\\\n",
       "\t 2A3AEF1AB9054D8B & electric\\_bike & 2020-08-27 18:46:04 & 2020-08-27 19:54:51 & Michigan Ave \\& 14th St        & 168 & Michigan Ave \\& 14th St   & 168 & 41.86438 & -87.62368 & 41.86422 & -87.62344 & casual\\\\\n",
       "\t 67DC1D133E8B5816 & electric\\_bike & 2020-08-26 19:44:14 & 2020-08-26 21:53:07 & Columbus Dr \\& Randolph St     & 195 & State St \\& Randolph St   &  44 & 41.88464 & -87.61955 & 41.88497 & -87.62757 & casual\\\\\n",
       "\t C79FBBD412E578A7 & electric\\_bike & 2020-08-27 12:05:41 & 2020-08-27 12:53:45 & Daley Center Plaza            &  81 & State St \\& Kinzie St     &  47 & 41.88409 & -87.62964 & 41.88958 & -87.62754 & casual\\\\\n",
       "\t 13814D3D661ECADB & electric\\_bike & 2020-08-27 16:49:02 & 2020-08-27 16:59:49 & Leavitt St \\& Division St      & 658 & Leavitt St \\& Division St & 658 & 41.90299 & -87.68377 & 41.90300 & -87.68384 & casual\\\\\n",
       "\t 56349A5A42F0AE51 & electric\\_bike & 2020-08-27 17:26:23 & 2020-08-27 18:07:50 & Leavitt St \\& Division St      & 658 & Leavitt St \\& Division St & 658 & 41.90302 & -87.68373 & 41.90309 & -87.68363 & casual\\\\\n",
       "\\end{tabular}\n"
      ],
      "text/markdown": [
       "\n",
       "A tibble: 6 × 13\n",
       "\n",
       "| ride_id &lt;chr&gt; | rideable_type &lt;chr&gt; | started_at &lt;dttm&gt; | ended_at &lt;dttm&gt; | start_station_name &lt;chr&gt; | start_station_id &lt;dbl&gt; | end_station_name &lt;chr&gt; | end_station_id &lt;dbl&gt; | start_lat &lt;dbl&gt; | start_lng &lt;dbl&gt; | end_lat &lt;dbl&gt; | end_lng &lt;dbl&gt; | member_casual &lt;chr&gt; |\n",
       "|---|---|---|---|---|---|---|---|---|---|---|---|---|\n",
       "| 322BD23D287743ED | docked_bike   | 2020-08-20 18:08:14 | 2020-08-20 18:17:51 | Lake Shore Dr &amp; Diversey Pkwy | 329 | Clark St &amp; Lincoln Ave   | 141 | 41.93259 | -87.63643 | 41.91569 | -87.63460 | member |\n",
       "| 2A3AEF1AB9054D8B | electric_bike | 2020-08-27 18:46:04 | 2020-08-27 19:54:51 | Michigan Ave &amp; 14th St        | 168 | Michigan Ave &amp; 14th St   | 168 | 41.86438 | -87.62368 | 41.86422 | -87.62344 | casual |\n",
       "| 67DC1D133E8B5816 | electric_bike | 2020-08-26 19:44:14 | 2020-08-26 21:53:07 | Columbus Dr &amp; Randolph St     | 195 | State St &amp; Randolph St   |  44 | 41.88464 | -87.61955 | 41.88497 | -87.62757 | casual |\n",
       "| C79FBBD412E578A7 | electric_bike | 2020-08-27 12:05:41 | 2020-08-27 12:53:45 | Daley Center Plaza            |  81 | State St &amp; Kinzie St     |  47 | 41.88409 | -87.62964 | 41.88958 | -87.62754 | casual |\n",
       "| 13814D3D661ECADB | electric_bike | 2020-08-27 16:49:02 | 2020-08-27 16:59:49 | Leavitt St &amp; Division St      | 658 | Leavitt St &amp; Division St | 658 | 41.90299 | -87.68377 | 41.90300 | -87.68384 | casual |\n",
       "| 56349A5A42F0AE51 | electric_bike | 2020-08-27 17:26:23 | 2020-08-27 18:07:50 | Leavitt St &amp; Division St      | 658 | Leavitt St &amp; Division St | 658 | 41.90302 | -87.68373 | 41.90309 | -87.68363 | casual |\n",
       "\n"
      ],
      "text/plain": [
       "  ride_id          rideable_type started_at          ended_at           \n",
       "1 322BD23D287743ED docked_bike   2020-08-20 18:08:14 2020-08-20 18:17:51\n",
       "2 2A3AEF1AB9054D8B electric_bike 2020-08-27 18:46:04 2020-08-27 19:54:51\n",
       "3 67DC1D133E8B5816 electric_bike 2020-08-26 19:44:14 2020-08-26 21:53:07\n",
       "4 C79FBBD412E578A7 electric_bike 2020-08-27 12:05:41 2020-08-27 12:53:45\n",
       "5 13814D3D661ECADB electric_bike 2020-08-27 16:49:02 2020-08-27 16:59:49\n",
       "6 56349A5A42F0AE51 electric_bike 2020-08-27 17:26:23 2020-08-27 18:07:50\n",
       "  start_station_name            start_station_id end_station_name        \n",
       "1 Lake Shore Dr & Diversey Pkwy 329              Clark St & Lincoln Ave  \n",
       "2 Michigan Ave & 14th St        168              Michigan Ave & 14th St  \n",
       "3 Columbus Dr & Randolph St     195              State St & Randolph St  \n",
       "4 Daley Center Plaza             81              State St & Kinzie St    \n",
       "5 Leavitt St & Division St      658              Leavitt St & Division St\n",
       "6 Leavitt St & Division St      658              Leavitt St & Division St\n",
       "  end_station_id start_lat start_lng end_lat  end_lng   member_casual\n",
       "1 141            41.93259  -87.63643 41.91569 -87.63460 member       \n",
       "2 168            41.86438  -87.62368 41.86422 -87.62344 casual       \n",
       "3  44            41.88464  -87.61955 41.88497 -87.62757 casual       \n",
       "4  47            41.88409  -87.62964 41.88958 -87.62754 casual       \n",
       "5 658            41.90299  -87.68377 41.90300 -87.68384 casual       \n",
       "6 658            41.90302  -87.68373 41.90309 -87.68363 casual       "
      ]
     },
     "metadata": {},
     "output_type": "display_data"
    },
    {
     "data": {
      "text/html": [
       "<table class=\"dataframe\">\n",
       "<caption>A tibble: 6 × 13</caption>\n",
       "<thead>\n",
       "\t<tr><th scope=col>ride_id</th><th scope=col>rideable_type</th><th scope=col>started_at</th><th scope=col>ended_at</th><th scope=col>start_station_name</th><th scope=col>start_station_id</th><th scope=col>end_station_name</th><th scope=col>end_station_id</th><th scope=col>start_lat</th><th scope=col>start_lng</th><th scope=col>end_lat</th><th scope=col>end_lng</th><th scope=col>member_casual</th></tr>\n",
       "\t<tr><th scope=col>&lt;chr&gt;</th><th scope=col>&lt;chr&gt;</th><th scope=col>&lt;dttm&gt;</th><th scope=col>&lt;dttm&gt;</th><th scope=col>&lt;chr&gt;</th><th scope=col>&lt;dbl&gt;</th><th scope=col>&lt;chr&gt;</th><th scope=col>&lt;dbl&gt;</th><th scope=col>&lt;dbl&gt;</th><th scope=col>&lt;dbl&gt;</th><th scope=col>&lt;dbl&gt;</th><th scope=col>&lt;dbl&gt;</th><th scope=col>&lt;chr&gt;</th></tr>\n",
       "</thead>\n",
       "<tbody>\n",
       "\t<tr><td>2B22BD5F95FB2629</td><td>electric_bike</td><td>2020-09-17 14:27:11</td><td>2020-09-17 14:44:24</td><td><span style=white-space:pre-wrap>Michigan Ave &amp; Lake St        </span></td><td> 52</td><td><span style=white-space:pre-wrap>Green St &amp; Randolph St    </span></td><td>112</td><td>41.88669</td><td>-87.62356</td><td>41.88357</td><td>-87.64873</td><td>casual</td></tr>\n",
       "\t<tr><td>A7FB70B4AFC6CAF2</td><td>electric_bike</td><td>2020-09-17 15:07:31</td><td>2020-09-17 15:07:45</td><td><span style=white-space:pre-wrap>W Oakdale Ave &amp; N Broadway    </span></td><td> NA</td><td>W Oakdale Ave &amp; N Broadway</td><td> NA</td><td>41.94000</td><td>-87.64000</td><td>41.94000</td><td>-87.64000</td><td>casual</td></tr>\n",
       "\t<tr><td>86057FA01BAC778E</td><td>electric_bike</td><td>2020-09-17 15:09:04</td><td>2020-09-17 15:09:35</td><td><span style=white-space:pre-wrap>W Oakdale Ave &amp; N Broadway    </span></td><td> NA</td><td>W Oakdale Ave &amp; N Broadway</td><td> NA</td><td>41.94000</td><td>-87.64000</td><td>41.94000</td><td>-87.64000</td><td>casual</td></tr>\n",
       "\t<tr><td>57F6DC9A153DB98C</td><td>electric_bike</td><td>2020-09-17 18:10:46</td><td>2020-09-17 18:35:49</td><td>Ashland Ave &amp; Belle Plaine Ave</td><td>246</td><td><span style=white-space:pre-wrap>Montrose Harbor           </span></td><td>249</td><td>41.95606</td><td>-87.66892</td><td>41.96398</td><td>-87.63822</td><td>casual</td></tr>\n",
       "\t<tr><td>B9C4712F78C1AE68</td><td>electric_bike</td><td>2020-09-17 15:16:13</td><td>2020-09-17 15:52:55</td><td><span style=white-space:pre-wrap>Fairbanks Ct &amp; Grand Ave      </span></td><td> 24</td><td><span style=white-space:pre-wrap>Fairbanks Ct &amp; Grand Ave  </span></td><td> 24</td><td>41.89186</td><td>-87.62101</td><td>41.89135</td><td>-87.62032</td><td>casual</td></tr>\n",
       "\t<tr><td>378BBCE1E444EB80</td><td>electric_bike</td><td>2020-09-17 18:37:04</td><td>2020-09-17 19:23:28</td><td><span style=white-space:pre-wrap>Clark St &amp; Armitage Ave       </span></td><td> 94</td><td><span style=white-space:pre-wrap>NA                        </span></td><td> NA</td><td>41.91826</td><td>-87.63636</td><td>41.88000</td><td>-87.62000</td><td>casual</td></tr>\n",
       "</tbody>\n",
       "</table>\n"
      ],
      "text/latex": [
       "A tibble: 6 × 13\n",
       "\\begin{tabular}{lllllllllllll}\n",
       " ride\\_id & rideable\\_type & started\\_at & ended\\_at & start\\_station\\_name & start\\_station\\_id & end\\_station\\_name & end\\_station\\_id & start\\_lat & start\\_lng & end\\_lat & end\\_lng & member\\_casual\\\\\n",
       " <chr> & <chr> & <dttm> & <dttm> & <chr> & <dbl> & <chr> & <dbl> & <dbl> & <dbl> & <dbl> & <dbl> & <chr>\\\\\n",
       "\\hline\n",
       "\t 2B22BD5F95FB2629 & electric\\_bike & 2020-09-17 14:27:11 & 2020-09-17 14:44:24 & Michigan Ave \\& Lake St         &  52 & Green St \\& Randolph St     & 112 & 41.88669 & -87.62356 & 41.88357 & -87.64873 & casual\\\\\n",
       "\t A7FB70B4AFC6CAF2 & electric\\_bike & 2020-09-17 15:07:31 & 2020-09-17 15:07:45 & W Oakdale Ave \\& N Broadway     &  NA & W Oakdale Ave \\& N Broadway &  NA & 41.94000 & -87.64000 & 41.94000 & -87.64000 & casual\\\\\n",
       "\t 86057FA01BAC778E & electric\\_bike & 2020-09-17 15:09:04 & 2020-09-17 15:09:35 & W Oakdale Ave \\& N Broadway     &  NA & W Oakdale Ave \\& N Broadway &  NA & 41.94000 & -87.64000 & 41.94000 & -87.64000 & casual\\\\\n",
       "\t 57F6DC9A153DB98C & electric\\_bike & 2020-09-17 18:10:46 & 2020-09-17 18:35:49 & Ashland Ave \\& Belle Plaine Ave & 246 & Montrose Harbor            & 249 & 41.95606 & -87.66892 & 41.96398 & -87.63822 & casual\\\\\n",
       "\t B9C4712F78C1AE68 & electric\\_bike & 2020-09-17 15:16:13 & 2020-09-17 15:52:55 & Fairbanks Ct \\& Grand Ave       &  24 & Fairbanks Ct \\& Grand Ave   &  24 & 41.89186 & -87.62101 & 41.89135 & -87.62032 & casual\\\\\n",
       "\t 378BBCE1E444EB80 & electric\\_bike & 2020-09-17 18:37:04 & 2020-09-17 19:23:28 & Clark St \\& Armitage Ave        &  94 & NA                         &  NA & 41.91826 & -87.63636 & 41.88000 & -87.62000 & casual\\\\\n",
       "\\end{tabular}\n"
      ],
      "text/markdown": [
       "\n",
       "A tibble: 6 × 13\n",
       "\n",
       "| ride_id &lt;chr&gt; | rideable_type &lt;chr&gt; | started_at &lt;dttm&gt; | ended_at &lt;dttm&gt; | start_station_name &lt;chr&gt; | start_station_id &lt;dbl&gt; | end_station_name &lt;chr&gt; | end_station_id &lt;dbl&gt; | start_lat &lt;dbl&gt; | start_lng &lt;dbl&gt; | end_lat &lt;dbl&gt; | end_lng &lt;dbl&gt; | member_casual &lt;chr&gt; |\n",
       "|---|---|---|---|---|---|---|---|---|---|---|---|---|\n",
       "| 2B22BD5F95FB2629 | electric_bike | 2020-09-17 14:27:11 | 2020-09-17 14:44:24 | Michigan Ave &amp; Lake St         |  52 | Green St &amp; Randolph St     | 112 | 41.88669 | -87.62356 | 41.88357 | -87.64873 | casual |\n",
       "| A7FB70B4AFC6CAF2 | electric_bike | 2020-09-17 15:07:31 | 2020-09-17 15:07:45 | W Oakdale Ave &amp; N Broadway     |  NA | W Oakdale Ave &amp; N Broadway |  NA | 41.94000 | -87.64000 | 41.94000 | -87.64000 | casual |\n",
       "| 86057FA01BAC778E | electric_bike | 2020-09-17 15:09:04 | 2020-09-17 15:09:35 | W Oakdale Ave &amp; N Broadway     |  NA | W Oakdale Ave &amp; N Broadway |  NA | 41.94000 | -87.64000 | 41.94000 | -87.64000 | casual |\n",
       "| 57F6DC9A153DB98C | electric_bike | 2020-09-17 18:10:46 | 2020-09-17 18:35:49 | Ashland Ave &amp; Belle Plaine Ave | 246 | Montrose Harbor            | 249 | 41.95606 | -87.66892 | 41.96398 | -87.63822 | casual |\n",
       "| B9C4712F78C1AE68 | electric_bike | 2020-09-17 15:16:13 | 2020-09-17 15:52:55 | Fairbanks Ct &amp; Grand Ave       |  24 | Fairbanks Ct &amp; Grand Ave   |  24 | 41.89186 | -87.62101 | 41.89135 | -87.62032 | casual |\n",
       "| 378BBCE1E444EB80 | electric_bike | 2020-09-17 18:37:04 | 2020-09-17 19:23:28 | Clark St &amp; Armitage Ave        |  94 | NA                         |  NA | 41.91826 | -87.63636 | 41.88000 | -87.62000 | casual |\n",
       "\n"
      ],
      "text/plain": [
       "  ride_id          rideable_type started_at          ended_at           \n",
       "1 2B22BD5F95FB2629 electric_bike 2020-09-17 14:27:11 2020-09-17 14:44:24\n",
       "2 A7FB70B4AFC6CAF2 electric_bike 2020-09-17 15:07:31 2020-09-17 15:07:45\n",
       "3 86057FA01BAC778E electric_bike 2020-09-17 15:09:04 2020-09-17 15:09:35\n",
       "4 57F6DC9A153DB98C electric_bike 2020-09-17 18:10:46 2020-09-17 18:35:49\n",
       "5 B9C4712F78C1AE68 electric_bike 2020-09-17 15:16:13 2020-09-17 15:52:55\n",
       "6 378BBCE1E444EB80 electric_bike 2020-09-17 18:37:04 2020-09-17 19:23:28\n",
       "  start_station_name             start_station_id end_station_name          \n",
       "1 Michigan Ave & Lake St          52              Green St & Randolph St    \n",
       "2 W Oakdale Ave & N Broadway      NA              W Oakdale Ave & N Broadway\n",
       "3 W Oakdale Ave & N Broadway      NA              W Oakdale Ave & N Broadway\n",
       "4 Ashland Ave & Belle Plaine Ave 246              Montrose Harbor           \n",
       "5 Fairbanks Ct & Grand Ave        24              Fairbanks Ct & Grand Ave  \n",
       "6 Clark St & Armitage Ave         94              NA                        \n",
       "  end_station_id start_lat start_lng end_lat  end_lng   member_casual\n",
       "1 112            41.88669  -87.62356 41.88357 -87.64873 casual       \n",
       "2  NA            41.94000  -87.64000 41.94000 -87.64000 casual       \n",
       "3  NA            41.94000  -87.64000 41.94000 -87.64000 casual       \n",
       "4 249            41.95606  -87.66892 41.96398 -87.63822 casual       \n",
       "5  24            41.89186  -87.62101 41.89135 -87.62032 casual       \n",
       "6  NA            41.91826  -87.63636 41.88000 -87.62000 casual       "
      ]
     },
     "metadata": {},
     "output_type": "display_data"
    },
    {
     "data": {
      "text/html": [
       "<table class=\"dataframe\">\n",
       "<caption>A tibble: 6 × 13</caption>\n",
       "<thead>\n",
       "\t<tr><th scope=col>ride_id</th><th scope=col>rideable_type</th><th scope=col>started_at</th><th scope=col>ended_at</th><th scope=col>start_station_name</th><th scope=col>start_station_id</th><th scope=col>end_station_name</th><th scope=col>end_station_id</th><th scope=col>start_lat</th><th scope=col>start_lng</th><th scope=col>end_lat</th><th scope=col>end_lng</th><th scope=col>member_casual</th></tr>\n",
       "\t<tr><th scope=col>&lt;chr&gt;</th><th scope=col>&lt;chr&gt;</th><th scope=col>&lt;dttm&gt;</th><th scope=col>&lt;dttm&gt;</th><th scope=col>&lt;chr&gt;</th><th scope=col>&lt;dbl&gt;</th><th scope=col>&lt;chr&gt;</th><th scope=col>&lt;dbl&gt;</th><th scope=col>&lt;dbl&gt;</th><th scope=col>&lt;dbl&gt;</th><th scope=col>&lt;dbl&gt;</th><th scope=col>&lt;dbl&gt;</th><th scope=col>&lt;chr&gt;</th></tr>\n",
       "</thead>\n",
       "<tbody>\n",
       "\t<tr><td>ACB6B40CF5B9044C</td><td>electric_bike</td><td>2020-10-31 19:39:43</td><td>2020-10-31 19:57:12</td><td>Lakeview Ave &amp; Fullerton Pkwy </td><td>313</td><td><span style=white-space:pre-wrap>Rush St &amp; Hubbard St      </span></td><td>125</td><td>41.92610</td><td>-87.63898</td><td>41.89035</td><td>-87.62607</td><td>casual</td></tr>\n",
       "\t<tr><td>DF450C72FD109C01</td><td>electric_bike</td><td>2020-10-31 23:50:08</td><td>2020-11-01 00:04:16</td><td><span style=white-space:pre-wrap>Southport Ave &amp; Waveland Ave  </span></td><td>227</td><td>Kedzie Ave &amp; Milwaukee Ave</td><td>260</td><td>41.94817</td><td>-87.66391</td><td>41.92953</td><td>-87.70782</td><td>casual</td></tr>\n",
       "\t<tr><td>B6396B54A15AC0DF</td><td>electric_bike</td><td>2020-10-31 23:00:01</td><td>2020-10-31 23:08:22</td><td><span style=white-space:pre-wrap>Stony Island Ave &amp; 67th St    </span></td><td>102</td><td><span style=white-space:pre-wrap>University Ave &amp; 57th St  </span></td><td>423</td><td>41.77346</td><td>-87.58537</td><td>41.79145</td><td>-87.60005</td><td>casual</td></tr>\n",
       "\t<tr><td>44A4AEE261B9E854</td><td>electric_bike</td><td>2020-10-31 22:16:43</td><td>2020-10-31 22:19:35</td><td><span style=white-space:pre-wrap>Clark St &amp; Grace St           </span></td><td>165</td><td><span style=white-space:pre-wrap>Broadway &amp; Sheridan Rd    </span></td><td>256</td><td>41.95085</td><td>-87.65924</td><td>41.95281</td><td>-87.65010</td><td>casual</td></tr>\n",
       "\t<tr><td>10B7DD76A6A2EB95</td><td>electric_bike</td><td>2020-10-31 19:38:19</td><td>2020-10-31 19:54:32</td><td>Southport Ave &amp; Wrightwood Ave</td><td>190</td><td><span style=white-space:pre-wrap>Stave St &amp; Armitage Ave   </span></td><td>185</td><td>41.92886</td><td>-87.66396</td><td>41.91778</td><td>-87.69143</td><td>casual</td></tr>\n",
       "\t<tr><td>DA6C3759660133DA</td><td>electric_bike</td><td>2020-10-29 17:38:04</td><td>2020-10-29 17:45:43</td><td><span style=white-space:pre-wrap>Larrabee St &amp; Division St     </span></td><td>359</td><td><span style=white-space:pre-wrap>Wells St &amp; Huron St       </span></td><td> 53</td><td>41.90353</td><td>-87.64335</td><td>41.89440</td><td>-87.63431</td><td>casual</td></tr>\n",
       "</tbody>\n",
       "</table>\n"
      ],
      "text/latex": [
       "A tibble: 6 × 13\n",
       "\\begin{tabular}{lllllllllllll}\n",
       " ride\\_id & rideable\\_type & started\\_at & ended\\_at & start\\_station\\_name & start\\_station\\_id & end\\_station\\_name & end\\_station\\_id & start\\_lat & start\\_lng & end\\_lat & end\\_lng & member\\_casual\\\\\n",
       " <chr> & <chr> & <dttm> & <dttm> & <chr> & <dbl> & <chr> & <dbl> & <dbl> & <dbl> & <dbl> & <dbl> & <chr>\\\\\n",
       "\\hline\n",
       "\t ACB6B40CF5B9044C & electric\\_bike & 2020-10-31 19:39:43 & 2020-10-31 19:57:12 & Lakeview Ave \\& Fullerton Pkwy  & 313 & Rush St \\& Hubbard St       & 125 & 41.92610 & -87.63898 & 41.89035 & -87.62607 & casual\\\\\n",
       "\t DF450C72FD109C01 & electric\\_bike & 2020-10-31 23:50:08 & 2020-11-01 00:04:16 & Southport Ave \\& Waveland Ave   & 227 & Kedzie Ave \\& Milwaukee Ave & 260 & 41.94817 & -87.66391 & 41.92953 & -87.70782 & casual\\\\\n",
       "\t B6396B54A15AC0DF & electric\\_bike & 2020-10-31 23:00:01 & 2020-10-31 23:08:22 & Stony Island Ave \\& 67th St     & 102 & University Ave \\& 57th St   & 423 & 41.77346 & -87.58537 & 41.79145 & -87.60005 & casual\\\\\n",
       "\t 44A4AEE261B9E854 & electric\\_bike & 2020-10-31 22:16:43 & 2020-10-31 22:19:35 & Clark St \\& Grace St            & 165 & Broadway \\& Sheridan Rd     & 256 & 41.95085 & -87.65924 & 41.95281 & -87.65010 & casual\\\\\n",
       "\t 10B7DD76A6A2EB95 & electric\\_bike & 2020-10-31 19:38:19 & 2020-10-31 19:54:32 & Southport Ave \\& Wrightwood Ave & 190 & Stave St \\& Armitage Ave    & 185 & 41.92886 & -87.66396 & 41.91778 & -87.69143 & casual\\\\\n",
       "\t DA6C3759660133DA & electric\\_bike & 2020-10-29 17:38:04 & 2020-10-29 17:45:43 & Larrabee St \\& Division St      & 359 & Wells St \\& Huron St        &  53 & 41.90353 & -87.64335 & 41.89440 & -87.63431 & casual\\\\\n",
       "\\end{tabular}\n"
      ],
      "text/markdown": [
       "\n",
       "A tibble: 6 × 13\n",
       "\n",
       "| ride_id &lt;chr&gt; | rideable_type &lt;chr&gt; | started_at &lt;dttm&gt; | ended_at &lt;dttm&gt; | start_station_name &lt;chr&gt; | start_station_id &lt;dbl&gt; | end_station_name &lt;chr&gt; | end_station_id &lt;dbl&gt; | start_lat &lt;dbl&gt; | start_lng &lt;dbl&gt; | end_lat &lt;dbl&gt; | end_lng &lt;dbl&gt; | member_casual &lt;chr&gt; |\n",
       "|---|---|---|---|---|---|---|---|---|---|---|---|---|\n",
       "| ACB6B40CF5B9044C | electric_bike | 2020-10-31 19:39:43 | 2020-10-31 19:57:12 | Lakeview Ave &amp; Fullerton Pkwy  | 313 | Rush St &amp; Hubbard St       | 125 | 41.92610 | -87.63898 | 41.89035 | -87.62607 | casual |\n",
       "| DF450C72FD109C01 | electric_bike | 2020-10-31 23:50:08 | 2020-11-01 00:04:16 | Southport Ave &amp; Waveland Ave   | 227 | Kedzie Ave &amp; Milwaukee Ave | 260 | 41.94817 | -87.66391 | 41.92953 | -87.70782 | casual |\n",
       "| B6396B54A15AC0DF | electric_bike | 2020-10-31 23:00:01 | 2020-10-31 23:08:22 | Stony Island Ave &amp; 67th St     | 102 | University Ave &amp; 57th St   | 423 | 41.77346 | -87.58537 | 41.79145 | -87.60005 | casual |\n",
       "| 44A4AEE261B9E854 | electric_bike | 2020-10-31 22:16:43 | 2020-10-31 22:19:35 | Clark St &amp; Grace St            | 165 | Broadway &amp; Sheridan Rd     | 256 | 41.95085 | -87.65924 | 41.95281 | -87.65010 | casual |\n",
       "| 10B7DD76A6A2EB95 | electric_bike | 2020-10-31 19:38:19 | 2020-10-31 19:54:32 | Southport Ave &amp; Wrightwood Ave | 190 | Stave St &amp; Armitage Ave    | 185 | 41.92886 | -87.66396 | 41.91778 | -87.69143 | casual |\n",
       "| DA6C3759660133DA | electric_bike | 2020-10-29 17:38:04 | 2020-10-29 17:45:43 | Larrabee St &amp; Division St      | 359 | Wells St &amp; Huron St        |  53 | 41.90353 | -87.64335 | 41.89440 | -87.63431 | casual |\n",
       "\n"
      ],
      "text/plain": [
       "  ride_id          rideable_type started_at          ended_at           \n",
       "1 ACB6B40CF5B9044C electric_bike 2020-10-31 19:39:43 2020-10-31 19:57:12\n",
       "2 DF450C72FD109C01 electric_bike 2020-10-31 23:50:08 2020-11-01 00:04:16\n",
       "3 B6396B54A15AC0DF electric_bike 2020-10-31 23:00:01 2020-10-31 23:08:22\n",
       "4 44A4AEE261B9E854 electric_bike 2020-10-31 22:16:43 2020-10-31 22:19:35\n",
       "5 10B7DD76A6A2EB95 electric_bike 2020-10-31 19:38:19 2020-10-31 19:54:32\n",
       "6 DA6C3759660133DA electric_bike 2020-10-29 17:38:04 2020-10-29 17:45:43\n",
       "  start_station_name             start_station_id end_station_name          \n",
       "1 Lakeview Ave & Fullerton Pkwy  313              Rush St & Hubbard St      \n",
       "2 Southport Ave & Waveland Ave   227              Kedzie Ave & Milwaukee Ave\n",
       "3 Stony Island Ave & 67th St     102              University Ave & 57th St  \n",
       "4 Clark St & Grace St            165              Broadway & Sheridan Rd    \n",
       "5 Southport Ave & Wrightwood Ave 190              Stave St & Armitage Ave   \n",
       "6 Larrabee St & Division St      359              Wells St & Huron St       \n",
       "  end_station_id start_lat start_lng end_lat  end_lng   member_casual\n",
       "1 125            41.92610  -87.63898 41.89035 -87.62607 casual       \n",
       "2 260            41.94817  -87.66391 41.92953 -87.70782 casual       \n",
       "3 423            41.77346  -87.58537 41.79145 -87.60005 casual       \n",
       "4 256            41.95085  -87.65924 41.95281 -87.65010 casual       \n",
       "5 185            41.92886  -87.66396 41.91778 -87.69143 casual       \n",
       "6  53            41.90353  -87.64335 41.89440 -87.63431 casual       "
      ]
     },
     "metadata": {},
     "output_type": "display_data"
    },
    {
     "data": {
      "text/html": [
       "<table class=\"dataframe\">\n",
       "<caption>A tibble: 6 × 13</caption>\n",
       "<thead>\n",
       "\t<tr><th scope=col>ride_id</th><th scope=col>rideable_type</th><th scope=col>started_at</th><th scope=col>ended_at</th><th scope=col>start_station_name</th><th scope=col>start_station_id</th><th scope=col>end_station_name</th><th scope=col>end_station_id</th><th scope=col>start_lat</th><th scope=col>start_lng</th><th scope=col>end_lat</th><th scope=col>end_lng</th><th scope=col>member_casual</th></tr>\n",
       "\t<tr><th scope=col>&lt;chr&gt;</th><th scope=col>&lt;chr&gt;</th><th scope=col>&lt;dttm&gt;</th><th scope=col>&lt;dttm&gt;</th><th scope=col>&lt;chr&gt;</th><th scope=col>&lt;dbl&gt;</th><th scope=col>&lt;chr&gt;</th><th scope=col>&lt;dbl&gt;</th><th scope=col>&lt;dbl&gt;</th><th scope=col>&lt;dbl&gt;</th><th scope=col>&lt;dbl&gt;</th><th scope=col>&lt;dbl&gt;</th><th scope=col>&lt;chr&gt;</th></tr>\n",
       "</thead>\n",
       "<tbody>\n",
       "\t<tr><td>BD0A6FF6FFF9B921</td><td>electric_bike</td><td>2020-11-01 13:36:00</td><td>2020-11-01 13:45:40</td><td><span style=white-space:pre-wrap>Dearborn St &amp; Erie St    </span></td><td>110</td><td><span style=white-space:pre-wrap>St. Clair St &amp; Erie St   </span></td><td>211</td><td>41.89418</td><td>-87.62913</td><td>41.89443</td><td>-87.62338</td><td>casual</td></tr>\n",
       "\t<tr><td>96A7A7A4BDE4F82D</td><td>electric_bike</td><td>2020-11-01 10:03:26</td><td>2020-11-01 10:14:45</td><td>Franklin St &amp; Illinois St</td><td>672</td><td>Noble St &amp; Milwaukee Ave </td><td> 29</td><td>41.89096</td><td>-87.63534</td><td>41.90067</td><td>-87.66248</td><td>casual</td></tr>\n",
       "\t<tr><td>C61526D06582BDC5</td><td>electric_bike</td><td>2020-11-01 00:34:05</td><td>2020-11-01 01:03:06</td><td>Lake Shore Dr &amp; Monroe St</td><td> 76</td><td><span style=white-space:pre-wrap>Federal St &amp; Polk St     </span></td><td> 41</td><td>41.88098</td><td>-87.61675</td><td>41.87205</td><td>-87.62955</td><td>casual</td></tr>\n",
       "\t<tr><td>E533E89C32080B9E</td><td>electric_bike</td><td>2020-11-01 00:45:16</td><td>2020-11-01 00:54:31</td><td>Leavitt St &amp; Chicago Ave </td><td>659</td><td><span style=white-space:pre-wrap>Stave St &amp; Armitage Ave  </span></td><td>185</td><td>41.89550</td><td>-87.68201</td><td>41.91774</td><td>-87.69139</td><td>casual</td></tr>\n",
       "\t<tr><td>1C9F4EF18C168C60</td><td>electric_bike</td><td>2020-11-01 15:43:25</td><td>2020-11-01 16:16:52</td><td>Buckingham Fountain      </td><td>  2</td><td>Buckingham Fountain      </td><td>  2</td><td>41.87650</td><td>-87.62036</td><td>41.87645</td><td>-87.62034</td><td>casual</td></tr>\n",
       "\t<tr><td>7259585D8276D338</td><td>electric_bike</td><td>2020-11-14 15:55:17</td><td>2020-11-14 16:44:38</td><td><span style=white-space:pre-wrap>Wabash Ave &amp; 16th St     </span></td><td> 72</td><td>Lake Shore Dr &amp; Monroe St</td><td> 76</td><td>41.86029</td><td>-87.62581</td><td>41.88099</td><td>-87.61677</td><td>casual</td></tr>\n",
       "</tbody>\n",
       "</table>\n"
      ],
      "text/latex": [
       "A tibble: 6 × 13\n",
       "\\begin{tabular}{lllllllllllll}\n",
       " ride\\_id & rideable\\_type & started\\_at & ended\\_at & start\\_station\\_name & start\\_station\\_id & end\\_station\\_name & end\\_station\\_id & start\\_lat & start\\_lng & end\\_lat & end\\_lng & member\\_casual\\\\\n",
       " <chr> & <chr> & <dttm> & <dttm> & <chr> & <dbl> & <chr> & <dbl> & <dbl> & <dbl> & <dbl> & <dbl> & <chr>\\\\\n",
       "\\hline\n",
       "\t BD0A6FF6FFF9B921 & electric\\_bike & 2020-11-01 13:36:00 & 2020-11-01 13:45:40 & Dearborn St \\& Erie St     & 110 & St. Clair St \\& Erie St    & 211 & 41.89418 & -87.62913 & 41.89443 & -87.62338 & casual\\\\\n",
       "\t 96A7A7A4BDE4F82D & electric\\_bike & 2020-11-01 10:03:26 & 2020-11-01 10:14:45 & Franklin St \\& Illinois St & 672 & Noble St \\& Milwaukee Ave  &  29 & 41.89096 & -87.63534 & 41.90067 & -87.66248 & casual\\\\\n",
       "\t C61526D06582BDC5 & electric\\_bike & 2020-11-01 00:34:05 & 2020-11-01 01:03:06 & Lake Shore Dr \\& Monroe St &  76 & Federal St \\& Polk St      &  41 & 41.88098 & -87.61675 & 41.87205 & -87.62955 & casual\\\\\n",
       "\t E533E89C32080B9E & electric\\_bike & 2020-11-01 00:45:16 & 2020-11-01 00:54:31 & Leavitt St \\& Chicago Ave  & 659 & Stave St \\& Armitage Ave   & 185 & 41.89550 & -87.68201 & 41.91774 & -87.69139 & casual\\\\\n",
       "\t 1C9F4EF18C168C60 & electric\\_bike & 2020-11-01 15:43:25 & 2020-11-01 16:16:52 & Buckingham Fountain       &   2 & Buckingham Fountain       &   2 & 41.87650 & -87.62036 & 41.87645 & -87.62034 & casual\\\\\n",
       "\t 7259585D8276D338 & electric\\_bike & 2020-11-14 15:55:17 & 2020-11-14 16:44:38 & Wabash Ave \\& 16th St      &  72 & Lake Shore Dr \\& Monroe St &  76 & 41.86029 & -87.62581 & 41.88099 & -87.61677 & casual\\\\\n",
       "\\end{tabular}\n"
      ],
      "text/markdown": [
       "\n",
       "A tibble: 6 × 13\n",
       "\n",
       "| ride_id &lt;chr&gt; | rideable_type &lt;chr&gt; | started_at &lt;dttm&gt; | ended_at &lt;dttm&gt; | start_station_name &lt;chr&gt; | start_station_id &lt;dbl&gt; | end_station_name &lt;chr&gt; | end_station_id &lt;dbl&gt; | start_lat &lt;dbl&gt; | start_lng &lt;dbl&gt; | end_lat &lt;dbl&gt; | end_lng &lt;dbl&gt; | member_casual &lt;chr&gt; |\n",
       "|---|---|---|---|---|---|---|---|---|---|---|---|---|\n",
       "| BD0A6FF6FFF9B921 | electric_bike | 2020-11-01 13:36:00 | 2020-11-01 13:45:40 | Dearborn St &amp; Erie St     | 110 | St. Clair St &amp; Erie St    | 211 | 41.89418 | -87.62913 | 41.89443 | -87.62338 | casual |\n",
       "| 96A7A7A4BDE4F82D | electric_bike | 2020-11-01 10:03:26 | 2020-11-01 10:14:45 | Franklin St &amp; Illinois St | 672 | Noble St &amp; Milwaukee Ave  |  29 | 41.89096 | -87.63534 | 41.90067 | -87.66248 | casual |\n",
       "| C61526D06582BDC5 | electric_bike | 2020-11-01 00:34:05 | 2020-11-01 01:03:06 | Lake Shore Dr &amp; Monroe St |  76 | Federal St &amp; Polk St      |  41 | 41.88098 | -87.61675 | 41.87205 | -87.62955 | casual |\n",
       "| E533E89C32080B9E | electric_bike | 2020-11-01 00:45:16 | 2020-11-01 00:54:31 | Leavitt St &amp; Chicago Ave  | 659 | Stave St &amp; Armitage Ave   | 185 | 41.89550 | -87.68201 | 41.91774 | -87.69139 | casual |\n",
       "| 1C9F4EF18C168C60 | electric_bike | 2020-11-01 15:43:25 | 2020-11-01 16:16:52 | Buckingham Fountain       |   2 | Buckingham Fountain       |   2 | 41.87650 | -87.62036 | 41.87645 | -87.62034 | casual |\n",
       "| 7259585D8276D338 | electric_bike | 2020-11-14 15:55:17 | 2020-11-14 16:44:38 | Wabash Ave &amp; 16th St      |  72 | Lake Shore Dr &amp; Monroe St |  76 | 41.86029 | -87.62581 | 41.88099 | -87.61677 | casual |\n",
       "\n"
      ],
      "text/plain": [
       "  ride_id          rideable_type started_at          ended_at           \n",
       "1 BD0A6FF6FFF9B921 electric_bike 2020-11-01 13:36:00 2020-11-01 13:45:40\n",
       "2 96A7A7A4BDE4F82D electric_bike 2020-11-01 10:03:26 2020-11-01 10:14:45\n",
       "3 C61526D06582BDC5 electric_bike 2020-11-01 00:34:05 2020-11-01 01:03:06\n",
       "4 E533E89C32080B9E electric_bike 2020-11-01 00:45:16 2020-11-01 00:54:31\n",
       "5 1C9F4EF18C168C60 electric_bike 2020-11-01 15:43:25 2020-11-01 16:16:52\n",
       "6 7259585D8276D338 electric_bike 2020-11-14 15:55:17 2020-11-14 16:44:38\n",
       "  start_station_name        start_station_id end_station_name         \n",
       "1 Dearborn St & Erie St     110              St. Clair St & Erie St   \n",
       "2 Franklin St & Illinois St 672              Noble St & Milwaukee Ave \n",
       "3 Lake Shore Dr & Monroe St  76              Federal St & Polk St     \n",
       "4 Leavitt St & Chicago Ave  659              Stave St & Armitage Ave  \n",
       "5 Buckingham Fountain         2              Buckingham Fountain      \n",
       "6 Wabash Ave & 16th St       72              Lake Shore Dr & Monroe St\n",
       "  end_station_id start_lat start_lng end_lat  end_lng   member_casual\n",
       "1 211            41.89418  -87.62913 41.89443 -87.62338 casual       \n",
       "2  29            41.89096  -87.63534 41.90067 -87.66248 casual       \n",
       "3  41            41.88098  -87.61675 41.87205 -87.62955 casual       \n",
       "4 185            41.89550  -87.68201 41.91774 -87.69139 casual       \n",
       "5   2            41.87650  -87.62036 41.87645 -87.62034 casual       \n",
       "6  76            41.86029  -87.62581 41.88099 -87.61677 casual       "
      ]
     },
     "metadata": {},
     "output_type": "display_data"
    },
    {
     "data": {
      "text/html": [
       "<table class=\"dataframe\">\n",
       "<caption>A tibble: 6 × 13</caption>\n",
       "<thead>\n",
       "\t<tr><th scope=col>ride_id</th><th scope=col>rideable_type</th><th scope=col>started_at</th><th scope=col>ended_at</th><th scope=col>start_station_name</th><th scope=col>start_station_id</th><th scope=col>end_station_name</th><th scope=col>end_station_id</th><th scope=col>start_lat</th><th scope=col>start_lng</th><th scope=col>end_lat</th><th scope=col>end_lng</th><th scope=col>member_casual</th></tr>\n",
       "\t<tr><th scope=col>&lt;chr&gt;</th><th scope=col>&lt;chr&gt;</th><th scope=col>&lt;dttm&gt;</th><th scope=col>&lt;dttm&gt;</th><th scope=col>&lt;chr&gt;</th><th scope=col>&lt;chr&gt;</th><th scope=col>&lt;chr&gt;</th><th scope=col>&lt;chr&gt;</th><th scope=col>&lt;dbl&gt;</th><th scope=col>&lt;dbl&gt;</th><th scope=col>&lt;dbl&gt;</th><th scope=col>&lt;dbl&gt;</th><th scope=col>&lt;chr&gt;</th></tr>\n",
       "</thead>\n",
       "<tbody>\n",
       "\t<tr><td>70B6A9A437D4C30D</td><td>classic_bike </td><td>2020-12-27 12:44:29</td><td>2020-12-27 12:55:06</td><td>Aberdeen St &amp; Jackson Blvd</td><td>13157</td><td>Desplaines St &amp; Kinzie St</td><td>TA1306000003</td><td>41.87773</td><td>-87.65479</td><td>41.88872</td><td>-87.64445</td><td>member</td></tr>\n",
       "\t<tr><td>158A465D4E74C54A</td><td>electric_bike</td><td>2020-12-18 17:37:15</td><td>2020-12-18 17:44:19</td><td>NA                        </td><td>NA   </td><td>NA                       </td><td>NA          </td><td>41.93000</td><td>-87.70000</td><td>41.91000</td><td>-87.70000</td><td>member</td></tr>\n",
       "\t<tr><td>5262016E0F1F2F9A</td><td>electric_bike</td><td>2020-12-15 15:04:33</td><td>2020-12-15 15:11:28</td><td>NA                        </td><td>NA   </td><td>NA                       </td><td>NA          </td><td>41.91000</td><td>-87.69000</td><td>41.93000</td><td>-87.70000</td><td>member</td></tr>\n",
       "\t<tr><td>BE119628E44F871E</td><td>electric_bike</td><td>2020-12-15 15:54:18</td><td>2020-12-15 16:00:11</td><td>NA                        </td><td>NA   </td><td>NA                       </td><td>NA          </td><td>41.92000</td><td>-87.70000</td><td>41.91000</td><td>-87.70000</td><td>member</td></tr>\n",
       "\t<tr><td>69AF78D57854E110</td><td>electric_bike</td><td>2020-12-22 12:08:17</td><td>2020-12-22 12:10:59</td><td>NA                        </td><td>NA   </td><td>NA                       </td><td>NA          </td><td>41.80000</td><td>-87.59000</td><td>41.80000</td><td>-87.59000</td><td>member</td></tr>\n",
       "\t<tr><td>C1DECC4AB488831C</td><td>electric_bike</td><td>2020-12-22 13:26:37</td><td>2020-12-22 13:34:50</td><td>NA                        </td><td>NA   </td><td>NA                       </td><td>NA          </td><td>41.80000</td><td>-87.59000</td><td>41.78000</td><td>-87.60000</td><td>member</td></tr>\n",
       "</tbody>\n",
       "</table>\n"
      ],
      "text/latex": [
       "A tibble: 6 × 13\n",
       "\\begin{tabular}{lllllllllllll}\n",
       " ride\\_id & rideable\\_type & started\\_at & ended\\_at & start\\_station\\_name & start\\_station\\_id & end\\_station\\_name & end\\_station\\_id & start\\_lat & start\\_lng & end\\_lat & end\\_lng & member\\_casual\\\\\n",
       " <chr> & <chr> & <dttm> & <dttm> & <chr> & <chr> & <chr> & <chr> & <dbl> & <dbl> & <dbl> & <dbl> & <chr>\\\\\n",
       "\\hline\n",
       "\t 70B6A9A437D4C30D & classic\\_bike  & 2020-12-27 12:44:29 & 2020-12-27 12:55:06 & Aberdeen St \\& Jackson Blvd & 13157 & Desplaines St \\& Kinzie St & TA1306000003 & 41.87773 & -87.65479 & 41.88872 & -87.64445 & member\\\\\n",
       "\t 158A465D4E74C54A & electric\\_bike & 2020-12-18 17:37:15 & 2020-12-18 17:44:19 & NA                         & NA    & NA                        & NA           & 41.93000 & -87.70000 & 41.91000 & -87.70000 & member\\\\\n",
       "\t 5262016E0F1F2F9A & electric\\_bike & 2020-12-15 15:04:33 & 2020-12-15 15:11:28 & NA                         & NA    & NA                        & NA           & 41.91000 & -87.69000 & 41.93000 & -87.70000 & member\\\\\n",
       "\t BE119628E44F871E & electric\\_bike & 2020-12-15 15:54:18 & 2020-12-15 16:00:11 & NA                         & NA    & NA                        & NA           & 41.92000 & -87.70000 & 41.91000 & -87.70000 & member\\\\\n",
       "\t 69AF78D57854E110 & electric\\_bike & 2020-12-22 12:08:17 & 2020-12-22 12:10:59 & NA                         & NA    & NA                        & NA           & 41.80000 & -87.59000 & 41.80000 & -87.59000 & member\\\\\n",
       "\t C1DECC4AB488831C & electric\\_bike & 2020-12-22 13:26:37 & 2020-12-22 13:34:50 & NA                         & NA    & NA                        & NA           & 41.80000 & -87.59000 & 41.78000 & -87.60000 & member\\\\\n",
       "\\end{tabular}\n"
      ],
      "text/markdown": [
       "\n",
       "A tibble: 6 × 13\n",
       "\n",
       "| ride_id &lt;chr&gt; | rideable_type &lt;chr&gt; | started_at &lt;dttm&gt; | ended_at &lt;dttm&gt; | start_station_name &lt;chr&gt; | start_station_id &lt;chr&gt; | end_station_name &lt;chr&gt; | end_station_id &lt;chr&gt; | start_lat &lt;dbl&gt; | start_lng &lt;dbl&gt; | end_lat &lt;dbl&gt; | end_lng &lt;dbl&gt; | member_casual &lt;chr&gt; |\n",
       "|---|---|---|---|---|---|---|---|---|---|---|---|---|\n",
       "| 70B6A9A437D4C30D | classic_bike  | 2020-12-27 12:44:29 | 2020-12-27 12:55:06 | Aberdeen St &amp; Jackson Blvd | 13157 | Desplaines St &amp; Kinzie St | TA1306000003 | 41.87773 | -87.65479 | 41.88872 | -87.64445 | member |\n",
       "| 158A465D4E74C54A | electric_bike | 2020-12-18 17:37:15 | 2020-12-18 17:44:19 | NA                         | NA    | NA                        | NA           | 41.93000 | -87.70000 | 41.91000 | -87.70000 | member |\n",
       "| 5262016E0F1F2F9A | electric_bike | 2020-12-15 15:04:33 | 2020-12-15 15:11:28 | NA                         | NA    | NA                        | NA           | 41.91000 | -87.69000 | 41.93000 | -87.70000 | member |\n",
       "| BE119628E44F871E | electric_bike | 2020-12-15 15:54:18 | 2020-12-15 16:00:11 | NA                         | NA    | NA                        | NA           | 41.92000 | -87.70000 | 41.91000 | -87.70000 | member |\n",
       "| 69AF78D57854E110 | electric_bike | 2020-12-22 12:08:17 | 2020-12-22 12:10:59 | NA                         | NA    | NA                        | NA           | 41.80000 | -87.59000 | 41.80000 | -87.59000 | member |\n",
       "| C1DECC4AB488831C | electric_bike | 2020-12-22 13:26:37 | 2020-12-22 13:34:50 | NA                         | NA    | NA                        | NA           | 41.80000 | -87.59000 | 41.78000 | -87.60000 | member |\n",
       "\n"
      ],
      "text/plain": [
       "  ride_id          rideable_type started_at          ended_at           \n",
       "1 70B6A9A437D4C30D classic_bike  2020-12-27 12:44:29 2020-12-27 12:55:06\n",
       "2 158A465D4E74C54A electric_bike 2020-12-18 17:37:15 2020-12-18 17:44:19\n",
       "3 5262016E0F1F2F9A electric_bike 2020-12-15 15:04:33 2020-12-15 15:11:28\n",
       "4 BE119628E44F871E electric_bike 2020-12-15 15:54:18 2020-12-15 16:00:11\n",
       "5 69AF78D57854E110 electric_bike 2020-12-22 12:08:17 2020-12-22 12:10:59\n",
       "6 C1DECC4AB488831C electric_bike 2020-12-22 13:26:37 2020-12-22 13:34:50\n",
       "  start_station_name         start_station_id end_station_name         \n",
       "1 Aberdeen St & Jackson Blvd 13157            Desplaines St & Kinzie St\n",
       "2 NA                         NA               NA                       \n",
       "3 NA                         NA               NA                       \n",
       "4 NA                         NA               NA                       \n",
       "5 NA                         NA               NA                       \n",
       "6 NA                         NA               NA                       \n",
       "  end_station_id start_lat start_lng end_lat  end_lng   member_casual\n",
       "1 TA1306000003   41.87773  -87.65479 41.88872 -87.64445 member       \n",
       "2 NA             41.93000  -87.70000 41.91000 -87.70000 member       \n",
       "3 NA             41.91000  -87.69000 41.93000 -87.70000 member       \n",
       "4 NA             41.92000  -87.70000 41.91000 -87.70000 member       \n",
       "5 NA             41.80000  -87.59000 41.80000 -87.59000 member       \n",
       "6 NA             41.80000  -87.59000 41.78000 -87.60000 member       "
      ]
     },
     "metadata": {},
     "output_type": "display_data"
    },
    {
     "data": {
      "text/html": [
       "<table class=\"dataframe\">\n",
       "<caption>A tibble: 6 × 13</caption>\n",
       "<thead>\n",
       "\t<tr><th scope=col>ride_id</th><th scope=col>rideable_type</th><th scope=col>started_at</th><th scope=col>ended_at</th><th scope=col>start_station_name</th><th scope=col>start_station_id</th><th scope=col>end_station_name</th><th scope=col>end_station_id</th><th scope=col>start_lat</th><th scope=col>start_lng</th><th scope=col>end_lat</th><th scope=col>end_lng</th><th scope=col>member_casual</th></tr>\n",
       "\t<tr><th scope=col>&lt;chr&gt;</th><th scope=col>&lt;chr&gt;</th><th scope=col>&lt;dttm&gt;</th><th scope=col>&lt;dttm&gt;</th><th scope=col>&lt;chr&gt;</th><th scope=col>&lt;chr&gt;</th><th scope=col>&lt;chr&gt;</th><th scope=col>&lt;chr&gt;</th><th scope=col>&lt;dbl&gt;</th><th scope=col>&lt;dbl&gt;</th><th scope=col>&lt;dbl&gt;</th><th scope=col>&lt;dbl&gt;</th><th scope=col>&lt;chr&gt;</th></tr>\n",
       "</thead>\n",
       "<tbody>\n",
       "\t<tr><td>E19E6F1B8D4C42ED</td><td>electric_bike</td><td>2021-01-23 16:14:19</td><td>2021-01-23 16:24:44</td><td>California Ave &amp; Cortez St</td><td>17660</td><td>NA</td><td>NA</td><td>41.90034</td><td>-87.69674</td><td>41.89</td><td>-87.72</td><td>member</td></tr>\n",
       "\t<tr><td>DC88F20C2C55F27F</td><td>electric_bike</td><td>2021-01-27 18:43:08</td><td>2021-01-27 18:47:12</td><td>California Ave &amp; Cortez St</td><td>17660</td><td>NA</td><td>NA</td><td>41.90033</td><td>-87.69671</td><td>41.90</td><td>-87.69</td><td>member</td></tr>\n",
       "\t<tr><td>EC45C94683FE3F27</td><td>electric_bike</td><td>2021-01-21 22:35:54</td><td>2021-01-21 22:37:14</td><td>California Ave &amp; Cortez St</td><td>17660</td><td>NA</td><td>NA</td><td>41.90031</td><td>-87.69664</td><td>41.90</td><td>-87.70</td><td>member</td></tr>\n",
       "\t<tr><td>4FA453A75AE377DB</td><td>electric_bike</td><td>2021-01-07 13:31:13</td><td>2021-01-07 13:42:55</td><td>California Ave &amp; Cortez St</td><td>17660</td><td>NA</td><td>NA</td><td>41.90040</td><td>-87.69666</td><td>41.92</td><td>-87.69</td><td>member</td></tr>\n",
       "\t<tr><td>BE5E8EB4E7263A0B</td><td>electric_bike</td><td>2021-01-23 02:24:02</td><td>2021-01-23 02:24:45</td><td>California Ave &amp; Cortez St</td><td>17660</td><td>NA</td><td>NA</td><td>41.90033</td><td>-87.69670</td><td>41.90</td><td>-87.70</td><td>casual</td></tr>\n",
       "\t<tr><td>5D8969F88C773979</td><td>electric_bike</td><td>2021-01-09 14:24:07</td><td>2021-01-09 15:17:54</td><td>California Ave &amp; Cortez St</td><td>17660</td><td>NA</td><td>NA</td><td>41.90041</td><td>-87.69676</td><td>41.94</td><td>-87.71</td><td>casual</td></tr>\n",
       "</tbody>\n",
       "</table>\n"
      ],
      "text/latex": [
       "A tibble: 6 × 13\n",
       "\\begin{tabular}{lllllllllllll}\n",
       " ride\\_id & rideable\\_type & started\\_at & ended\\_at & start\\_station\\_name & start\\_station\\_id & end\\_station\\_name & end\\_station\\_id & start\\_lat & start\\_lng & end\\_lat & end\\_lng & member\\_casual\\\\\n",
       " <chr> & <chr> & <dttm> & <dttm> & <chr> & <chr> & <chr> & <chr> & <dbl> & <dbl> & <dbl> & <dbl> & <chr>\\\\\n",
       "\\hline\n",
       "\t E19E6F1B8D4C42ED & electric\\_bike & 2021-01-23 16:14:19 & 2021-01-23 16:24:44 & California Ave \\& Cortez St & 17660 & NA & NA & 41.90034 & -87.69674 & 41.89 & -87.72 & member\\\\\n",
       "\t DC88F20C2C55F27F & electric\\_bike & 2021-01-27 18:43:08 & 2021-01-27 18:47:12 & California Ave \\& Cortez St & 17660 & NA & NA & 41.90033 & -87.69671 & 41.90 & -87.69 & member\\\\\n",
       "\t EC45C94683FE3F27 & electric\\_bike & 2021-01-21 22:35:54 & 2021-01-21 22:37:14 & California Ave \\& Cortez St & 17660 & NA & NA & 41.90031 & -87.69664 & 41.90 & -87.70 & member\\\\\n",
       "\t 4FA453A75AE377DB & electric\\_bike & 2021-01-07 13:31:13 & 2021-01-07 13:42:55 & California Ave \\& Cortez St & 17660 & NA & NA & 41.90040 & -87.69666 & 41.92 & -87.69 & member\\\\\n",
       "\t BE5E8EB4E7263A0B & electric\\_bike & 2021-01-23 02:24:02 & 2021-01-23 02:24:45 & California Ave \\& Cortez St & 17660 & NA & NA & 41.90033 & -87.69670 & 41.90 & -87.70 & casual\\\\\n",
       "\t 5D8969F88C773979 & electric\\_bike & 2021-01-09 14:24:07 & 2021-01-09 15:17:54 & California Ave \\& Cortez St & 17660 & NA & NA & 41.90041 & -87.69676 & 41.94 & -87.71 & casual\\\\\n",
       "\\end{tabular}\n"
      ],
      "text/markdown": [
       "\n",
       "A tibble: 6 × 13\n",
       "\n",
       "| ride_id &lt;chr&gt; | rideable_type &lt;chr&gt; | started_at &lt;dttm&gt; | ended_at &lt;dttm&gt; | start_station_name &lt;chr&gt; | start_station_id &lt;chr&gt; | end_station_name &lt;chr&gt; | end_station_id &lt;chr&gt; | start_lat &lt;dbl&gt; | start_lng &lt;dbl&gt; | end_lat &lt;dbl&gt; | end_lng &lt;dbl&gt; | member_casual &lt;chr&gt; |\n",
       "|---|---|---|---|---|---|---|---|---|---|---|---|---|\n",
       "| E19E6F1B8D4C42ED | electric_bike | 2021-01-23 16:14:19 | 2021-01-23 16:24:44 | California Ave &amp; Cortez St | 17660 | NA | NA | 41.90034 | -87.69674 | 41.89 | -87.72 | member |\n",
       "| DC88F20C2C55F27F | electric_bike | 2021-01-27 18:43:08 | 2021-01-27 18:47:12 | California Ave &amp; Cortez St | 17660 | NA | NA | 41.90033 | -87.69671 | 41.90 | -87.69 | member |\n",
       "| EC45C94683FE3F27 | electric_bike | 2021-01-21 22:35:54 | 2021-01-21 22:37:14 | California Ave &amp; Cortez St | 17660 | NA | NA | 41.90031 | -87.69664 | 41.90 | -87.70 | member |\n",
       "| 4FA453A75AE377DB | electric_bike | 2021-01-07 13:31:13 | 2021-01-07 13:42:55 | California Ave &amp; Cortez St | 17660 | NA | NA | 41.90040 | -87.69666 | 41.92 | -87.69 | member |\n",
       "| BE5E8EB4E7263A0B | electric_bike | 2021-01-23 02:24:02 | 2021-01-23 02:24:45 | California Ave &amp; Cortez St | 17660 | NA | NA | 41.90033 | -87.69670 | 41.90 | -87.70 | casual |\n",
       "| 5D8969F88C773979 | electric_bike | 2021-01-09 14:24:07 | 2021-01-09 15:17:54 | California Ave &amp; Cortez St | 17660 | NA | NA | 41.90041 | -87.69676 | 41.94 | -87.71 | casual |\n",
       "\n"
      ],
      "text/plain": [
       "  ride_id          rideable_type started_at          ended_at           \n",
       "1 E19E6F1B8D4C42ED electric_bike 2021-01-23 16:14:19 2021-01-23 16:24:44\n",
       "2 DC88F20C2C55F27F electric_bike 2021-01-27 18:43:08 2021-01-27 18:47:12\n",
       "3 EC45C94683FE3F27 electric_bike 2021-01-21 22:35:54 2021-01-21 22:37:14\n",
       "4 4FA453A75AE377DB electric_bike 2021-01-07 13:31:13 2021-01-07 13:42:55\n",
       "5 BE5E8EB4E7263A0B electric_bike 2021-01-23 02:24:02 2021-01-23 02:24:45\n",
       "6 5D8969F88C773979 electric_bike 2021-01-09 14:24:07 2021-01-09 15:17:54\n",
       "  start_station_name         start_station_id end_station_name end_station_id\n",
       "1 California Ave & Cortez St 17660            NA               NA            \n",
       "2 California Ave & Cortez St 17660            NA               NA            \n",
       "3 California Ave & Cortez St 17660            NA               NA            \n",
       "4 California Ave & Cortez St 17660            NA               NA            \n",
       "5 California Ave & Cortez St 17660            NA               NA            \n",
       "6 California Ave & Cortez St 17660            NA               NA            \n",
       "  start_lat start_lng end_lat end_lng member_casual\n",
       "1 41.90034  -87.69674 41.89   -87.72  member       \n",
       "2 41.90033  -87.69671 41.90   -87.69  member       \n",
       "3 41.90031  -87.69664 41.90   -87.70  member       \n",
       "4 41.90040  -87.69666 41.92   -87.69  member       \n",
       "5 41.90033  -87.69670 41.90   -87.70  casual       \n",
       "6 41.90041  -87.69676 41.94   -87.71  casual       "
      ]
     },
     "metadata": {},
     "output_type": "display_data"
    },
    {
     "data": {
      "text/html": [
       "<table class=\"dataframe\">\n",
       "<caption>A tibble: 6 × 13</caption>\n",
       "<thead>\n",
       "\t<tr><th scope=col>ride_id</th><th scope=col>rideable_type</th><th scope=col>started_at</th><th scope=col>ended_at</th><th scope=col>start_station_name</th><th scope=col>start_station_id</th><th scope=col>end_station_name</th><th scope=col>end_station_id</th><th scope=col>start_lat</th><th scope=col>start_lng</th><th scope=col>end_lat</th><th scope=col>end_lng</th><th scope=col>member_casual</th></tr>\n",
       "\t<tr><th scope=col>&lt;chr&gt;</th><th scope=col>&lt;chr&gt;</th><th scope=col>&lt;dttm&gt;</th><th scope=col>&lt;dttm&gt;</th><th scope=col>&lt;chr&gt;</th><th scope=col>&lt;chr&gt;</th><th scope=col>&lt;chr&gt;</th><th scope=col>&lt;chr&gt;</th><th scope=col>&lt;dbl&gt;</th><th scope=col>&lt;dbl&gt;</th><th scope=col>&lt;dbl&gt;</th><th scope=col>&lt;dbl&gt;</th><th scope=col>&lt;chr&gt;</th></tr>\n",
       "</thead>\n",
       "<tbody>\n",
       "\t<tr><td>89E7AA6C29227EFF</td><td>classic_bike </td><td>2021-02-12 16:14:56</td><td>2021-02-12 16:21:43</td><td><span style=white-space:pre-wrap>Glenwood Ave &amp; Touhy Ave  </span></td><td><span style=white-space:pre-wrap>525         </span></td><td>Sheridan Rd &amp; Columbia Ave</td><td><span style=white-space:pre-wrap>660         </span></td><td>42.01270</td><td>-87.66606</td><td>42.00458</td><td>-87.66141</td><td>member</td></tr>\n",
       "\t<tr><td>0FEFDE2603568365</td><td>classic_bike </td><td>2021-02-14 17:52:38</td><td>2021-02-14 18:12:09</td><td><span style=white-space:pre-wrap>Glenwood Ave &amp; Touhy Ave  </span></td><td><span style=white-space:pre-wrap>525         </span></td><td><span style=white-space:pre-wrap>Bosworth Ave &amp; Howard St  </span></td><td><span style=white-space:pre-wrap>16806       </span></td><td>42.01270</td><td>-87.66606</td><td>42.01954</td><td>-87.66956</td><td>casual</td></tr>\n",
       "\t<tr><td>E6159D746B2DBB91</td><td>electric_bike</td><td>2021-02-09 19:10:18</td><td>2021-02-09 19:19:10</td><td><span style=white-space:pre-wrap>Clark St &amp; Lake St        </span></td><td>KA1503000012</td><td><span style=white-space:pre-wrap>State St &amp; Randolph St    </span></td><td>TA1305000029</td><td>41.88579</td><td>-87.63110</td><td>41.88487</td><td>-87.62750</td><td>member</td></tr>\n",
       "\t<tr><td>B32D3199F1C2E75B</td><td>classic_bike </td><td>2021-02-02 17:49:41</td><td>2021-02-02 17:54:06</td><td><span style=white-space:pre-wrap>Wood St &amp; Chicago Ave     </span></td><td><span style=white-space:pre-wrap>637         </span></td><td><span style=white-space:pre-wrap>Honore St &amp; Division St   </span></td><td>TA1305000034</td><td>41.89563</td><td>-87.67207</td><td>41.90312</td><td>-87.67394</td><td>member</td></tr>\n",
       "\t<tr><td>83E463F23575F4BF</td><td>electric_bike</td><td>2021-02-23 15:07:23</td><td>2021-02-23 15:22:37</td><td><span style=white-space:pre-wrap>State St &amp; 33rd St        </span></td><td><span style=white-space:pre-wrap>13216       </span></td><td><span style=white-space:pre-wrap>Emerald Ave &amp; 31st St     </span></td><td>TA1309000055</td><td>41.83473</td><td>-87.62583</td><td>41.83816</td><td>-87.64512</td><td>member</td></tr>\n",
       "\t<tr><td>BDAA7E3494E8D545</td><td>electric_bike</td><td>2021-02-24 15:43:33</td><td>2021-02-24 15:49:05</td><td>Fairbanks St &amp; Superior St</td><td><span style=white-space:pre-wrap>18003       </span></td><td><span style=white-space:pre-wrap>LaSalle Dr &amp; Huron St     </span></td><td>KP1705001026</td><td>41.89581</td><td>-87.62025</td><td>41.89489</td><td>-87.63198</td><td>casual</td></tr>\n",
       "</tbody>\n",
       "</table>\n"
      ],
      "text/latex": [
       "A tibble: 6 × 13\n",
       "\\begin{tabular}{lllllllllllll}\n",
       " ride\\_id & rideable\\_type & started\\_at & ended\\_at & start\\_station\\_name & start\\_station\\_id & end\\_station\\_name & end\\_station\\_id & start\\_lat & start\\_lng & end\\_lat & end\\_lng & member\\_casual\\\\\n",
       " <chr> & <chr> & <dttm> & <dttm> & <chr> & <chr> & <chr> & <chr> & <dbl> & <dbl> & <dbl> & <dbl> & <chr>\\\\\n",
       "\\hline\n",
       "\t 89E7AA6C29227EFF & classic\\_bike  & 2021-02-12 16:14:56 & 2021-02-12 16:21:43 & Glenwood Ave \\& Touhy Ave   & 525          & Sheridan Rd \\& Columbia Ave & 660          & 42.01270 & -87.66606 & 42.00458 & -87.66141 & member\\\\\n",
       "\t 0FEFDE2603568365 & classic\\_bike  & 2021-02-14 17:52:38 & 2021-02-14 18:12:09 & Glenwood Ave \\& Touhy Ave   & 525          & Bosworth Ave \\& Howard St   & 16806        & 42.01270 & -87.66606 & 42.01954 & -87.66956 & casual\\\\\n",
       "\t E6159D746B2DBB91 & electric\\_bike & 2021-02-09 19:10:18 & 2021-02-09 19:19:10 & Clark St \\& Lake St         & KA1503000012 & State St \\& Randolph St     & TA1305000029 & 41.88579 & -87.63110 & 41.88487 & -87.62750 & member\\\\\n",
       "\t B32D3199F1C2E75B & classic\\_bike  & 2021-02-02 17:49:41 & 2021-02-02 17:54:06 & Wood St \\& Chicago Ave      & 637          & Honore St \\& Division St    & TA1305000034 & 41.89563 & -87.67207 & 41.90312 & -87.67394 & member\\\\\n",
       "\t 83E463F23575F4BF & electric\\_bike & 2021-02-23 15:07:23 & 2021-02-23 15:22:37 & State St \\& 33rd St         & 13216        & Emerald Ave \\& 31st St      & TA1309000055 & 41.83473 & -87.62583 & 41.83816 & -87.64512 & member\\\\\n",
       "\t BDAA7E3494E8D545 & electric\\_bike & 2021-02-24 15:43:33 & 2021-02-24 15:49:05 & Fairbanks St \\& Superior St & 18003        & LaSalle Dr \\& Huron St      & KP1705001026 & 41.89581 & -87.62025 & 41.89489 & -87.63198 & casual\\\\\n",
       "\\end{tabular}\n"
      ],
      "text/markdown": [
       "\n",
       "A tibble: 6 × 13\n",
       "\n",
       "| ride_id &lt;chr&gt; | rideable_type &lt;chr&gt; | started_at &lt;dttm&gt; | ended_at &lt;dttm&gt; | start_station_name &lt;chr&gt; | start_station_id &lt;chr&gt; | end_station_name &lt;chr&gt; | end_station_id &lt;chr&gt; | start_lat &lt;dbl&gt; | start_lng &lt;dbl&gt; | end_lat &lt;dbl&gt; | end_lng &lt;dbl&gt; | member_casual &lt;chr&gt; |\n",
       "|---|---|---|---|---|---|---|---|---|---|---|---|---|\n",
       "| 89E7AA6C29227EFF | classic_bike  | 2021-02-12 16:14:56 | 2021-02-12 16:21:43 | Glenwood Ave &amp; Touhy Ave   | 525          | Sheridan Rd &amp; Columbia Ave | 660          | 42.01270 | -87.66606 | 42.00458 | -87.66141 | member |\n",
       "| 0FEFDE2603568365 | classic_bike  | 2021-02-14 17:52:38 | 2021-02-14 18:12:09 | Glenwood Ave &amp; Touhy Ave   | 525          | Bosworth Ave &amp; Howard St   | 16806        | 42.01270 | -87.66606 | 42.01954 | -87.66956 | casual |\n",
       "| E6159D746B2DBB91 | electric_bike | 2021-02-09 19:10:18 | 2021-02-09 19:19:10 | Clark St &amp; Lake St         | KA1503000012 | State St &amp; Randolph St     | TA1305000029 | 41.88579 | -87.63110 | 41.88487 | -87.62750 | member |\n",
       "| B32D3199F1C2E75B | classic_bike  | 2021-02-02 17:49:41 | 2021-02-02 17:54:06 | Wood St &amp; Chicago Ave      | 637          | Honore St &amp; Division St    | TA1305000034 | 41.89563 | -87.67207 | 41.90312 | -87.67394 | member |\n",
       "| 83E463F23575F4BF | electric_bike | 2021-02-23 15:07:23 | 2021-02-23 15:22:37 | State St &amp; 33rd St         | 13216        | Emerald Ave &amp; 31st St      | TA1309000055 | 41.83473 | -87.62583 | 41.83816 | -87.64512 | member |\n",
       "| BDAA7E3494E8D545 | electric_bike | 2021-02-24 15:43:33 | 2021-02-24 15:49:05 | Fairbanks St &amp; Superior St | 18003        | LaSalle Dr &amp; Huron St      | KP1705001026 | 41.89581 | -87.62025 | 41.89489 | -87.63198 | casual |\n",
       "\n"
      ],
      "text/plain": [
       "  ride_id          rideable_type started_at          ended_at           \n",
       "1 89E7AA6C29227EFF classic_bike  2021-02-12 16:14:56 2021-02-12 16:21:43\n",
       "2 0FEFDE2603568365 classic_bike  2021-02-14 17:52:38 2021-02-14 18:12:09\n",
       "3 E6159D746B2DBB91 electric_bike 2021-02-09 19:10:18 2021-02-09 19:19:10\n",
       "4 B32D3199F1C2E75B classic_bike  2021-02-02 17:49:41 2021-02-02 17:54:06\n",
       "5 83E463F23575F4BF electric_bike 2021-02-23 15:07:23 2021-02-23 15:22:37\n",
       "6 BDAA7E3494E8D545 electric_bike 2021-02-24 15:43:33 2021-02-24 15:49:05\n",
       "  start_station_name         start_station_id end_station_name          \n",
       "1 Glenwood Ave & Touhy Ave   525              Sheridan Rd & Columbia Ave\n",
       "2 Glenwood Ave & Touhy Ave   525              Bosworth Ave & Howard St  \n",
       "3 Clark St & Lake St         KA1503000012     State St & Randolph St    \n",
       "4 Wood St & Chicago Ave      637              Honore St & Division St   \n",
       "5 State St & 33rd St         13216            Emerald Ave & 31st St     \n",
       "6 Fairbanks St & Superior St 18003            LaSalle Dr & Huron St     \n",
       "  end_station_id start_lat start_lng end_lat  end_lng   member_casual\n",
       "1 660            42.01270  -87.66606 42.00458 -87.66141 member       \n",
       "2 16806          42.01270  -87.66606 42.01954 -87.66956 casual       \n",
       "3 TA1305000029   41.88579  -87.63110 41.88487 -87.62750 member       \n",
       "4 TA1305000034   41.89563  -87.67207 41.90312 -87.67394 member       \n",
       "5 TA1309000055   41.83473  -87.62583 41.83816 -87.64512 member       \n",
       "6 KP1705001026   41.89581  -87.62025 41.89489 -87.63198 casual       "
      ]
     },
     "metadata": {},
     "output_type": "display_data"
    },
    {
     "data": {
      "text/html": [
       "<table class=\"dataframe\">\n",
       "<caption>A tibble: 6 × 13</caption>\n",
       "<thead>\n",
       "\t<tr><th scope=col>ride_id</th><th scope=col>rideable_type</th><th scope=col>started_at</th><th scope=col>ended_at</th><th scope=col>start_station_name</th><th scope=col>start_station_id</th><th scope=col>end_station_name</th><th scope=col>end_station_id</th><th scope=col>start_lat</th><th scope=col>start_lng</th><th scope=col>end_lat</th><th scope=col>end_lng</th><th scope=col>member_casual</th></tr>\n",
       "\t<tr><th scope=col>&lt;chr&gt;</th><th scope=col>&lt;chr&gt;</th><th scope=col>&lt;dttm&gt;</th><th scope=col>&lt;dttm&gt;</th><th scope=col>&lt;chr&gt;</th><th scope=col>&lt;chr&gt;</th><th scope=col>&lt;chr&gt;</th><th scope=col>&lt;chr&gt;</th><th scope=col>&lt;dbl&gt;</th><th scope=col>&lt;dbl&gt;</th><th scope=col>&lt;dbl&gt;</th><th scope=col>&lt;dbl&gt;</th><th scope=col>&lt;chr&gt;</th></tr>\n",
       "</thead>\n",
       "<tbody>\n",
       "\t<tr><td>CFA86D4455AA1030</td><td>classic_bike</td><td>2021-03-16 08:32:30</td><td>2021-03-16 08:36:34</td><td>Humboldt Blvd &amp; Armitage Ave</td><td><span style=white-space:pre-wrap>15651       </span></td><td><span style=white-space:pre-wrap>Stave St &amp; Armitage Ave            </span></td><td><span style=white-space:pre-wrap>13266       </span></td><td>41.91751</td><td>-87.70181</td><td>41.91774</td><td>-87.69139</td><td>casual</td></tr>\n",
       "\t<tr><td>30D9DC61227D1AF3</td><td>classic_bike</td><td>2021-03-28 01:26:28</td><td>2021-03-28 01:36:55</td><td>Humboldt Blvd &amp; Armitage Ave</td><td><span style=white-space:pre-wrap>15651       </span></td><td>Central Park Ave &amp; Bloomingdale Ave</td><td><span style=white-space:pre-wrap>18017       </span></td><td>41.91751</td><td>-87.70181</td><td>41.91417</td><td>-87.71676</td><td>casual</td></tr>\n",
       "\t<tr><td>846D87A15682A284</td><td>classic_bike</td><td>2021-03-11 21:17:29</td><td>2021-03-11 21:33:53</td><td><span style=white-space:pre-wrap>Shields Ave &amp; 28th Pl       </span></td><td><span style=white-space:pre-wrap>15443       </span></td><td><span style=white-space:pre-wrap>Halsted St &amp; 35th St               </span></td><td>TA1308000043</td><td>41.84273</td><td>-87.63549</td><td>41.83066</td><td>-87.64717</td><td>casual</td></tr>\n",
       "\t<tr><td>994D05AA75A168F2</td><td>classic_bike</td><td>2021-03-11 13:26:42</td><td>2021-03-11 13:55:41</td><td>Winthrop Ave &amp; Lawrence Ave </td><td>TA1308000021</td><td><span style=white-space:pre-wrap>Broadway &amp; Sheridan Rd             </span></td><td><span style=white-space:pre-wrap>13323       </span></td><td>41.96881</td><td>-87.65766</td><td>41.95283</td><td>-87.64999</td><td>casual</td></tr>\n",
       "\t<tr><td>DF7464FBE92D8308</td><td>classic_bike</td><td>2021-03-21 09:09:37</td><td>2021-03-21 09:27:33</td><td><span style=white-space:pre-wrap>Glenwood Ave &amp; Touhy Ave    </span></td><td><span style=white-space:pre-wrap>525         </span></td><td><span style=white-space:pre-wrap>Chicago Ave &amp; Sheridan Rd          </span></td><td><span style=white-space:pre-wrap>E008        </span></td><td>42.01270</td><td>-87.66606</td><td>42.05049</td><td>-87.67782</td><td>casual</td></tr>\n",
       "\t<tr><td>CEBA8516FD17F8D8</td><td>classic_bike</td><td>2021-03-20 11:08:47</td><td>2021-03-20 11:29:39</td><td><span style=white-space:pre-wrap>Glenwood Ave &amp; Touhy Ave    </span></td><td><span style=white-space:pre-wrap>525         </span></td><td><span style=white-space:pre-wrap>Chicago Ave &amp; Sheridan Rd          </span></td><td><span style=white-space:pre-wrap>E008        </span></td><td>42.01270</td><td>-87.66606</td><td>42.05049</td><td>-87.67782</td><td>casual</td></tr>\n",
       "</tbody>\n",
       "</table>\n"
      ],
      "text/latex": [
       "A tibble: 6 × 13\n",
       "\\begin{tabular}{lllllllllllll}\n",
       " ride\\_id & rideable\\_type & started\\_at & ended\\_at & start\\_station\\_name & start\\_station\\_id & end\\_station\\_name & end\\_station\\_id & start\\_lat & start\\_lng & end\\_lat & end\\_lng & member\\_casual\\\\\n",
       " <chr> & <chr> & <dttm> & <dttm> & <chr> & <chr> & <chr> & <chr> & <dbl> & <dbl> & <dbl> & <dbl> & <chr>\\\\\n",
       "\\hline\n",
       "\t CFA86D4455AA1030 & classic\\_bike & 2021-03-16 08:32:30 & 2021-03-16 08:36:34 & Humboldt Blvd \\& Armitage Ave & 15651        & Stave St \\& Armitage Ave             & 13266        & 41.91751 & -87.70181 & 41.91774 & -87.69139 & casual\\\\\n",
       "\t 30D9DC61227D1AF3 & classic\\_bike & 2021-03-28 01:26:28 & 2021-03-28 01:36:55 & Humboldt Blvd \\& Armitage Ave & 15651        & Central Park Ave \\& Bloomingdale Ave & 18017        & 41.91751 & -87.70181 & 41.91417 & -87.71676 & casual\\\\\n",
       "\t 846D87A15682A284 & classic\\_bike & 2021-03-11 21:17:29 & 2021-03-11 21:33:53 & Shields Ave \\& 28th Pl        & 15443        & Halsted St \\& 35th St                & TA1308000043 & 41.84273 & -87.63549 & 41.83066 & -87.64717 & casual\\\\\n",
       "\t 994D05AA75A168F2 & classic\\_bike & 2021-03-11 13:26:42 & 2021-03-11 13:55:41 & Winthrop Ave \\& Lawrence Ave  & TA1308000021 & Broadway \\& Sheridan Rd              & 13323        & 41.96881 & -87.65766 & 41.95283 & -87.64999 & casual\\\\\n",
       "\t DF7464FBE92D8308 & classic\\_bike & 2021-03-21 09:09:37 & 2021-03-21 09:27:33 & Glenwood Ave \\& Touhy Ave     & 525          & Chicago Ave \\& Sheridan Rd           & E008         & 42.01270 & -87.66606 & 42.05049 & -87.67782 & casual\\\\\n",
       "\t CEBA8516FD17F8D8 & classic\\_bike & 2021-03-20 11:08:47 & 2021-03-20 11:29:39 & Glenwood Ave \\& Touhy Ave     & 525          & Chicago Ave \\& Sheridan Rd           & E008         & 42.01270 & -87.66606 & 42.05049 & -87.67782 & casual\\\\\n",
       "\\end{tabular}\n"
      ],
      "text/markdown": [
       "\n",
       "A tibble: 6 × 13\n",
       "\n",
       "| ride_id &lt;chr&gt; | rideable_type &lt;chr&gt; | started_at &lt;dttm&gt; | ended_at &lt;dttm&gt; | start_station_name &lt;chr&gt; | start_station_id &lt;chr&gt; | end_station_name &lt;chr&gt; | end_station_id &lt;chr&gt; | start_lat &lt;dbl&gt; | start_lng &lt;dbl&gt; | end_lat &lt;dbl&gt; | end_lng &lt;dbl&gt; | member_casual &lt;chr&gt; |\n",
       "|---|---|---|---|---|---|---|---|---|---|---|---|---|\n",
       "| CFA86D4455AA1030 | classic_bike | 2021-03-16 08:32:30 | 2021-03-16 08:36:34 | Humboldt Blvd &amp; Armitage Ave | 15651        | Stave St &amp; Armitage Ave             | 13266        | 41.91751 | -87.70181 | 41.91774 | -87.69139 | casual |\n",
       "| 30D9DC61227D1AF3 | classic_bike | 2021-03-28 01:26:28 | 2021-03-28 01:36:55 | Humboldt Blvd &amp; Armitage Ave | 15651        | Central Park Ave &amp; Bloomingdale Ave | 18017        | 41.91751 | -87.70181 | 41.91417 | -87.71676 | casual |\n",
       "| 846D87A15682A284 | classic_bike | 2021-03-11 21:17:29 | 2021-03-11 21:33:53 | Shields Ave &amp; 28th Pl        | 15443        | Halsted St &amp; 35th St                | TA1308000043 | 41.84273 | -87.63549 | 41.83066 | -87.64717 | casual |\n",
       "| 994D05AA75A168F2 | classic_bike | 2021-03-11 13:26:42 | 2021-03-11 13:55:41 | Winthrop Ave &amp; Lawrence Ave  | TA1308000021 | Broadway &amp; Sheridan Rd              | 13323        | 41.96881 | -87.65766 | 41.95283 | -87.64999 | casual |\n",
       "| DF7464FBE92D8308 | classic_bike | 2021-03-21 09:09:37 | 2021-03-21 09:27:33 | Glenwood Ave &amp; Touhy Ave     | 525          | Chicago Ave &amp; Sheridan Rd           | E008         | 42.01270 | -87.66606 | 42.05049 | -87.67782 | casual |\n",
       "| CEBA8516FD17F8D8 | classic_bike | 2021-03-20 11:08:47 | 2021-03-20 11:29:39 | Glenwood Ave &amp; Touhy Ave     | 525          | Chicago Ave &amp; Sheridan Rd           | E008         | 42.01270 | -87.66606 | 42.05049 | -87.67782 | casual |\n",
       "\n"
      ],
      "text/plain": [
       "  ride_id          rideable_type started_at          ended_at           \n",
       "1 CFA86D4455AA1030 classic_bike  2021-03-16 08:32:30 2021-03-16 08:36:34\n",
       "2 30D9DC61227D1AF3 classic_bike  2021-03-28 01:26:28 2021-03-28 01:36:55\n",
       "3 846D87A15682A284 classic_bike  2021-03-11 21:17:29 2021-03-11 21:33:53\n",
       "4 994D05AA75A168F2 classic_bike  2021-03-11 13:26:42 2021-03-11 13:55:41\n",
       "5 DF7464FBE92D8308 classic_bike  2021-03-21 09:09:37 2021-03-21 09:27:33\n",
       "6 CEBA8516FD17F8D8 classic_bike  2021-03-20 11:08:47 2021-03-20 11:29:39\n",
       "  start_station_name           start_station_id\n",
       "1 Humboldt Blvd & Armitage Ave 15651           \n",
       "2 Humboldt Blvd & Armitage Ave 15651           \n",
       "3 Shields Ave & 28th Pl        15443           \n",
       "4 Winthrop Ave & Lawrence Ave  TA1308000021    \n",
       "5 Glenwood Ave & Touhy Ave     525             \n",
       "6 Glenwood Ave & Touhy Ave     525             \n",
       "  end_station_name                    end_station_id start_lat start_lng\n",
       "1 Stave St & Armitage Ave             13266          41.91751  -87.70181\n",
       "2 Central Park Ave & Bloomingdale Ave 18017          41.91751  -87.70181\n",
       "3 Halsted St & 35th St                TA1308000043   41.84273  -87.63549\n",
       "4 Broadway & Sheridan Rd              13323          41.96881  -87.65766\n",
       "5 Chicago Ave & Sheridan Rd           E008           42.01270  -87.66606\n",
       "6 Chicago Ave & Sheridan Rd           E008           42.01270  -87.66606\n",
       "  end_lat  end_lng   member_casual\n",
       "1 41.91774 -87.69139 casual       \n",
       "2 41.91417 -87.71676 casual       \n",
       "3 41.83066 -87.64717 casual       \n",
       "4 41.95283 -87.64999 casual       \n",
       "5 42.05049 -87.67782 casual       \n",
       "6 42.05049 -87.67782 casual       "
      ]
     },
     "metadata": {},
     "output_type": "display_data"
    },
    {
     "data": {
      "text/html": [
       "<table class=\"dataframe\">\n",
       "<caption>A tibble: 6 × 13</caption>\n",
       "<thead>\n",
       "\t<tr><th scope=col>ride_id</th><th scope=col>rideable_type</th><th scope=col>started_at</th><th scope=col>ended_at</th><th scope=col>start_station_name</th><th scope=col>start_station_id</th><th scope=col>end_station_name</th><th scope=col>end_station_id</th><th scope=col>start_lat</th><th scope=col>start_lng</th><th scope=col>end_lat</th><th scope=col>end_lng</th><th scope=col>member_casual</th></tr>\n",
       "\t<tr><th scope=col>&lt;chr&gt;</th><th scope=col>&lt;chr&gt;</th><th scope=col>&lt;dttm&gt;</th><th scope=col>&lt;dttm&gt;</th><th scope=col>&lt;chr&gt;</th><th scope=col>&lt;chr&gt;</th><th scope=col>&lt;chr&gt;</th><th scope=col>&lt;chr&gt;</th><th scope=col>&lt;dbl&gt;</th><th scope=col>&lt;dbl&gt;</th><th scope=col>&lt;dbl&gt;</th><th scope=col>&lt;dbl&gt;</th><th scope=col>&lt;chr&gt;</th></tr>\n",
       "</thead>\n",
       "<tbody>\n",
       "\t<tr><td>6C992BD37A98A63F</td><td>classic_bike</td><td>2021-04-12 18:25:36</td><td>2021-04-12 18:56:55</td><td><span style=white-space:pre-wrap>State St &amp; Pearson St   </span></td><td>TA1307000061</td><td>Southport Ave &amp; Waveland Ave</td><td><span style=white-space:pre-wrap>13235       </span></td><td>41.89745</td><td>-87.62872</td><td>41.94815</td><td>-87.66394</td><td>member</td></tr>\n",
       "\t<tr><td>1E0145613A209000</td><td>docked_bike </td><td>2021-04-27 17:27:11</td><td>2021-04-27 18:31:29</td><td>Dorchester Ave &amp; 49th St</td><td>KA1503000069</td><td><span style=white-space:pre-wrap>Dorchester Ave &amp; 49th St    </span></td><td>KA1503000069</td><td>41.80577</td><td>-87.59246</td><td>41.80577</td><td>-87.59246</td><td>casual</td></tr>\n",
       "\t<tr><td>E498E15508A80BAD</td><td>docked_bike </td><td>2021-04-03 12:42:45</td><td>2021-04-07 11:40:24</td><td><span style=white-space:pre-wrap>Loomis Blvd &amp; 84th St   </span></td><td><span style=white-space:pre-wrap>20121       </span></td><td><span style=white-space:pre-wrap>Loomis Blvd &amp; 84th St       </span></td><td><span style=white-space:pre-wrap>20121       </span></td><td>41.74149</td><td>-87.65841</td><td>41.74149</td><td>-87.65841</td><td>casual</td></tr>\n",
       "\t<tr><td>1887262AD101C604</td><td>classic_bike</td><td>2021-04-17 09:17:42</td><td>2021-04-17 09:42:48</td><td>Honore St &amp; Division St </td><td>TA1305000034</td><td>Southport Ave &amp; Waveland Ave</td><td><span style=white-space:pre-wrap>13235       </span></td><td>41.90312</td><td>-87.67394</td><td>41.94815</td><td>-87.66394</td><td>member</td></tr>\n",
       "\t<tr><td>C123548CAB2A32A5</td><td>docked_bike </td><td>2021-04-03 12:42:25</td><td>2021-04-03 14:13:42</td><td><span style=white-space:pre-wrap>Loomis Blvd &amp; 84th St   </span></td><td><span style=white-space:pre-wrap>20121       </span></td><td><span style=white-space:pre-wrap>Loomis Blvd &amp; 84th St       </span></td><td><span style=white-space:pre-wrap>20121       </span></td><td>41.74149</td><td>-87.65841</td><td>41.74149</td><td>-87.65841</td><td>casual</td></tr>\n",
       "\t<tr><td>097E76F3651B1AC1</td><td>classic_bike</td><td>2021-04-25 18:43:18</td><td>2021-04-25 18:43:59</td><td><span style=white-space:pre-wrap>Clinton St &amp; Polk St    </span></td><td><span style=white-space:pre-wrap>15542       </span></td><td><span style=white-space:pre-wrap>Clinton St &amp; Polk St        </span></td><td><span style=white-space:pre-wrap>15542       </span></td><td>41.87147</td><td>-87.64095</td><td>41.87147</td><td>-87.64095</td><td>casual</td></tr>\n",
       "</tbody>\n",
       "</table>\n"
      ],
      "text/latex": [
       "A tibble: 6 × 13\n",
       "\\begin{tabular}{lllllllllllll}\n",
       " ride\\_id & rideable\\_type & started\\_at & ended\\_at & start\\_station\\_name & start\\_station\\_id & end\\_station\\_name & end\\_station\\_id & start\\_lat & start\\_lng & end\\_lat & end\\_lng & member\\_casual\\\\\n",
       " <chr> & <chr> & <dttm> & <dttm> & <chr> & <chr> & <chr> & <chr> & <dbl> & <dbl> & <dbl> & <dbl> & <chr>\\\\\n",
       "\\hline\n",
       "\t 6C992BD37A98A63F & classic\\_bike & 2021-04-12 18:25:36 & 2021-04-12 18:56:55 & State St \\& Pearson St    & TA1307000061 & Southport Ave \\& Waveland Ave & 13235        & 41.89745 & -87.62872 & 41.94815 & -87.66394 & member\\\\\n",
       "\t 1E0145613A209000 & docked\\_bike  & 2021-04-27 17:27:11 & 2021-04-27 18:31:29 & Dorchester Ave \\& 49th St & KA1503000069 & Dorchester Ave \\& 49th St     & KA1503000069 & 41.80577 & -87.59246 & 41.80577 & -87.59246 & casual\\\\\n",
       "\t E498E15508A80BAD & docked\\_bike  & 2021-04-03 12:42:45 & 2021-04-07 11:40:24 & Loomis Blvd \\& 84th St    & 20121        & Loomis Blvd \\& 84th St        & 20121        & 41.74149 & -87.65841 & 41.74149 & -87.65841 & casual\\\\\n",
       "\t 1887262AD101C604 & classic\\_bike & 2021-04-17 09:17:42 & 2021-04-17 09:42:48 & Honore St \\& Division St  & TA1305000034 & Southport Ave \\& Waveland Ave & 13235        & 41.90312 & -87.67394 & 41.94815 & -87.66394 & member\\\\\n",
       "\t C123548CAB2A32A5 & docked\\_bike  & 2021-04-03 12:42:25 & 2021-04-03 14:13:42 & Loomis Blvd \\& 84th St    & 20121        & Loomis Blvd \\& 84th St        & 20121        & 41.74149 & -87.65841 & 41.74149 & -87.65841 & casual\\\\\n",
       "\t 097E76F3651B1AC1 & classic\\_bike & 2021-04-25 18:43:18 & 2021-04-25 18:43:59 & Clinton St \\& Polk St     & 15542        & Clinton St \\& Polk St         & 15542        & 41.87147 & -87.64095 & 41.87147 & -87.64095 & casual\\\\\n",
       "\\end{tabular}\n"
      ],
      "text/markdown": [
       "\n",
       "A tibble: 6 × 13\n",
       "\n",
       "| ride_id &lt;chr&gt; | rideable_type &lt;chr&gt; | started_at &lt;dttm&gt; | ended_at &lt;dttm&gt; | start_station_name &lt;chr&gt; | start_station_id &lt;chr&gt; | end_station_name &lt;chr&gt; | end_station_id &lt;chr&gt; | start_lat &lt;dbl&gt; | start_lng &lt;dbl&gt; | end_lat &lt;dbl&gt; | end_lng &lt;dbl&gt; | member_casual &lt;chr&gt; |\n",
       "|---|---|---|---|---|---|---|---|---|---|---|---|---|\n",
       "| 6C992BD37A98A63F | classic_bike | 2021-04-12 18:25:36 | 2021-04-12 18:56:55 | State St &amp; Pearson St    | TA1307000061 | Southport Ave &amp; Waveland Ave | 13235        | 41.89745 | -87.62872 | 41.94815 | -87.66394 | member |\n",
       "| 1E0145613A209000 | docked_bike  | 2021-04-27 17:27:11 | 2021-04-27 18:31:29 | Dorchester Ave &amp; 49th St | KA1503000069 | Dorchester Ave &amp; 49th St     | KA1503000069 | 41.80577 | -87.59246 | 41.80577 | -87.59246 | casual |\n",
       "| E498E15508A80BAD | docked_bike  | 2021-04-03 12:42:45 | 2021-04-07 11:40:24 | Loomis Blvd &amp; 84th St    | 20121        | Loomis Blvd &amp; 84th St        | 20121        | 41.74149 | -87.65841 | 41.74149 | -87.65841 | casual |\n",
       "| 1887262AD101C604 | classic_bike | 2021-04-17 09:17:42 | 2021-04-17 09:42:48 | Honore St &amp; Division St  | TA1305000034 | Southport Ave &amp; Waveland Ave | 13235        | 41.90312 | -87.67394 | 41.94815 | -87.66394 | member |\n",
       "| C123548CAB2A32A5 | docked_bike  | 2021-04-03 12:42:25 | 2021-04-03 14:13:42 | Loomis Blvd &amp; 84th St    | 20121        | Loomis Blvd &amp; 84th St        | 20121        | 41.74149 | -87.65841 | 41.74149 | -87.65841 | casual |\n",
       "| 097E76F3651B1AC1 | classic_bike | 2021-04-25 18:43:18 | 2021-04-25 18:43:59 | Clinton St &amp; Polk St     | 15542        | Clinton St &amp; Polk St         | 15542        | 41.87147 | -87.64095 | 41.87147 | -87.64095 | casual |\n",
       "\n"
      ],
      "text/plain": [
       "  ride_id          rideable_type started_at          ended_at           \n",
       "1 6C992BD37A98A63F classic_bike  2021-04-12 18:25:36 2021-04-12 18:56:55\n",
       "2 1E0145613A209000 docked_bike   2021-04-27 17:27:11 2021-04-27 18:31:29\n",
       "3 E498E15508A80BAD docked_bike   2021-04-03 12:42:45 2021-04-07 11:40:24\n",
       "4 1887262AD101C604 classic_bike  2021-04-17 09:17:42 2021-04-17 09:42:48\n",
       "5 C123548CAB2A32A5 docked_bike   2021-04-03 12:42:25 2021-04-03 14:13:42\n",
       "6 097E76F3651B1AC1 classic_bike  2021-04-25 18:43:18 2021-04-25 18:43:59\n",
       "  start_station_name       start_station_id end_station_name            \n",
       "1 State St & Pearson St    TA1307000061     Southport Ave & Waveland Ave\n",
       "2 Dorchester Ave & 49th St KA1503000069     Dorchester Ave & 49th St    \n",
       "3 Loomis Blvd & 84th St    20121            Loomis Blvd & 84th St       \n",
       "4 Honore St & Division St  TA1305000034     Southport Ave & Waveland Ave\n",
       "5 Loomis Blvd & 84th St    20121            Loomis Blvd & 84th St       \n",
       "6 Clinton St & Polk St     15542            Clinton St & Polk St        \n",
       "  end_station_id start_lat start_lng end_lat  end_lng   member_casual\n",
       "1 13235          41.89745  -87.62872 41.94815 -87.66394 member       \n",
       "2 KA1503000069   41.80577  -87.59246 41.80577 -87.59246 casual       \n",
       "3 20121          41.74149  -87.65841 41.74149 -87.65841 casual       \n",
       "4 13235          41.90312  -87.67394 41.94815 -87.66394 member       \n",
       "5 20121          41.74149  -87.65841 41.74149 -87.65841 casual       \n",
       "6 15542          41.87147  -87.64095 41.87147 -87.64095 casual       "
      ]
     },
     "metadata": {},
     "output_type": "display_data"
    },
    {
     "data": {
      "text/html": [
       "<table class=\"dataframe\">\n",
       "<caption>A tibble: 6 × 13</caption>\n",
       "<thead>\n",
       "\t<tr><th scope=col>ride_id</th><th scope=col>rideable_type</th><th scope=col>started_at</th><th scope=col>ended_at</th><th scope=col>start_station_name</th><th scope=col>start_station_id</th><th scope=col>end_station_name</th><th scope=col>end_station_id</th><th scope=col>start_lat</th><th scope=col>start_lng</th><th scope=col>end_lat</th><th scope=col>end_lng</th><th scope=col>member_casual</th></tr>\n",
       "\t<tr><th scope=col>&lt;chr&gt;</th><th scope=col>&lt;chr&gt;</th><th scope=col>&lt;dttm&gt;</th><th scope=col>&lt;dttm&gt;</th><th scope=col>&lt;chr&gt;</th><th scope=col>&lt;chr&gt;</th><th scope=col>&lt;chr&gt;</th><th scope=col>&lt;chr&gt;</th><th scope=col>&lt;dbl&gt;</th><th scope=col>&lt;dbl&gt;</th><th scope=col>&lt;dbl&gt;</th><th scope=col>&lt;dbl&gt;</th><th scope=col>&lt;chr&gt;</th></tr>\n",
       "</thead>\n",
       "<tbody>\n",
       "\t<tr><td>C809ED75D6160B2A</td><td>electric_bike</td><td>2021-05-30 11:58:15</td><td>2021-05-30 12:10:39</td><td>NA</td><td>NA</td><td>NA</td><td>NA</td><td>41.90</td><td>-87.63</td><td>41.89</td><td>-87.61</td><td>casual</td></tr>\n",
       "\t<tr><td>DD59FDCE0ACACAF3</td><td>electric_bike</td><td>2021-05-30 11:29:14</td><td>2021-05-30 12:14:09</td><td>NA</td><td>NA</td><td>NA</td><td>NA</td><td>41.88</td><td>-87.62</td><td>41.79</td><td>-87.58</td><td>casual</td></tr>\n",
       "\t<tr><td>0AB83CB88C43EFC2</td><td>electric_bike</td><td>2021-05-30 14:24:01</td><td>2021-05-30 14:25:13</td><td>NA</td><td>NA</td><td>NA</td><td>NA</td><td>41.92</td><td>-87.70</td><td>41.92</td><td>-87.70</td><td>casual</td></tr>\n",
       "\t<tr><td>7881AC6D39110C60</td><td>electric_bike</td><td>2021-05-30 14:25:51</td><td>2021-05-30 14:41:04</td><td>NA</td><td>NA</td><td>NA</td><td>NA</td><td>41.92</td><td>-87.70</td><td>41.94</td><td>-87.69</td><td>casual</td></tr>\n",
       "\t<tr><td>853FA701B4582BAF</td><td>electric_bike</td><td>2021-05-30 18:15:39</td><td>2021-05-30 18:22:32</td><td>NA</td><td>NA</td><td>NA</td><td>NA</td><td>41.94</td><td>-87.69</td><td>41.94</td><td>-87.70</td><td>casual</td></tr>\n",
       "\t<tr><td>F5E63DFD96B2A737</td><td>electric_bike</td><td>2021-05-30 11:33:41</td><td>2021-05-30 11:57:17</td><td>NA</td><td>NA</td><td>NA</td><td>NA</td><td>41.88</td><td>-87.63</td><td>41.89</td><td>-87.62</td><td>casual</td></tr>\n",
       "</tbody>\n",
       "</table>\n"
      ],
      "text/latex": [
       "A tibble: 6 × 13\n",
       "\\begin{tabular}{lllllllllllll}\n",
       " ride\\_id & rideable\\_type & started\\_at & ended\\_at & start\\_station\\_name & start\\_station\\_id & end\\_station\\_name & end\\_station\\_id & start\\_lat & start\\_lng & end\\_lat & end\\_lng & member\\_casual\\\\\n",
       " <chr> & <chr> & <dttm> & <dttm> & <chr> & <chr> & <chr> & <chr> & <dbl> & <dbl> & <dbl> & <dbl> & <chr>\\\\\n",
       "\\hline\n",
       "\t C809ED75D6160B2A & electric\\_bike & 2021-05-30 11:58:15 & 2021-05-30 12:10:39 & NA & NA & NA & NA & 41.90 & -87.63 & 41.89 & -87.61 & casual\\\\\n",
       "\t DD59FDCE0ACACAF3 & electric\\_bike & 2021-05-30 11:29:14 & 2021-05-30 12:14:09 & NA & NA & NA & NA & 41.88 & -87.62 & 41.79 & -87.58 & casual\\\\\n",
       "\t 0AB83CB88C43EFC2 & electric\\_bike & 2021-05-30 14:24:01 & 2021-05-30 14:25:13 & NA & NA & NA & NA & 41.92 & -87.70 & 41.92 & -87.70 & casual\\\\\n",
       "\t 7881AC6D39110C60 & electric\\_bike & 2021-05-30 14:25:51 & 2021-05-30 14:41:04 & NA & NA & NA & NA & 41.92 & -87.70 & 41.94 & -87.69 & casual\\\\\n",
       "\t 853FA701B4582BAF & electric\\_bike & 2021-05-30 18:15:39 & 2021-05-30 18:22:32 & NA & NA & NA & NA & 41.94 & -87.69 & 41.94 & -87.70 & casual\\\\\n",
       "\t F5E63DFD96B2A737 & electric\\_bike & 2021-05-30 11:33:41 & 2021-05-30 11:57:17 & NA & NA & NA & NA & 41.88 & -87.63 & 41.89 & -87.62 & casual\\\\\n",
       "\\end{tabular}\n"
      ],
      "text/markdown": [
       "\n",
       "A tibble: 6 × 13\n",
       "\n",
       "| ride_id &lt;chr&gt; | rideable_type &lt;chr&gt; | started_at &lt;dttm&gt; | ended_at &lt;dttm&gt; | start_station_name &lt;chr&gt; | start_station_id &lt;chr&gt; | end_station_name &lt;chr&gt; | end_station_id &lt;chr&gt; | start_lat &lt;dbl&gt; | start_lng &lt;dbl&gt; | end_lat &lt;dbl&gt; | end_lng &lt;dbl&gt; | member_casual &lt;chr&gt; |\n",
       "|---|---|---|---|---|---|---|---|---|---|---|---|---|\n",
       "| C809ED75D6160B2A | electric_bike | 2021-05-30 11:58:15 | 2021-05-30 12:10:39 | NA | NA | NA | NA | 41.90 | -87.63 | 41.89 | -87.61 | casual |\n",
       "| DD59FDCE0ACACAF3 | electric_bike | 2021-05-30 11:29:14 | 2021-05-30 12:14:09 | NA | NA | NA | NA | 41.88 | -87.62 | 41.79 | -87.58 | casual |\n",
       "| 0AB83CB88C43EFC2 | electric_bike | 2021-05-30 14:24:01 | 2021-05-30 14:25:13 | NA | NA | NA | NA | 41.92 | -87.70 | 41.92 | -87.70 | casual |\n",
       "| 7881AC6D39110C60 | electric_bike | 2021-05-30 14:25:51 | 2021-05-30 14:41:04 | NA | NA | NA | NA | 41.92 | -87.70 | 41.94 | -87.69 | casual |\n",
       "| 853FA701B4582BAF | electric_bike | 2021-05-30 18:15:39 | 2021-05-30 18:22:32 | NA | NA | NA | NA | 41.94 | -87.69 | 41.94 | -87.70 | casual |\n",
       "| F5E63DFD96B2A737 | electric_bike | 2021-05-30 11:33:41 | 2021-05-30 11:57:17 | NA | NA | NA | NA | 41.88 | -87.63 | 41.89 | -87.62 | casual |\n",
       "\n"
      ],
      "text/plain": [
       "  ride_id          rideable_type started_at          ended_at           \n",
       "1 C809ED75D6160B2A electric_bike 2021-05-30 11:58:15 2021-05-30 12:10:39\n",
       "2 DD59FDCE0ACACAF3 electric_bike 2021-05-30 11:29:14 2021-05-30 12:14:09\n",
       "3 0AB83CB88C43EFC2 electric_bike 2021-05-30 14:24:01 2021-05-30 14:25:13\n",
       "4 7881AC6D39110C60 electric_bike 2021-05-30 14:25:51 2021-05-30 14:41:04\n",
       "5 853FA701B4582BAF electric_bike 2021-05-30 18:15:39 2021-05-30 18:22:32\n",
       "6 F5E63DFD96B2A737 electric_bike 2021-05-30 11:33:41 2021-05-30 11:57:17\n",
       "  start_station_name start_station_id end_station_name end_station_id start_lat\n",
       "1 NA                 NA               NA               NA             41.90    \n",
       "2 NA                 NA               NA               NA             41.88    \n",
       "3 NA                 NA               NA               NA             41.92    \n",
       "4 NA                 NA               NA               NA             41.92    \n",
       "5 NA                 NA               NA               NA             41.94    \n",
       "6 NA                 NA               NA               NA             41.88    \n",
       "  start_lng end_lat end_lng member_casual\n",
       "1 -87.63    41.89   -87.61  casual       \n",
       "2 -87.62    41.79   -87.58  casual       \n",
       "3 -87.70    41.92   -87.70  casual       \n",
       "4 -87.70    41.94   -87.69  casual       \n",
       "5 -87.69    41.94   -87.70  casual       \n",
       "6 -87.63    41.89   -87.62  casual       "
      ]
     },
     "metadata": {},
     "output_type": "display_data"
    }
   ],
   "source": [
    "head(tripdata_202006)\n",
    "head(tripdata_202007)\n",
    "head(tripdata_202008)\n",
    "head(tripdata_202009)\n",
    "head(tripdata_202010)\n",
    "head(tripdata_202011)\n",
    "head(tripdata_202012)\n",
    "head(tripdata_202101)\n",
    "head(tripdata_202102)\n",
    "head(tripdata_202103)\n",
    "head(tripdata_202104)\n",
    "head(tripdata_202105)"
   ]
  },
  {
   "cell_type": "markdown",
   "id": "7cb8e9e4",
   "metadata": {
    "papermill": {
     "duration": 0.040152,
     "end_time": "2021-07-07T07:19:43.541688",
     "exception": false,
     "start_time": "2021-07-07T07:19:43.501536",
     "status": "completed"
    },
    "tags": []
   },
   "source": [
    "All the data frames are structured and are in the wide format. We can see that each data frame has 13 columns and several thousand rows. The column names in each data frame are the same but there is some inconsistency in the data types of few columns in some data frames and there are some missing values as well which we'll correct in the **Process** phase.\n",
    "The data is Reliable. It can be validated from the original source [link](https://divvy-tripdata.s3.amazonaws.com/index.html). It is comprehensive and has all the information required to solve the business task. It is current as it has the most recent 12 month data available (Till May 2021). It is cited by **Motivate International Inc.** (provider of this data) under this [license](https://www.divvybikes.com/data-license-agreement). \n",
    "Hence, the data is credible. The data doesn't contain any Personally Identifiable Information (PII) hence it takes care of the privacy of our riders.  \n",
    "\n",
    "## Process Phase  \n",
    "#### Data Cleaning and Manipulation\n",
    "As seen earlier, the data type of the start_station_id and end_station_id in the data frames of June 2020 (202006_tripdata) - November 2020 (202011_tripdata) are formatted as double while the rest are formatted as character. All of them should be formatted as character for consistency throughout the data frames so that we can combine/stack them together. Also, we don't have to do any calculations using them so no need to format them as double."
   ]
  },
  {
   "cell_type": "code",
   "execution_count": 4,
   "id": "e2b93443",
   "metadata": {
    "execution": {
     "iopub.execute_input": "2021-07-07T07:19:43.627009Z",
     "iopub.status.busy": "2021-07-07T07:19:43.624714Z",
     "iopub.status.idle": "2021-07-07T07:19:43.703497Z",
     "shell.execute_reply": "2021-07-07T07:19:43.700070Z"
    },
    "papermill": {
     "duration": 0.122851,
     "end_time": "2021-07-07T07:19:43.703677",
     "exception": false,
     "start_time": "2021-07-07T07:19:43.580826",
     "status": "completed"
    },
    "tags": []
   },
   "outputs": [],
   "source": [
    "tripdata_202006 <- mutate(tripdata_202006, start_station_id = as.character(start_station_id), end_station_id = as.character(end_station_id))\n",
    "tripdata_202007 <- mutate(tripdata_202007, start_station_id = as.character(start_station_id), end_station_id = as.character(end_station_id))\n",
    "tripdata_202008 <- mutate(tripdata_202008, start_station_id = as.character(start_station_id), end_station_id = as.character(end_station_id))         \n",
    "tripdata_202009 <- mutate(tripdata_202009, start_station_id = as.character(start_station_id), end_station_id = as.character(end_station_id))\n",
    "tripdata_202010 <- mutate(tripdata_202010, start_station_id = as.character(start_station_id), end_station_id = as.character(end_station_id))                                              \n",
    "tripdata_202011 <- mutate(tripdata_202011, start_station_id = as.character(start_station_id), end_station_id = as.character(end_station_id))          "
   ]
  },
  {
   "cell_type": "markdown",
   "id": "2c5e0285",
   "metadata": {
    "papermill": {
     "duration": 0.039018,
     "end_time": "2021-07-07T07:19:43.781740",
     "exception": false,
     "start_time": "2021-07-07T07:19:43.742722",
     "status": "completed"
    },
    "tags": []
   },
   "source": [
    "**Stacking all the data frames into one big data frame:**"
   ]
  },
  {
   "cell_type": "code",
   "execution_count": 5,
   "id": "379f0843",
   "metadata": {
    "execution": {
     "iopub.execute_input": "2021-07-07T07:19:43.866927Z",
     "iopub.status.busy": "2021-07-07T07:19:43.864716Z",
     "iopub.status.idle": "2021-07-07T07:19:53.192886Z",
     "shell.execute_reply": "2021-07-07T07:19:53.191077Z"
    },
    "papermill": {
     "duration": 9.37248,
     "end_time": "2021-07-07T07:19:53.193097",
     "exception": false,
     "start_time": "2021-07-07T07:19:43.820617",
     "status": "completed"
    },
    "tags": []
   },
   "outputs": [],
   "source": [
    "all_trips <- bind_rows(tripdata_202006, tripdata_202007, tripdata_202008, tripdata_202009, tripdata_202010, tripdata_202011, tripdata_202012, tripdata_202101, tripdata_202102, tripdata_202103, tripdata_202104, tripdata_202105)"
   ]
  },
  {
   "cell_type": "markdown",
   "id": "9395f2dd",
   "metadata": {
    "papermill": {
     "duration": 0.03904,
     "end_time": "2021-07-07T07:19:53.272118",
     "exception": false,
     "start_time": "2021-07-07T07:19:53.233078",
     "status": "completed"
    },
    "tags": []
   },
   "source": [
    "To remove empty cells, I'll use the **drop_na()** function"
   ]
  },
  {
   "cell_type": "code",
   "execution_count": 6,
   "id": "9aeba8ad",
   "metadata": {
    "execution": {
     "iopub.execute_input": "2021-07-07T07:19:53.357104Z",
     "iopub.status.busy": "2021-07-07T07:19:53.355226Z",
     "iopub.status.idle": "2021-07-07T07:19:56.904212Z",
     "shell.execute_reply": "2021-07-07T07:19:56.902728Z"
    },
    "papermill": {
     "duration": 3.593229,
     "end_time": "2021-07-07T07:19:56.904428",
     "exception": false,
     "start_time": "2021-07-07T07:19:53.311199",
     "status": "completed"
    },
    "tags": []
   },
   "outputs": [],
   "source": [
    "all_trips <- drop_na(all_trips)"
   ]
  },
  {
   "cell_type": "code",
   "execution_count": 7,
   "id": "1c58015b",
   "metadata": {
    "execution": {
     "iopub.execute_input": "2021-07-07T07:19:56.989835Z",
     "iopub.status.busy": "2021-07-07T07:19:56.988175Z",
     "iopub.status.idle": "2021-07-07T07:20:00.722920Z",
     "shell.execute_reply": "2021-07-07T07:20:00.721360Z"
    },
    "papermill": {
     "duration": 3.778665,
     "end_time": "2021-07-07T07:20:00.723112",
     "exception": false,
     "start_time": "2021-07-07T07:19:56.944447",
     "status": "completed"
    },
    "tags": []
   },
   "outputs": [
    {
     "data": {
      "text/html": [
       "<style>\n",
       ".list-inline {list-style: none; margin:0; padding: 0}\n",
       ".list-inline>li {display: inline-block}\n",
       ".list-inline>li:not(:last-child)::after {content: \"\\00b7\"; padding: 0 .5ex}\n",
       "</style>\n",
       "<ol class=list-inline><li>'ride_id'</li><li>'rideable_type'</li><li>'started_at'</li><li>'ended_at'</li><li>'start_station_name'</li><li>'start_station_id'</li><li>'end_station_name'</li><li>'end_station_id'</li><li>'start_lat'</li><li>'start_lng'</li><li>'end_lat'</li><li>'end_lng'</li><li>'member_casual'</li></ol>\n"
      ],
      "text/latex": [
       "\\begin{enumerate*}\n",
       "\\item 'ride\\_id'\n",
       "\\item 'rideable\\_type'\n",
       "\\item 'started\\_at'\n",
       "\\item 'ended\\_at'\n",
       "\\item 'start\\_station\\_name'\n",
       "\\item 'start\\_station\\_id'\n",
       "\\item 'end\\_station\\_name'\n",
       "\\item 'end\\_station\\_id'\n",
       "\\item 'start\\_lat'\n",
       "\\item 'start\\_lng'\n",
       "\\item 'end\\_lat'\n",
       "\\item 'end\\_lng'\n",
       "\\item 'member\\_casual'\n",
       "\\end{enumerate*}\n"
      ],
      "text/markdown": [
       "1. 'ride_id'\n",
       "2. 'rideable_type'\n",
       "3. 'started_at'\n",
       "4. 'ended_at'\n",
       "5. 'start_station_name'\n",
       "6. 'start_station_id'\n",
       "7. 'end_station_name'\n",
       "8. 'end_station_id'\n",
       "9. 'start_lat'\n",
       "10. 'start_lng'\n",
       "11. 'end_lat'\n",
       "12. 'end_lng'\n",
       "13. 'member_casual'\n",
       "\n",
       "\n"
      ],
      "text/plain": [
       " [1] \"ride_id\"            \"rideable_type\"      \"started_at\"        \n",
       " [4] \"ended_at\"           \"start_station_name\" \"start_station_id\"  \n",
       " [7] \"end_station_name\"   \"end_station_id\"     \"start_lat\"         \n",
       "[10] \"start_lng\"          \"end_lat\"            \"end_lng\"           \n",
       "[13] \"member_casual\"     "
      ]
     },
     "metadata": {},
     "output_type": "display_data"
    },
    {
     "data": {
      "text/html": [
       "3759262"
      ],
      "text/latex": [
       "3759262"
      ],
      "text/markdown": [
       "3759262"
      ],
      "text/plain": [
       "[1] 3759262"
      ]
     },
     "metadata": {},
     "output_type": "display_data"
    },
    {
     "data": {
      "text/html": [
       "<style>\n",
       ".list-inline {list-style: none; margin:0; padding: 0}\n",
       ".list-inline>li {display: inline-block}\n",
       ".list-inline>li:not(:last-child)::after {content: \"\\00b7\"; padding: 0 .5ex}\n",
       "</style>\n",
       "<ol class=list-inline><li>3759262</li><li>13</li></ol>\n"
      ],
      "text/latex": [
       "\\begin{enumerate*}\n",
       "\\item 3759262\n",
       "\\item 13\n",
       "\\end{enumerate*}\n"
      ],
      "text/markdown": [
       "1. 3759262\n",
       "2. 13\n",
       "\n",
       "\n"
      ],
      "text/plain": [
       "[1] 3759262      13"
      ]
     },
     "metadata": {},
     "output_type": "display_data"
    },
    {
     "data": {
      "text/html": [
       "<table class=\"dataframe\">\n",
       "<caption>A tibble: 6 × 13</caption>\n",
       "<thead>\n",
       "\t<tr><th scope=col>ride_id</th><th scope=col>rideable_type</th><th scope=col>started_at</th><th scope=col>ended_at</th><th scope=col>start_station_name</th><th scope=col>start_station_id</th><th scope=col>end_station_name</th><th scope=col>end_station_id</th><th scope=col>start_lat</th><th scope=col>start_lng</th><th scope=col>end_lat</th><th scope=col>end_lng</th><th scope=col>member_casual</th></tr>\n",
       "\t<tr><th scope=col>&lt;chr&gt;</th><th scope=col>&lt;chr&gt;</th><th scope=col>&lt;dttm&gt;</th><th scope=col>&lt;dttm&gt;</th><th scope=col>&lt;chr&gt;</th><th scope=col>&lt;chr&gt;</th><th scope=col>&lt;chr&gt;</th><th scope=col>&lt;chr&gt;</th><th scope=col>&lt;dbl&gt;</th><th scope=col>&lt;dbl&gt;</th><th scope=col>&lt;dbl&gt;</th><th scope=col>&lt;dbl&gt;</th><th scope=col>&lt;chr&gt;</th></tr>\n",
       "</thead>\n",
       "<tbody>\n",
       "\t<tr><td>8CD5DE2C2B6C4CFC</td><td>docked_bike</td><td>2020-06-13 23:24:48</td><td>2020-06-13 23:36:55</td><td><span style=white-space:pre-wrap>Wilton Ave &amp; Belmont Ave   </span></td><td>117</td><td>Damen Ave &amp; Clybourn Ave</td><td>163</td><td>41.94018</td><td>-87.65304</td><td>41.93193</td><td>-87.67786</td><td>casual</td></tr>\n",
       "\t<tr><td>9A191EB2C751D85D</td><td>docked_bike</td><td>2020-06-26 07:26:10</td><td>2020-06-26 07:31:58</td><td><span style=white-space:pre-wrap>Federal St &amp; Polk St       </span></td><td>41 </td><td><span style=white-space:pre-wrap>Daley Center Plaza      </span></td><td>81 </td><td>41.87208</td><td>-87.62954</td><td>41.88424</td><td>-87.62963</td><td>member</td></tr>\n",
       "\t<tr><td>F37D14B0B5659BCF</td><td>docked_bike</td><td>2020-06-23 17:12:41</td><td>2020-06-23 17:21:14</td><td><span style=white-space:pre-wrap>Daley Center Plaza         </span></td><td>81 </td><td><span style=white-space:pre-wrap>State St &amp; Harrison St  </span></td><td><span style=white-space:pre-wrap>5  </span></td><td>41.88424</td><td>-87.62963</td><td>41.87405</td><td>-87.62772</td><td>member</td></tr>\n",
       "\t<tr><td>C41237B506E85FA1</td><td>docked_bike</td><td>2020-06-20 01:09:35</td><td>2020-06-20 01:28:24</td><td><span style=white-space:pre-wrap>Broadway &amp; Cornelia Ave    </span></td><td>303</td><td><span style=white-space:pre-wrap>Broadway &amp; Berwyn Ave   </span></td><td>294</td><td>41.94553</td><td>-87.64644</td><td>41.97835</td><td>-87.65975</td><td>casual</td></tr>\n",
       "\t<tr><td>4B51B3B0BDA7787C</td><td>docked_bike</td><td>2020-06-25 16:59:25</td><td>2020-06-25 17:08:48</td><td>Sheffield Ave &amp; Webster Ave</td><td>327</td><td>Wilton Ave &amp; Belmont Ave</td><td>117</td><td>41.92154</td><td>-87.65382</td><td>41.94018</td><td>-87.65304</td><td>casual</td></tr>\n",
       "\t<tr><td>D50DF288196B53BE</td><td>docked_bike</td><td>2020-06-17 18:07:18</td><td>2020-06-17 18:18:14</td><td>Sheffield Ave &amp; Webster Ave</td><td>327</td><td>Wilton Ave &amp; Belmont Ave</td><td>117</td><td>41.92154</td><td>-87.65382</td><td>41.94018</td><td>-87.65304</td><td>casual</td></tr>\n",
       "</tbody>\n",
       "</table>\n"
      ],
      "text/latex": [
       "A tibble: 6 × 13\n",
       "\\begin{tabular}{lllllllllllll}\n",
       " ride\\_id & rideable\\_type & started\\_at & ended\\_at & start\\_station\\_name & start\\_station\\_id & end\\_station\\_name & end\\_station\\_id & start\\_lat & start\\_lng & end\\_lat & end\\_lng & member\\_casual\\\\\n",
       " <chr> & <chr> & <dttm> & <dttm> & <chr> & <chr> & <chr> & <chr> & <dbl> & <dbl> & <dbl> & <dbl> & <chr>\\\\\n",
       "\\hline\n",
       "\t 8CD5DE2C2B6C4CFC & docked\\_bike & 2020-06-13 23:24:48 & 2020-06-13 23:36:55 & Wilton Ave \\& Belmont Ave    & 117 & Damen Ave \\& Clybourn Ave & 163 & 41.94018 & -87.65304 & 41.93193 & -87.67786 & casual\\\\\n",
       "\t 9A191EB2C751D85D & docked\\_bike & 2020-06-26 07:26:10 & 2020-06-26 07:31:58 & Federal St \\& Polk St        & 41  & Daley Center Plaza       & 81  & 41.87208 & -87.62954 & 41.88424 & -87.62963 & member\\\\\n",
       "\t F37D14B0B5659BCF & docked\\_bike & 2020-06-23 17:12:41 & 2020-06-23 17:21:14 & Daley Center Plaza          & 81  & State St \\& Harrison St   & 5   & 41.88424 & -87.62963 & 41.87405 & -87.62772 & member\\\\\n",
       "\t C41237B506E85FA1 & docked\\_bike & 2020-06-20 01:09:35 & 2020-06-20 01:28:24 & Broadway \\& Cornelia Ave     & 303 & Broadway \\& Berwyn Ave    & 294 & 41.94553 & -87.64644 & 41.97835 & -87.65975 & casual\\\\\n",
       "\t 4B51B3B0BDA7787C & docked\\_bike & 2020-06-25 16:59:25 & 2020-06-25 17:08:48 & Sheffield Ave \\& Webster Ave & 327 & Wilton Ave \\& Belmont Ave & 117 & 41.92154 & -87.65382 & 41.94018 & -87.65304 & casual\\\\\n",
       "\t D50DF288196B53BE & docked\\_bike & 2020-06-17 18:07:18 & 2020-06-17 18:18:14 & Sheffield Ave \\& Webster Ave & 327 & Wilton Ave \\& Belmont Ave & 117 & 41.92154 & -87.65382 & 41.94018 & -87.65304 & casual\\\\\n",
       "\\end{tabular}\n"
      ],
      "text/markdown": [
       "\n",
       "A tibble: 6 × 13\n",
       "\n",
       "| ride_id &lt;chr&gt; | rideable_type &lt;chr&gt; | started_at &lt;dttm&gt; | ended_at &lt;dttm&gt; | start_station_name &lt;chr&gt; | start_station_id &lt;chr&gt; | end_station_name &lt;chr&gt; | end_station_id &lt;chr&gt; | start_lat &lt;dbl&gt; | start_lng &lt;dbl&gt; | end_lat &lt;dbl&gt; | end_lng &lt;dbl&gt; | member_casual &lt;chr&gt; |\n",
       "|---|---|---|---|---|---|---|---|---|---|---|---|---|\n",
       "| 8CD5DE2C2B6C4CFC | docked_bike | 2020-06-13 23:24:48 | 2020-06-13 23:36:55 | Wilton Ave &amp; Belmont Ave    | 117 | Damen Ave &amp; Clybourn Ave | 163 | 41.94018 | -87.65304 | 41.93193 | -87.67786 | casual |\n",
       "| 9A191EB2C751D85D | docked_bike | 2020-06-26 07:26:10 | 2020-06-26 07:31:58 | Federal St &amp; Polk St        | 41  | Daley Center Plaza       | 81  | 41.87208 | -87.62954 | 41.88424 | -87.62963 | member |\n",
       "| F37D14B0B5659BCF | docked_bike | 2020-06-23 17:12:41 | 2020-06-23 17:21:14 | Daley Center Plaza          | 81  | State St &amp; Harrison St   | 5   | 41.88424 | -87.62963 | 41.87405 | -87.62772 | member |\n",
       "| C41237B506E85FA1 | docked_bike | 2020-06-20 01:09:35 | 2020-06-20 01:28:24 | Broadway &amp; Cornelia Ave     | 303 | Broadway &amp; Berwyn Ave    | 294 | 41.94553 | -87.64644 | 41.97835 | -87.65975 | casual |\n",
       "| 4B51B3B0BDA7787C | docked_bike | 2020-06-25 16:59:25 | 2020-06-25 17:08:48 | Sheffield Ave &amp; Webster Ave | 327 | Wilton Ave &amp; Belmont Ave | 117 | 41.92154 | -87.65382 | 41.94018 | -87.65304 | casual |\n",
       "| D50DF288196B53BE | docked_bike | 2020-06-17 18:07:18 | 2020-06-17 18:18:14 | Sheffield Ave &amp; Webster Ave | 327 | Wilton Ave &amp; Belmont Ave | 117 | 41.92154 | -87.65382 | 41.94018 | -87.65304 | casual |\n",
       "\n"
      ],
      "text/plain": [
       "  ride_id          rideable_type started_at          ended_at           \n",
       "1 8CD5DE2C2B6C4CFC docked_bike   2020-06-13 23:24:48 2020-06-13 23:36:55\n",
       "2 9A191EB2C751D85D docked_bike   2020-06-26 07:26:10 2020-06-26 07:31:58\n",
       "3 F37D14B0B5659BCF docked_bike   2020-06-23 17:12:41 2020-06-23 17:21:14\n",
       "4 C41237B506E85FA1 docked_bike   2020-06-20 01:09:35 2020-06-20 01:28:24\n",
       "5 4B51B3B0BDA7787C docked_bike   2020-06-25 16:59:25 2020-06-25 17:08:48\n",
       "6 D50DF288196B53BE docked_bike   2020-06-17 18:07:18 2020-06-17 18:18:14\n",
       "  start_station_name          start_station_id end_station_name        \n",
       "1 Wilton Ave & Belmont Ave    117              Damen Ave & Clybourn Ave\n",
       "2 Federal St & Polk St        41               Daley Center Plaza      \n",
       "3 Daley Center Plaza          81               State St & Harrison St  \n",
       "4 Broadway & Cornelia Ave     303              Broadway & Berwyn Ave   \n",
       "5 Sheffield Ave & Webster Ave 327              Wilton Ave & Belmont Ave\n",
       "6 Sheffield Ave & Webster Ave 327              Wilton Ave & Belmont Ave\n",
       "  end_station_id start_lat start_lng end_lat  end_lng   member_casual\n",
       "1 163            41.94018  -87.65304 41.93193 -87.67786 casual       \n",
       "2 81             41.87208  -87.62954 41.88424 -87.62963 member       \n",
       "3 5              41.88424  -87.62963 41.87405 -87.62772 member       \n",
       "4 294            41.94553  -87.64644 41.97835 -87.65975 casual       \n",
       "5 117            41.92154  -87.65382 41.94018 -87.65304 casual       \n",
       "6 117            41.92154  -87.65382 41.94018 -87.65304 casual       "
      ]
     },
     "metadata": {},
     "output_type": "display_data"
    },
    {
     "name": "stdout",
     "output_type": "stream",
     "text": [
      "tibble [3,759,262 × 13] (S3: tbl_df/tbl/data.frame)\n",
      " $ ride_id           : chr [1:3759262] \"8CD5DE2C2B6C4CFC\" \"9A191EB2C751D85D\" \"F37D14B0B5659BCF\" \"C41237B506E85FA1\" ...\n",
      " $ rideable_type     : chr [1:3759262] \"docked_bike\" \"docked_bike\" \"docked_bike\" \"docked_bike\" ...\n",
      " $ started_at        : POSIXct[1:3759262], format: \"2020-06-13 23:24:48\" \"2020-06-26 07:26:10\" ...\n",
      " $ ended_at          : POSIXct[1:3759262], format: \"2020-06-13 23:36:55\" \"2020-06-26 07:31:58\" ...\n",
      " $ start_station_name: chr [1:3759262] \"Wilton Ave & Belmont Ave\" \"Federal St & Polk St\" \"Daley Center Plaza\" \"Broadway & Cornelia Ave\" ...\n",
      " $ start_station_id  : chr [1:3759262] \"117\" \"41\" \"81\" \"303\" ...\n",
      " $ end_station_name  : chr [1:3759262] \"Damen Ave & Clybourn Ave\" \"Daley Center Plaza\" \"State St & Harrison St\" \"Broadway & Berwyn Ave\" ...\n",
      " $ end_station_id    : chr [1:3759262] \"163\" \"81\" \"5\" \"294\" ...\n",
      " $ start_lat         : num [1:3759262] 41.9 41.9 41.9 41.9 41.9 ...\n",
      " $ start_lng         : num [1:3759262] -87.7 -87.6 -87.6 -87.6 -87.7 ...\n",
      " $ end_lat           : num [1:3759262] 41.9 41.9 41.9 42 41.9 ...\n",
      " $ end_lng           : num [1:3759262] -87.7 -87.6 -87.6 -87.7 -87.7 ...\n",
      " $ member_casual     : chr [1:3759262] \"casual\" \"member\" \"member\" \"casual\" ...\n",
      " - attr(*, \"spec\")=\n",
      "  .. cols(\n",
      "  ..   ride_id = \u001b[31mcol_character()\u001b[39m,\n",
      "  ..   rideable_type = \u001b[31mcol_character()\u001b[39m,\n",
      "  ..   started_at = \u001b[34mcol_datetime(format = \"\")\u001b[39m,\n",
      "  ..   ended_at = \u001b[34mcol_datetime(format = \"\")\u001b[39m,\n",
      "  ..   start_station_name = \u001b[31mcol_character()\u001b[39m,\n",
      "  ..   start_station_id = \u001b[32mcol_double()\u001b[39m,\n",
      "  ..   end_station_name = \u001b[31mcol_character()\u001b[39m,\n",
      "  ..   end_station_id = \u001b[32mcol_double()\u001b[39m,\n",
      "  ..   start_lat = \u001b[32mcol_double()\u001b[39m,\n",
      "  ..   start_lng = \u001b[32mcol_double()\u001b[39m,\n",
      "  ..   end_lat = \u001b[32mcol_double()\u001b[39m,\n",
      "  ..   end_lng = \u001b[32mcol_double()\u001b[39m,\n",
      "  ..   member_casual = \u001b[31mcol_character()\u001b[39m\n",
      "  .. )\n"
     ]
    },
    {
     "data": {
      "text/plain": [
       "   ride_id          rideable_type        started_at                 \n",
       " Length:3759262     Length:3759262     Min.   :2020-06-03 05:59:59  \n",
       " Class :character   Class :character   1st Qu.:2020-08-03 17:04:43  \n",
       " Mode  :character   Mode  :character   Median :2020-09-23 18:23:39  \n",
       "                                       Mean   :2020-11-02 07:08:28  \n",
       "                                       3rd Qu.:2021-03-04 20:15:30  \n",
       "                                       Max.   :2021-05-31 23:59:16  \n",
       "    ended_at                   start_station_name start_station_id  \n",
       " Min.   :2020-06-03 06:03:37   Length:3759262     Length:3759262    \n",
       " 1st Qu.:2020-08-03 17:27:52   Class :character   Class :character  \n",
       " Median :2020-09-23 18:44:27   Mode  :character   Mode  :character  \n",
       " Mean   :2020-11-02 07:33:06                                        \n",
       " 3rd Qu.:2021-03-04 20:26:50                                        \n",
       " Max.   :2021-06-10 22:17:11                                        \n",
       " end_station_name   end_station_id       start_lat       start_lng     \n",
       " Length:3759262     Length:3759262     Min.   :41.65   Min.   :-87.77  \n",
       " Class :character   Class :character   1st Qu.:41.88   1st Qu.:-87.66  \n",
       " Mode  :character   Mode  :character   Median :41.90   Median :-87.64  \n",
       "                                       Mean   :41.90   Mean   :-87.64  \n",
       "                                       3rd Qu.:41.93   3rd Qu.:-87.63  \n",
       "                                       Max.   :42.06   Max.   :-87.53  \n",
       "    end_lat         end_lng       member_casual     \n",
       " Min.   :41.65   Min.   :-87.77   Length:3759262    \n",
       " 1st Qu.:41.88   1st Qu.:-87.66   Class :character  \n",
       " Median :41.90   Median :-87.64   Mode  :character  \n",
       " Mean   :41.90   Mean   :-87.64                     \n",
       " 3rd Qu.:41.93   3rd Qu.:-87.63                     \n",
       " Max.   :42.07   Max.   :-87.52                     "
      ]
     },
     "metadata": {},
     "output_type": "display_data"
    }
   ],
   "source": [
    "# Inspecting the new data frame created\n",
    "colnames(all_trips)    # column names in the data frame\n",
    "nrow(all_trips)           # number of rows in the data frame\n",
    "dim(all_trips)            # dimensions of the data frame\n",
    "head(all_trips)\n",
    "str(all_trips)\n",
    "summary(all_trips)"
   ]
  },
  {
   "cell_type": "code",
   "execution_count": 8,
   "id": "32a72ecd",
   "metadata": {
    "execution": {
     "iopub.execute_input": "2021-07-07T07:20:00.818012Z",
     "iopub.status.busy": "2021-07-07T07:20:00.816265Z",
     "iopub.status.idle": "2021-07-07T07:20:08.491751Z",
     "shell.execute_reply": "2021-07-07T07:20:08.489677Z"
    },
    "papermill": {
     "duration": 7.725204,
     "end_time": "2021-07-07T07:20:08.492067",
     "exception": false,
     "start_time": "2021-07-07T07:20:00.766863",
     "status": "completed"
    },
    "tags": []
   },
   "outputs": [],
   "source": [
    "# We'll add columns that list the date, month, day and year of each ride to aggregate ride data for each month, day or year\n",
    "all_trips <- all_trips %>%\n",
    "    mutate(date = as_date(started_at), day = format(as_date(started_at), \"%d\"), month = format(as_date(started_at), \"%m\"), year = format(as_date(started_at), \"%Y\"), day_of_week = format(as_date(started_at), \"%A\"))\n",
    "# We'll also add a trip duration column\n",
    "all_trips <- all_trips %>%\n",
    "    mutate(trip_duration = difftime(ended_at, started_at))"
   ]
  },
  {
   "cell_type": "code",
   "execution_count": 9,
   "id": "a5b718d9",
   "metadata": {
    "execution": {
     "iopub.execute_input": "2021-07-07T07:20:08.589521Z",
     "iopub.status.busy": "2021-07-07T07:20:08.587026Z",
     "iopub.status.idle": "2021-07-07T07:20:08.645256Z",
     "shell.execute_reply": "2021-07-07T07:20:08.643558Z"
    },
    "papermill": {
     "duration": 0.109064,
     "end_time": "2021-07-07T07:20:08.645489",
     "exception": false,
     "start_time": "2021-07-07T07:20:08.536425",
     "status": "completed"
    },
    "tags": []
   },
   "outputs": [
    {
     "name": "stdout",
     "output_type": "stream",
     "text": [
      "tibble [3,759,262 × 19] (S3: tbl_df/tbl/data.frame)\n",
      " $ ride_id           : chr [1:3759262] \"8CD5DE2C2B6C4CFC\" \"9A191EB2C751D85D\" \"F37D14B0B5659BCF\" \"C41237B506E85FA1\" ...\n",
      " $ rideable_type     : chr [1:3759262] \"docked_bike\" \"docked_bike\" \"docked_bike\" \"docked_bike\" ...\n",
      " $ started_at        : POSIXct[1:3759262], format: \"2020-06-13 23:24:48\" \"2020-06-26 07:26:10\" ...\n",
      " $ ended_at          : POSIXct[1:3759262], format: \"2020-06-13 23:36:55\" \"2020-06-26 07:31:58\" ...\n",
      " $ start_station_name: chr [1:3759262] \"Wilton Ave & Belmont Ave\" \"Federal St & Polk St\" \"Daley Center Plaza\" \"Broadway & Cornelia Ave\" ...\n",
      " $ start_station_id  : chr [1:3759262] \"117\" \"41\" \"81\" \"303\" ...\n",
      " $ end_station_name  : chr [1:3759262] \"Damen Ave & Clybourn Ave\" \"Daley Center Plaza\" \"State St & Harrison St\" \"Broadway & Berwyn Ave\" ...\n",
      " $ end_station_id    : chr [1:3759262] \"163\" \"81\" \"5\" \"294\" ...\n",
      " $ start_lat         : num [1:3759262] 41.9 41.9 41.9 41.9 41.9 ...\n",
      " $ start_lng         : num [1:3759262] -87.7 -87.6 -87.6 -87.6 -87.7 ...\n",
      " $ end_lat           : num [1:3759262] 41.9 41.9 41.9 42 41.9 ...\n",
      " $ end_lng           : num [1:3759262] -87.7 -87.6 -87.6 -87.7 -87.7 ...\n",
      " $ member_casual     : chr [1:3759262] \"casual\" \"member\" \"member\" \"casual\" ...\n",
      " $ date              : Date[1:3759262], format: \"2020-06-13\" \"2020-06-26\" ...\n",
      " $ day               : chr [1:3759262] \"13\" \"26\" \"23\" \"20\" ...\n",
      " $ month             : chr [1:3759262] \"06\" \"06\" \"06\" \"06\" ...\n",
      " $ year              : chr [1:3759262] \"2020\" \"2020\" \"2020\" \"2020\" ...\n",
      " $ day_of_week       : chr [1:3759262] \"Saturday\" \"Friday\" \"Tuesday\" \"Saturday\" ...\n",
      " $ trip_duration     : 'difftime' num [1:3759262] 727 348 513 1129 ...\n",
      "  ..- attr(*, \"units\")= chr \"secs\"\n",
      " - attr(*, \"spec\")=\n",
      "  .. cols(\n",
      "  ..   ride_id = \u001b[31mcol_character()\u001b[39m,\n",
      "  ..   rideable_type = \u001b[31mcol_character()\u001b[39m,\n",
      "  ..   started_at = \u001b[34mcol_datetime(format = \"\")\u001b[39m,\n",
      "  ..   ended_at = \u001b[34mcol_datetime(format = \"\")\u001b[39m,\n",
      "  ..   start_station_name = \u001b[31mcol_character()\u001b[39m,\n",
      "  ..   start_station_id = \u001b[32mcol_double()\u001b[39m,\n",
      "  ..   end_station_name = \u001b[31mcol_character()\u001b[39m,\n",
      "  ..   end_station_id = \u001b[32mcol_double()\u001b[39m,\n",
      "  ..   start_lat = \u001b[32mcol_double()\u001b[39m,\n",
      "  ..   start_lng = \u001b[32mcol_double()\u001b[39m,\n",
      "  ..   end_lat = \u001b[32mcol_double()\u001b[39m,\n",
      "  ..   end_lng = \u001b[32mcol_double()\u001b[39m,\n",
      "  ..   member_casual = \u001b[31mcol_character()\u001b[39m\n",
      "  .. )\n"
     ]
    }
   ],
   "source": [
    "str(all_trips) # Inspecting the structure of columns"
   ]
  },
  {
   "cell_type": "code",
   "execution_count": 10,
   "id": "3a59a30c",
   "metadata": {
    "execution": {
     "iopub.execute_input": "2021-07-07T07:20:08.742759Z",
     "iopub.status.busy": "2021-07-07T07:20:08.741170Z",
     "iopub.status.idle": "2021-07-07T07:20:13.857578Z",
     "shell.execute_reply": "2021-07-07T07:20:13.855460Z"
    },
    "papermill": {
     "duration": 5.167042,
     "end_time": "2021-07-07T07:20:13.857823",
     "exception": false,
     "start_time": "2021-07-07T07:20:08.690781",
     "status": "completed"
    },
    "tags": []
   },
   "outputs": [
    {
     "data": {
      "text/html": [
       "FALSE"
      ],
      "text/latex": [
       "FALSE"
      ],
      "text/markdown": [
       "FALSE"
      ],
      "text/plain": [
       "[1] FALSE"
      ]
     },
     "metadata": {},
     "output_type": "display_data"
    },
    {
     "data": {
      "text/html": [
       "TRUE"
      ],
      "text/latex": [
       "TRUE"
      ],
      "text/markdown": [
       "TRUE"
      ],
      "text/plain": [
       "[1] TRUE"
      ]
     },
     "metadata": {},
     "output_type": "display_data"
    }
   ],
   "source": [
    "# To convert trip_duration to numeric\n",
    "is.numeric(all_trips$trip_duration)       # FALSE\n",
    "all_trips$trip_duration <- as.numeric(as.character(all_trips$trip_duration))\n",
    "is.numeric(all_trips$trip_duration)       # TRUE"
   ]
  },
  {
   "cell_type": "code",
   "execution_count": 11,
   "id": "5c3cefc4",
   "metadata": {
    "execution": {
     "iopub.execute_input": "2021-07-07T07:20:13.956432Z",
     "iopub.status.busy": "2021-07-07T07:20:13.954199Z",
     "iopub.status.idle": "2021-07-07T07:20:14.800219Z",
     "shell.execute_reply": "2021-07-07T07:20:14.797970Z"
    },
    "papermill": {
     "duration": 0.896554,
     "end_time": "2021-07-07T07:20:14.800452",
     "exception": false,
     "start_time": "2021-07-07T07:20:13.903898",
     "status": "completed"
    },
    "tags": []
   },
   "outputs": [],
   "source": [
    "# Removing entries from the data frame when bikes were taken out of docks and checked for quality by Divvy or trip_duration was negative\n",
    "all_trips_v2 <- subset(all_trips, start_station_name != \"HQ QR\" & trip_duration > 0)"
   ]
  },
  {
   "cell_type": "markdown",
   "id": "0061ef49",
   "metadata": {
    "papermill": {
     "duration": 0.045614,
     "end_time": "2021-07-07T07:20:14.891661",
     "exception": false,
     "start_time": "2021-07-07T07:20:14.846047",
     "status": "completed"
    },
    "tags": []
   },
   "source": [
    "## Analyze Phase\n",
    "**Calculating Summary Statistics and performing some calculations to identify trends and relationships:**"
   ]
  },
  {
   "cell_type": "code",
   "execution_count": 12,
   "id": "fad77a9c",
   "metadata": {
    "execution": {
     "iopub.execute_input": "2021-07-07T07:20:14.989857Z",
     "iopub.status.busy": "2021-07-07T07:20:14.987562Z",
     "iopub.status.idle": "2021-07-07T07:20:15.767648Z",
     "shell.execute_reply": "2021-07-07T07:20:15.765163Z"
    },
    "papermill": {
     "duration": 0.830315,
     "end_time": "2021-07-07T07:20:15.767833",
     "exception": false,
     "start_time": "2021-07-07T07:20:14.937518",
     "status": "completed"
    },
    "tags": []
   },
   "outputs": [
    {
     "data": {
      "text/html": [
       "<table class=\"dataframe\">\n",
       "<caption>A tibble: 2 × 5</caption>\n",
       "<thead>\n",
       "\t<tr><th scope=col>member_casual</th><th scope=col>mean_trip_duration</th><th scope=col>median_trip_duration</th><th scope=col>max_trip_duration</th><th scope=col>min_trip_duration</th></tr>\n",
       "\t<tr><th scope=col>&lt;chr&gt;</th><th scope=col>&lt;dbl&gt;</th><th scope=col>&lt;dbl&gt;</th><th scope=col>&lt;dbl&gt;</th><th scope=col>&lt;dbl&gt;</th></tr>\n",
       "</thead>\n",
       "<tbody>\n",
       "\t<tr><td>casual</td><td>2605.8049</td><td>1248</td><td>3257001</td><td>1</td></tr>\n",
       "\t<tr><td>member</td><td> 917.0302</td><td> 671</td><td>2476260</td><td>1</td></tr>\n",
       "</tbody>\n",
       "</table>\n"
      ],
      "text/latex": [
       "A tibble: 2 × 5\n",
       "\\begin{tabular}{lllll}\n",
       " member\\_casual & mean\\_trip\\_duration & median\\_trip\\_duration & max\\_trip\\_duration & min\\_trip\\_duration\\\\\n",
       " <chr> & <dbl> & <dbl> & <dbl> & <dbl>\\\\\n",
       "\\hline\n",
       "\t casual & 2605.8049 & 1248 & 3257001 & 1\\\\\n",
       "\t member &  917.0302 &  671 & 2476260 & 1\\\\\n",
       "\\end{tabular}\n"
      ],
      "text/markdown": [
       "\n",
       "A tibble: 2 × 5\n",
       "\n",
       "| member_casual &lt;chr&gt; | mean_trip_duration &lt;dbl&gt; | median_trip_duration &lt;dbl&gt; | max_trip_duration &lt;dbl&gt; | min_trip_duration &lt;dbl&gt; |\n",
       "|---|---|---|---|---|\n",
       "| casual | 2605.8049 | 1248 | 3257001 | 1 |\n",
       "| member |  917.0302 |  671 | 2476260 | 1 |\n",
       "\n"
      ],
      "text/plain": [
       "  member_casual mean_trip_duration median_trip_duration max_trip_duration\n",
       "1 casual        2605.8049          1248                 3257001          \n",
       "2 member         917.0302           671                 2476260          \n",
       "  min_trip_duration\n",
       "1 1                \n",
       "2 1                "
      ]
     },
     "metadata": {},
     "output_type": "display_data"
    }
   ],
   "source": [
    "# Calculating Summary Statistics of Trip Duration for each Customer Type: Member and Casual\n",
    "all_trips_v2 %>% group_by(member_casual) %>%\n",
    "    summarize(mean_trip_duration = mean(trip_duration), median_trip_duration = median(trip_duration), max_trip_duration = max(trip_duration), min_trip_duration = min(trip_duration))"
   ]
  },
  {
   "cell_type": "markdown",
   "id": "b4f77b8b",
   "metadata": {
    "papermill": {
     "duration": 0.045654,
     "end_time": "2021-07-07T07:20:15.861612",
     "exception": false,
     "start_time": "2021-07-07T07:20:15.815958",
     "status": "completed"
    },
    "tags": []
   },
   "source": [
    "We can see that **Casual** riders use Cyclistic bikes for a longer period than Cyclistic **Members**."
   ]
  },
  {
   "cell_type": "code",
   "execution_count": 13,
   "id": "6ad74d49",
   "metadata": {
    "execution": {
     "iopub.execute_input": "2021-07-07T07:20:15.966064Z",
     "iopub.status.busy": "2021-07-07T07:20:15.963712Z",
     "iopub.status.idle": "2021-07-07T07:20:17.573265Z",
     "shell.execute_reply": "2021-07-07T07:20:17.571341Z"
    },
    "papermill": {
     "duration": 1.662267,
     "end_time": "2021-07-07T07:20:17.573485",
     "exception": false,
     "start_time": "2021-07-07T07:20:15.911218",
     "status": "completed"
    },
    "tags": []
   },
   "outputs": [
    {
     "data": {
      "text/html": [
       "<table class=\"dataframe\">\n",
       "<caption>A tibble: 14 × 4</caption>\n",
       "<thead>\n",
       "\t<tr><th scope=col>member_casual</th><th scope=col>day_of_week</th><th scope=col>mean_trip_duration</th><th scope=col>number_of_trips</th></tr>\n",
       "\t<tr><th scope=col>&lt;chr&gt;</th><th scope=col>&lt;ord&gt;</th><th scope=col>&lt;dbl&gt;</th><th scope=col>&lt;int&gt;</th></tr>\n",
       "</thead>\n",
       "<tbody>\n",
       "\t<tr><td>casual</td><td>Sunday   </td><td>2977.1620</td><td>307092</td></tr>\n",
       "\t<tr><td>casual</td><td>Monday   </td><td>2576.4366</td><td>171917</td></tr>\n",
       "\t<tr><td>casual</td><td>Tuesday  </td><td>2319.1585</td><td>159322</td></tr>\n",
       "\t<tr><td>casual</td><td>Wednesday</td><td>2347.9601</td><td>166644</td></tr>\n",
       "\t<tr><td>casual</td><td>Thursday </td><td>2448.0041</td><td>175350</td></tr>\n",
       "\t<tr><td>casual</td><td>Friday   </td><td>2475.4596</td><td>225957</td></tr>\n",
       "\t<tr><td>casual</td><td>Saturday </td><td>2705.5541</td><td>368608</td></tr>\n",
       "\t<tr><td>member</td><td>Sunday   </td><td>1040.6617</td><td>284147</td></tr>\n",
       "\t<tr><td>member</td><td>Monday   </td><td> 876.4077</td><td>291016</td></tr>\n",
       "\t<tr><td>member</td><td>Tuesday  </td><td> 863.9894</td><td>304998</td></tr>\n",
       "\t<tr><td>member</td><td>Wednesday</td><td> 871.8390</td><td>321940</td></tr>\n",
       "\t<tr><td>member</td><td>Thursday </td><td> 865.4378</td><td>316602</td></tr>\n",
       "\t<tr><td>member</td><td>Friday   </td><td> 894.8433</td><td>323197</td></tr>\n",
       "\t<tr><td>member</td><td>Saturday </td><td>1010.1891</td><td>331943</td></tr>\n",
       "</tbody>\n",
       "</table>\n"
      ],
      "text/latex": [
       "A tibble: 14 × 4\n",
       "\\begin{tabular}{llll}\n",
       " member\\_casual & day\\_of\\_week & mean\\_trip\\_duration & number\\_of\\_trips\\\\\n",
       " <chr> & <ord> & <dbl> & <int>\\\\\n",
       "\\hline\n",
       "\t casual & Sunday    & 2977.1620 & 307092\\\\\n",
       "\t casual & Monday    & 2576.4366 & 171917\\\\\n",
       "\t casual & Tuesday   & 2319.1585 & 159322\\\\\n",
       "\t casual & Wednesday & 2347.9601 & 166644\\\\\n",
       "\t casual & Thursday  & 2448.0041 & 175350\\\\\n",
       "\t casual & Friday    & 2475.4596 & 225957\\\\\n",
       "\t casual & Saturday  & 2705.5541 & 368608\\\\\n",
       "\t member & Sunday    & 1040.6617 & 284147\\\\\n",
       "\t member & Monday    &  876.4077 & 291016\\\\\n",
       "\t member & Tuesday   &  863.9894 & 304998\\\\\n",
       "\t member & Wednesday &  871.8390 & 321940\\\\\n",
       "\t member & Thursday  &  865.4378 & 316602\\\\\n",
       "\t member & Friday    &  894.8433 & 323197\\\\\n",
       "\t member & Saturday  & 1010.1891 & 331943\\\\\n",
       "\\end{tabular}\n"
      ],
      "text/markdown": [
       "\n",
       "A tibble: 14 × 4\n",
       "\n",
       "| member_casual &lt;chr&gt; | day_of_week &lt;ord&gt; | mean_trip_duration &lt;dbl&gt; | number_of_trips &lt;int&gt; |\n",
       "|---|---|---|---|\n",
       "| casual | Sunday    | 2977.1620 | 307092 |\n",
       "| casual | Monday    | 2576.4366 | 171917 |\n",
       "| casual | Tuesday   | 2319.1585 | 159322 |\n",
       "| casual | Wednesday | 2347.9601 | 166644 |\n",
       "| casual | Thursday  | 2448.0041 | 175350 |\n",
       "| casual | Friday    | 2475.4596 | 225957 |\n",
       "| casual | Saturday  | 2705.5541 | 368608 |\n",
       "| member | Sunday    | 1040.6617 | 284147 |\n",
       "| member | Monday    |  876.4077 | 291016 |\n",
       "| member | Tuesday   |  863.9894 | 304998 |\n",
       "| member | Wednesday |  871.8390 | 321940 |\n",
       "| member | Thursday  |  865.4378 | 316602 |\n",
       "| member | Friday    |  894.8433 | 323197 |\n",
       "| member | Saturday  | 1010.1891 | 331943 |\n",
       "\n"
      ],
      "text/plain": [
       "   member_casual day_of_week mean_trip_duration number_of_trips\n",
       "1  casual        Sunday      2977.1620          307092         \n",
       "2  casual        Monday      2576.4366          171917         \n",
       "3  casual        Tuesday     2319.1585          159322         \n",
       "4  casual        Wednesday   2347.9601          166644         \n",
       "5  casual        Thursday    2448.0041          175350         \n",
       "6  casual        Friday      2475.4596          225957         \n",
       "7  casual        Saturday    2705.5541          368608         \n",
       "8  member        Sunday      1040.6617          284147         \n",
       "9  member        Monday       876.4077          291016         \n",
       "10 member        Tuesday      863.9894          304998         \n",
       "11 member        Wednesday    871.8390          321940         \n",
       "12 member        Thursday     865.4378          316602         \n",
       "13 member        Friday       894.8433          323197         \n",
       "14 member        Saturday    1010.1891          331943         "
      ]
     },
     "metadata": {},
     "output_type": "display_data"
    }
   ],
   "source": [
    "# Average Trip Duration and number of trips by each day for members vs casual riders.\n",
    "all_trips_v2$day_of_week <- ordered(all_trips_v2$day_of_week, levels=c(\"Sunday\", \"Monday\",\n",
    "\"Tuesday\", \"Wednesday\", \"Thursday\", \"Friday\", \"Saturday\"))                 # Arranging the days of the week\n",
    "all_trips_v2 %>% group_by(member_casual, day_of_week) %>%\n",
    "    summarize(mean_trip_duration = mean(trip_duration), number_of_trips = n(), .groups = \"drop\")"
   ]
  },
  {
   "cell_type": "markdown",
   "id": "50d74089",
   "metadata": {
    "papermill": {
     "duration": 0.046749,
     "end_time": "2021-07-07T07:20:17.675065",
     "exception": false,
     "start_time": "2021-07-07T07:20:17.628316",
     "status": "completed"
    },
    "tags": []
   },
   "source": [
    "Average trip duration is higher during the weekends as compared to weekdays. Casual riders use bike for longer durations on an average as compared to the Cyclistic members.  \n",
    "The number of trips by casual riders see a sharp decline during the weekdays as compared to the weekends.  \n",
    "The number of trips by members is much higher during the weekdays as compared to that of casual riders and show little increments as weekends approach as compared to the casual riders where there is a sharp increase in the number of trips during the weekend."
   ]
  },
  {
   "cell_type": "code",
   "execution_count": 14,
   "id": "973e0394",
   "metadata": {
    "execution": {
     "iopub.execute_input": "2021-07-07T07:20:17.775843Z",
     "iopub.status.busy": "2021-07-07T07:20:17.774617Z",
     "iopub.status.idle": "2021-07-07T07:20:17.972316Z",
     "shell.execute_reply": "2021-07-07T07:20:17.970701Z"
    },
    "papermill": {
     "duration": 0.250447,
     "end_time": "2021-07-07T07:20:17.972500",
     "exception": false,
     "start_time": "2021-07-07T07:20:17.722053",
     "status": "completed"
    },
    "tags": []
   },
   "outputs": [
    {
     "data": {
      "text/html": [
       "<table class=\"dataframe\">\n",
       "<caption>A tibble: 6 × 3</caption>\n",
       "<thead>\n",
       "\t<tr><th scope=col>member_casual</th><th scope=col>rideable_type</th><th scope=col>number_of_trips</th></tr>\n",
       "\t<tr><th scope=col>&lt;chr&gt;</th><th scope=col>&lt;chr&gt;</th><th scope=col>&lt;int&gt;</th></tr>\n",
       "</thead>\n",
       "<tbody>\n",
       "\t<tr><td>casual</td><td>classic_bike </td><td> 264398</td></tr>\n",
       "\t<tr><td>casual</td><td>docked_bike  </td><td>1069164</td></tr>\n",
       "\t<tr><td>casual</td><td>electric_bike</td><td> 241328</td></tr>\n",
       "\t<tr><td>member</td><td>classic_bike </td><td> 576650</td></tr>\n",
       "\t<tr><td>member</td><td>docked_bike  </td><td>1258224</td></tr>\n",
       "\t<tr><td>member</td><td>electric_bike</td><td> 338969</td></tr>\n",
       "</tbody>\n",
       "</table>\n"
      ],
      "text/latex": [
       "A tibble: 6 × 3\n",
       "\\begin{tabular}{lll}\n",
       " member\\_casual & rideable\\_type & number\\_of\\_trips\\\\\n",
       " <chr> & <chr> & <int>\\\\\n",
       "\\hline\n",
       "\t casual & classic\\_bike  &  264398\\\\\n",
       "\t casual & docked\\_bike   & 1069164\\\\\n",
       "\t casual & electric\\_bike &  241328\\\\\n",
       "\t member & classic\\_bike  &  576650\\\\\n",
       "\t member & docked\\_bike   & 1258224\\\\\n",
       "\t member & electric\\_bike &  338969\\\\\n",
       "\\end{tabular}\n"
      ],
      "text/markdown": [
       "\n",
       "A tibble: 6 × 3\n",
       "\n",
       "| member_casual &lt;chr&gt; | rideable_type &lt;chr&gt; | number_of_trips &lt;int&gt; |\n",
       "|---|---|---|\n",
       "| casual | classic_bike  |  264398 |\n",
       "| casual | docked_bike   | 1069164 |\n",
       "| casual | electric_bike |  241328 |\n",
       "| member | classic_bike  |  576650 |\n",
       "| member | docked_bike   | 1258224 |\n",
       "| member | electric_bike |  338969 |\n",
       "\n"
      ],
      "text/plain": [
       "  member_casual rideable_type number_of_trips\n",
       "1 casual        classic_bike   264398        \n",
       "2 casual        docked_bike   1069164        \n",
       "3 casual        electric_bike  241328        \n",
       "4 member        classic_bike   576650        \n",
       "5 member        docked_bike   1258224        \n",
       "6 member        electric_bike  338969        "
      ]
     },
     "metadata": {},
     "output_type": "display_data"
    }
   ],
   "source": [
    "# Bike preference: Members vs Casual\n",
    "all_trips_v2 %>% group_by(member_casual, rideable_type) %>%\n",
    "    summarize(number_of_trips = n(), .groups = \"drop\")"
   ]
  },
  {
   "cell_type": "markdown",
   "id": "92b15e38",
   "metadata": {
    "papermill": {
     "duration": 0.048523,
     "end_time": "2021-07-07T07:20:18.069380",
     "exception": false,
     "start_time": "2021-07-07T07:20:18.020857",
     "status": "completed"
    },
    "tags": []
   },
   "source": [
    "The Docked Bike is the most prefered among both casual riders and members."
   ]
  },
  {
   "cell_type": "code",
   "execution_count": 15,
   "id": "af051467",
   "metadata": {
    "execution": {
     "iopub.execute_input": "2021-07-07T07:20:18.171229Z",
     "iopub.status.busy": "2021-07-07T07:20:18.169768Z",
     "iopub.status.idle": "2021-07-07T07:20:18.398814Z",
     "shell.execute_reply": "2021-07-07T07:20:18.397213Z"
    },
    "papermill": {
     "duration": 0.282163,
     "end_time": "2021-07-07T07:20:18.398979",
     "exception": false,
     "start_time": "2021-07-07T07:20:18.116816",
     "status": "completed"
    },
    "tags": []
   },
   "outputs": [
    {
     "data": {
      "text/html": [
       "<table class=\"dataframe\">\n",
       "<caption>A tibble: 24 × 3</caption>\n",
       "<thead>\n",
       "\t<tr><th scope=col>member_casual</th><th scope=col>month</th><th scope=col>number_of_trips</th></tr>\n",
       "\t<tr><th scope=col>&lt;chr&gt;</th><th scope=col>&lt;chr&gt;</th><th scope=col>&lt;int&gt;</th></tr>\n",
       "</thead>\n",
       "<tbody>\n",
       "\t<tr><td>casual</td><td>01</td><td> 14690</td></tr>\n",
       "\t<tr><td>member</td><td>01</td><td> 68818</td></tr>\n",
       "\t<tr><td>casual</td><td>02</td><td>  8613</td></tr>\n",
       "\t<tr><td>member</td><td>02</td><td> 34381</td></tr>\n",
       "\t<tr><td>casual</td><td>03</td><td> 75641</td></tr>\n",
       "\t<tr><td>member</td><td>03</td><td>130046</td></tr>\n",
       "\t<tr><td>casual</td><td>04</td><td>120418</td></tr>\n",
       "\t<tr><td>member</td><td>04</td><td>177781</td></tr>\n",
       "\t<tr><td>casual</td><td>05</td><td>216823</td></tr>\n",
       "\t<tr><td>member</td><td>05</td><td>234155</td></tr>\n",
       "\t<tr><td>casual</td><td>06</td><td>154329</td></tr>\n",
       "\t<tr><td>member</td><td>06</td><td>187711</td></tr>\n",
       "\t<tr><td>casual</td><td>07</td><td>268103</td></tr>\n",
       "\t<tr><td>member</td><td>07</td><td>280514</td></tr>\n",
       "\t<tr><td>casual</td><td>08</td><td>281945</td></tr>\n",
       "\t<tr><td>member</td><td>08</td><td>323707</td></tr>\n",
       "\t<tr><td>casual</td><td>09</td><td>214672</td></tr>\n",
       "\t<tr><td>member</td><td>09</td><td>283556</td></tr>\n",
       "\t<tr><td>casual</td><td>10</td><td>122317</td></tr>\n",
       "\t<tr><td>member</td><td>10</td><td>215058</td></tr>\n",
       "\t<tr><td>casual</td><td>11</td><td> 72847</td></tr>\n",
       "\t<tr><td>member</td><td>11</td><td>149069</td></tr>\n",
       "\t<tr><td>casual</td><td>12</td><td> 24492</td></tr>\n",
       "\t<tr><td>member</td><td>12</td><td> 89047</td></tr>\n",
       "</tbody>\n",
       "</table>\n"
      ],
      "text/latex": [
       "A tibble: 24 × 3\n",
       "\\begin{tabular}{lll}\n",
       " member\\_casual & month & number\\_of\\_trips\\\\\n",
       " <chr> & <chr> & <int>\\\\\n",
       "\\hline\n",
       "\t casual & 01 &  14690\\\\\n",
       "\t member & 01 &  68818\\\\\n",
       "\t casual & 02 &   8613\\\\\n",
       "\t member & 02 &  34381\\\\\n",
       "\t casual & 03 &  75641\\\\\n",
       "\t member & 03 & 130046\\\\\n",
       "\t casual & 04 & 120418\\\\\n",
       "\t member & 04 & 177781\\\\\n",
       "\t casual & 05 & 216823\\\\\n",
       "\t member & 05 & 234155\\\\\n",
       "\t casual & 06 & 154329\\\\\n",
       "\t member & 06 & 187711\\\\\n",
       "\t casual & 07 & 268103\\\\\n",
       "\t member & 07 & 280514\\\\\n",
       "\t casual & 08 & 281945\\\\\n",
       "\t member & 08 & 323707\\\\\n",
       "\t casual & 09 & 214672\\\\\n",
       "\t member & 09 & 283556\\\\\n",
       "\t casual & 10 & 122317\\\\\n",
       "\t member & 10 & 215058\\\\\n",
       "\t casual & 11 &  72847\\\\\n",
       "\t member & 11 & 149069\\\\\n",
       "\t casual & 12 &  24492\\\\\n",
       "\t member & 12 &  89047\\\\\n",
       "\\end{tabular}\n"
      ],
      "text/markdown": [
       "\n",
       "A tibble: 24 × 3\n",
       "\n",
       "| member_casual &lt;chr&gt; | month &lt;chr&gt; | number_of_trips &lt;int&gt; |\n",
       "|---|---|---|\n",
       "| casual | 01 |  14690 |\n",
       "| member | 01 |  68818 |\n",
       "| casual | 02 |   8613 |\n",
       "| member | 02 |  34381 |\n",
       "| casual | 03 |  75641 |\n",
       "| member | 03 | 130046 |\n",
       "| casual | 04 | 120418 |\n",
       "| member | 04 | 177781 |\n",
       "| casual | 05 | 216823 |\n",
       "| member | 05 | 234155 |\n",
       "| casual | 06 | 154329 |\n",
       "| member | 06 | 187711 |\n",
       "| casual | 07 | 268103 |\n",
       "| member | 07 | 280514 |\n",
       "| casual | 08 | 281945 |\n",
       "| member | 08 | 323707 |\n",
       "| casual | 09 | 214672 |\n",
       "| member | 09 | 283556 |\n",
       "| casual | 10 | 122317 |\n",
       "| member | 10 | 215058 |\n",
       "| casual | 11 |  72847 |\n",
       "| member | 11 | 149069 |\n",
       "| casual | 12 |  24492 |\n",
       "| member | 12 |  89047 |\n",
       "\n"
      ],
      "text/plain": [
       "   member_casual month number_of_trips\n",
       "1  casual        01     14690         \n",
       "2  member        01     68818         \n",
       "3  casual        02      8613         \n",
       "4  member        02     34381         \n",
       "5  casual        03     75641         \n",
       "6  member        03    130046         \n",
       "7  casual        04    120418         \n",
       "8  member        04    177781         \n",
       "9  casual        05    216823         \n",
       "10 member        05    234155         \n",
       "11 casual        06    154329         \n",
       "12 member        06    187711         \n",
       "13 casual        07    268103         \n",
       "14 member        07    280514         \n",
       "15 casual        08    281945         \n",
       "16 member        08    323707         \n",
       "17 casual        09    214672         \n",
       "18 member        09    283556         \n",
       "19 casual        10    122317         \n",
       "20 member        10    215058         \n",
       "21 casual        11     72847         \n",
       "22 member        11    149069         \n",
       "23 casual        12     24492         \n",
       "24 member        12     89047         "
      ]
     },
     "metadata": {},
     "output_type": "display_data"
    }
   ],
   "source": [
    "# Number of trips by Members and Casual Riders each month\n",
    "all_trips_v2 %>% group_by(member_casual, month)%>%\n",
    "    summarize(number_of_trips = n(), .groups = \"drop\") %>%\n",
    "    arrange(month)\n",
    "    "
   ]
  },
  {
   "cell_type": "code",
   "execution_count": 16,
   "id": "cf088573",
   "metadata": {
    "execution": {
     "iopub.execute_input": "2021-07-07T07:20:18.503199Z",
     "iopub.status.busy": "2021-07-07T07:20:18.501069Z",
     "iopub.status.idle": "2021-07-07T07:20:18.674715Z",
     "shell.execute_reply": "2021-07-07T07:20:18.672540Z"
    },
    "papermill": {
     "duration": 0.226729,
     "end_time": "2021-07-07T07:20:18.674877",
     "exception": false,
     "start_time": "2021-07-07T07:20:18.448148",
     "status": "completed"
    },
    "tags": []
   },
   "outputs": [
    {
     "data": {
      "text/html": [
       "<table class=\"dataframe\">\n",
       "<caption>A tibble: 2 × 2</caption>\n",
       "<thead>\n",
       "\t<tr><th scope=col>member_casual</th><th scope=col>count</th></tr>\n",
       "\t<tr><th scope=col>&lt;chr&gt;</th><th scope=col>&lt;int&gt;</th></tr>\n",
       "</thead>\n",
       "<tbody>\n",
       "\t<tr><td>casual</td><td>1574890</td></tr>\n",
       "\t<tr><td>member</td><td>2173843</td></tr>\n",
       "</tbody>\n",
       "</table>\n"
      ],
      "text/latex": [
       "A tibble: 2 × 2\n",
       "\\begin{tabular}{ll}\n",
       " member\\_casual & count\\\\\n",
       " <chr> & <int>\\\\\n",
       "\\hline\n",
       "\t casual & 1574890\\\\\n",
       "\t member & 2173843\\\\\n",
       "\\end{tabular}\n"
      ],
      "text/markdown": [
       "\n",
       "A tibble: 2 × 2\n",
       "\n",
       "| member_casual &lt;chr&gt; | count &lt;int&gt; |\n",
       "|---|---|\n",
       "| casual | 1574890 |\n",
       "| member | 2173843 |\n",
       "\n"
      ],
      "text/plain": [
       "  member_casual count  \n",
       "1 casual        1574890\n",
       "2 member        2173843"
      ]
     },
     "metadata": {},
     "output_type": "display_data"
    }
   ],
   "source": [
    "# Number of casual riders and members\n",
    "all_trips_v2 %>% group_by(member_casual) %>% summarize(count = n())"
   ]
  },
  {
   "cell_type": "markdown",
   "id": "72cbc262",
   "metadata": {
    "papermill": {
     "duration": 0.048506,
     "end_time": "2021-07-07T07:20:18.771979",
     "exception": false,
     "start_time": "2021-07-07T07:20:18.723473",
     "status": "completed"
    },
    "tags": []
   },
   "source": [
    "## Share Phase  \n",
    "Now let's create some compelling visuals for the above analysis to make it more accessible to the audience and to share our findings in an easy way."
   ]
  },
  {
   "cell_type": "code",
   "execution_count": 17,
   "id": "f3e5e2b5",
   "metadata": {
    "execution": {
     "iopub.execute_input": "2021-07-07T07:20:18.878100Z",
     "iopub.status.busy": "2021-07-07T07:20:18.875701Z",
     "iopub.status.idle": "2021-07-07T07:20:26.685657Z",
     "shell.execute_reply": "2021-07-07T07:20:26.684626Z"
    },
    "papermill": {
     "duration": 7.864427,
     "end_time": "2021-07-07T07:20:26.685880",
     "exception": false,
     "start_time": "2021-07-07T07:20:18.821453",
     "status": "completed"
    },
    "tags": []
   },
   "outputs": [
    {
     "data": {
      "image/png": "[encoded data removed]"
     },
     "metadata": {
      "image/png": {
       "height": 420,
       "width": 840
      }
     },
     "output_type": "display_data"
    }
   ],
   "source": [
    "# Creating separate bar charts for members and casual riders denoting the number of trips taken by each in a week throughout the year\n",
    "set_plot_dimensions <- function(width_choice, height_choice) {\n",
    "        options(repr.plot.width=width_choice, repr.plot.height=height_choice)\n",
    "        }\n",
    "set_plot_dimensions(14, 7)\n",
    "ggplot(data = all_trips_v2) + geom_bar(mapping = aes(x = day_of_week, fill = day_of_week)) + facet_wrap(~member_casual) +\n",
    "theme(axis.text.x = element_text(angle = 45)) + labs(title = \"Number of Trips by Rider Type during the week throughout the year\", caption = \"Data From June 2020 to May 2021\", x = \"Day of the Week\", y = \"Number of Trips\") \n"
   ]
  },
  {
   "cell_type": "markdown",
   "id": "c73f071b",
   "metadata": {
    "papermill": {
     "duration": 0.050656,
     "end_time": "2021-07-07T07:20:26.787741",
     "exception": false,
     "start_time": "2021-07-07T07:20:26.737085",
     "status": "completed"
    },
    "tags": []
   },
   "source": [
    "We can clearly see that there is a high demand among casual riders during weekend which sharply declines during the weekday while Cyclistic members have a steady increase in demand with a little decrease on Thursday."
   ]
  },
  {
   "cell_type": "code",
   "execution_count": 18,
   "id": "15539bfe",
   "metadata": {
    "execution": {
     "iopub.execute_input": "2021-07-07T07:20:26.897039Z",
     "iopub.status.busy": "2021-07-07T07:20:26.895310Z",
     "iopub.status.idle": "2021-07-07T07:20:27.486043Z",
     "shell.execute_reply": "2021-07-07T07:20:27.484763Z"
    },
    "papermill": {
     "duration": 0.647142,
     "end_time": "2021-07-07T07:20:27.486200",
     "exception": false,
     "start_time": "2021-07-07T07:20:26.839058",
     "status": "completed"
    },
    "tags": []
   },
   "outputs": [
    {
     "data": {
      "image/png": "[encoded data removed]"
     },
     "metadata": {
      "image/png": {
       "height": 420,
       "width": 840
      }
     },
     "output_type": "display_data"
    }
   ],
   "source": [
    "# Creating column charts comparing the average trip time by a casual rider and a member in a week\n",
    "temp_data <- all_trips_v2 %>% group_by(member_casual, day_of_week) %>%\n",
    "    summarize(mean_trip_duration = mean(trip_duration), .groups = \"drop\") %>%\n",
    "    ggplot() + geom_col(mapping = aes(x = day_of_week, y = mean_trip_duration, fill = member_casual), position = \"dodge\")\n",
    "\n",
    "temp_data + labs(title = \"Average Trip Duration by Rider Type during the week throughout the year\", caption = \"Data from June 2020 to May 2021\", x = \"Day of the Week\", y = \"Average Time\")"
   ]
  },
  {
   "cell_type": "markdown",
   "id": "5acac1b6",
   "metadata": {
    "papermill": {
     "duration": 0.052501,
     "end_time": "2021-07-07T07:20:27.590967",
     "exception": false,
     "start_time": "2021-07-07T07:20:27.538466",
     "status": "completed"
    },
    "tags": []
   },
   "source": [
    "On average, a casual rider uses a bike for more duration in a day as compared to a cyclistic member even though the number of trips taken by a casual rider is less as compared to that by members in a weekday. The average time for members is almost same in the weekdays."
   ]
  },
  {
   "cell_type": "code",
   "execution_count": 19,
   "id": "0e63b25f",
   "metadata": {
    "execution": {
     "iopub.execute_input": "2021-07-07T07:20:27.701910Z",
     "iopub.status.busy": "2021-07-07T07:20:27.700112Z",
     "iopub.status.idle": "2021-07-07T07:20:31.555784Z",
     "shell.execute_reply": "2021-07-07T07:20:31.554449Z"
    },
    "papermill": {
     "duration": 3.91247,
     "end_time": "2021-07-07T07:20:31.555937",
     "exception": false,
     "start_time": "2021-07-07T07:20:27.643467",
     "status": "completed"
    },
    "tags": []
   },
   "outputs": [
    {
     "data": {
      "image/png": "[encoded data removed]"
     },
     "metadata": {
      "image/png": {
       "height": 420,
       "width": 840
      }
     },
     "output_type": "display_data"
    }
   ],
   "source": [
    "# Creating a plot to determine the most popular type of bike among casual riders and members\n",
    "ggplot(data = all_trips_v2) + geom_bar(mapping = aes(x = rideable_type, fill = member_casual), position = \"dodge\") +\n",
    "labs(title = \"Types of Bikes used by Casual Riders and Members\", caption = \"Data from June 2020 to May 2021\", x = \"Type of Bike\", y = \"Number of Bikes used\")"
   ]
  },
  {
   "cell_type": "markdown",
   "id": "67c5fa52",
   "metadata": {
    "papermill": {
     "duration": 0.055086,
     "end_time": "2021-07-07T07:20:31.667666",
     "exception": false,
     "start_time": "2021-07-07T07:20:31.612580",
     "status": "completed"
    },
    "tags": []
   },
   "source": [
    "**Docked Bikes** are the clear winners here."
   ]
  },
  {
   "cell_type": "code",
   "execution_count": 20,
   "id": "bc0724a0",
   "metadata": {
    "execution": {
     "iopub.execute_input": "2021-07-07T07:20:31.781863Z",
     "iopub.status.busy": "2021-07-07T07:20:31.780413Z",
     "iopub.status.idle": "2021-07-07T07:20:32.297026Z",
     "shell.execute_reply": "2021-07-07T07:20:32.295252Z"
    },
    "papermill": {
     "duration": 0.575927,
     "end_time": "2021-07-07T07:20:32.297179",
     "exception": false,
     "start_time": "2021-07-07T07:20:31.721252",
     "status": "completed"
    },
    "tags": []
   },
   "outputs": [
    {
     "data": {
      "image/png": "[encoded data removed]"
     },
     "metadata": {
      "image/png": {
       "height": 420,
       "width": 840
      }
     },
     "output_type": "display_data"
    }
   ],
   "source": [
    "# Plot to show the trend of bike trips throughout the year.\n",
    "temp_data2 <- all_trips_v2 %>% group_by(member_casual, month)%>%\n",
    "    summarize(number_of_trips = n(), .groups = \"drop\") %>%\n",
    "    arrange(month)%>%\n",
    "    ggplot() + geom_col(mapping = aes(x = month, y = number_of_trips, fill = member_casual), position = \"dodge\")\n",
    "\n",
    "temp_data2 + labs(title = \"Trend of number of bike trips by Rider Type in each month throughout the year\", subtitle = \"Months are represented by 01(Jan), 02(Feb), ....12(Dec)\", caption = \"Data from June 2020 to May 2021\", x = \"Month\", y = \"Number of Trips\")"
   ]
  },
  {
   "cell_type": "markdown",
   "id": "42e5f462",
   "metadata": {
    "papermill": {
     "duration": 0.056446,
     "end_time": "2021-07-07T07:20:32.410012",
     "exception": false,
     "start_time": "2021-07-07T07:20:32.353566",
     "status": "completed"
    },
    "tags": []
   },
   "source": [
    "Most number of bike trips took place in the month of August, 2020 in the period June 2020 - May 2021."
   ]
  },
  {
   "cell_type": "markdown",
   "id": "635cab31",
   "metadata": {
    "papermill": {
     "duration": 0.05598,
     "end_time": "2021-07-07T07:20:32.521384",
     "exception": false,
     "start_time": "2021-07-07T07:20:32.465404",
     "status": "completed"
    },
    "tags": []
   },
   "source": [
    "## Act Phase\n",
    "**Now it's time to share my conclusions and insights that could help my team and business and also share some recommendations.**  \n",
    "1) From the first viz. we can see that the number of trips taken by casual riders is high during the weekends and it decreases during the weekdays. Also, they ride the bikes for a longer period on an average as compared to members and there is no consistency in their trip durations. This implies that the casual riders use the bikes as a mode of recreation in their leisure time which is for most of the people in the weekend.  \n",
    "2) We don't see a drastic change in the number of trips by members throughout the week and they are overall high. Also, the average trip duration stays more or less the same for the members during the weekday. This implies that the members use bikes for their daily commute to their office / work.  \n",
    "3) Docked bikes are prefered by both members and casual riders\n",
    "4) The period over which the analysis took place(June 2020 - May 2021), August 2020 was the busiest and attracted a lot of traffic.\n",
    "\n",
    "### Recommendations  \n",
    "\n",
    "To convert the casual riders into Cyclistic Members, I would recommend the following:\n",
    "1) The company can offer discounts on bike rides on weekends if the casual riders become a member as casual riders prefer riding on the weekends so they would like this deal.  \n",
    "2) The company should run promotions / offers on weekends as casual riders are present in large amounts on weekends so the conversion rate from casual riders to members will be higher.  \n",
    "3) Even though more data is required and more analysis is needed to be done but if August is the busiest month of the year, the company should run all sorts of promotions throughout the month to attract casual riders to buy annual memberships.  \n",
    "4) Advise the casual riders that they should take out time to ride bikes more often during the weekdays as it's good for their health and how buying a membership would save their money.   "
   ]
  }
 ],
 "metadata": {
  "kernelspec": {
   "display_name": "R",
   "language": "R",
   "name": "ir"
  },
  "language_info": {
   "codemirror_mode": "r",
   "file_extension": ".r",
   "mimetype": "text/x-r-source",
   "name": "R",
   "pygments_lexer": "r",
   "version": "4.0.5"
  },
  "papermill": {
   "default_parameters": {},
   "duration": 91.929868,
   "end_time": "2021-07-07T07:20:33.599602",
   "environment_variables": {},
   "exception": null,
   "input_path": "__notebook__.ipynb",
   "output_path": "__notebook__.ipynb",
   "parameters": {},
   "start_time": "2021-07-07T07:19:01.669734",
   "version": "2.3.3"
  }
 },
 "nbformat": 4,
 "nbformat_minor": 5
}
